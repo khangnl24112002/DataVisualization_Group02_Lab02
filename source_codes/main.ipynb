{
 "cells": [
  {
   "cell_type": "markdown",
   "metadata": {},
   "source": [
    "# Lab02: Working with Time Series"
   ]
  },
  {
   "cell_type": "markdown",
   "metadata": {},
   "source": [
    "\n",
    "## 1. Thu thập dữ liệu"
   ]
  },
  {
   "cell_type": "markdown",
   "metadata": {},
   "source": [
    "- Ngữ cảnh để nhóm chúng em tìm kiếm dữ liệu này:\n",
    "- Chủ đề dữ liệu:\n",
    "- Nguồn dữ liệu:\n",
    "- License của dữ liệu:\n",
    "- Phương pháp để thu thập dữ liệu này:\n"
   ]
  },
  {
   "cell_type": "markdown",
   "metadata": {},
   "source": [
    "## 2. Tiền xử lý dữ liệu"
   ]
  },
  {
   "cell_type": "markdown",
   "metadata": {},
   "source": [
    "#### Import thư viện"
   ]
  },
  {
   "cell_type": "code",
   "execution_count": 1,
   "metadata": {},
   "outputs": [],
   "source": [
    "import pandas as pd\n",
    "import numpy as np\n",
    "import matplotlib.pyplot as plt\n",
    "import seaborn as sns\n",
    "import plotly.express as px\n",
    "import plotly.graph_objects as go\n",
    "import sklearn\n",
    "\n",
    "import ipywidgets as widgets\n",
    "from ipywidgets import*\n",
    "from IPython.display import display\n",
    "\n",
    "from plotly.subplots import make_subplots\n",
    "from plotly.offline import iplot\n",
    "from ipyvizzu import Chart, Data, Config, Style\n",
    "\n",
    "import plotly.figure_factory as ff"
   ]
  },
  {
   "cell_type": "markdown",
   "metadata": {},
   "source": [
    "#### Đọc dữ liệu từ file CSV"
   ]
  },
  {
   "cell_type": "code",
   "execution_count": 2,
   "metadata": {},
   "outputs": [],
   "source": [
    "df = pd.read_csv(\"./../datasets/weekly_fuel_prices_all_data_from_2005_to_20221102.csv\",sep=\";\")"
   ]
  },
  {
   "cell_type": "markdown",
   "metadata": {},
   "source": [
    "#### In 5 dòng dữ liệu đầu tiên"
   ]
  },
  {
   "cell_type": "code",
   "execution_count": 3,
   "metadata": {},
   "outputs": [
    {
     "data": {
      "text/html": [
       "<div>\n",
       "<style scoped>\n",
       "    .dataframe tbody tr th:only-of-type {\n",
       "        vertical-align: middle;\n",
       "    }\n",
       "\n",
       "    .dataframe tbody tr th {\n",
       "        vertical-align: top;\n",
       "    }\n",
       "\n",
       "    .dataframe thead th {\n",
       "        text-align: right;\n",
       "    }\n",
       "</style>\n",
       "<table border=\"1\" class=\"dataframe\">\n",
       "  <thead>\n",
       "    <tr style=\"text-align: right;\">\n",
       "      <th></th>\n",
       "      <th>SURVEY_DATE</th>\n",
       "      <th>PRODUCT_ID</th>\n",
       "      <th>PRODUCT_NAME</th>\n",
       "      <th>PRICE</th>\n",
       "      <th>VAT</th>\n",
       "      <th>EXCISE</th>\n",
       "      <th>NET</th>\n",
       "      <th>CHANGE</th>\n",
       "    </tr>\n",
       "  </thead>\n",
       "  <tbody>\n",
       "    <tr>\n",
       "      <th>0</th>\n",
       "      <td>2005-01-03</td>\n",
       "      <td>1</td>\n",
       "      <td>Euro-Super 95</td>\n",
       "      <td>1115.75</td>\n",
       "      <td>185.96</td>\n",
       "      <td>558.64</td>\n",
       "      <td>371.15</td>\n",
       "      <td>-1.57</td>\n",
       "    </tr>\n",
       "    <tr>\n",
       "      <th>1</th>\n",
       "      <td>2005-01-03</td>\n",
       "      <td>2</td>\n",
       "      <td>Automotive gas oil</td>\n",
       "      <td>1018.28</td>\n",
       "      <td>169.71</td>\n",
       "      <td>403.21</td>\n",
       "      <td>445.36</td>\n",
       "      <td>-0.33</td>\n",
       "    </tr>\n",
       "    <tr>\n",
       "      <th>2</th>\n",
       "      <td>2005-01-03</td>\n",
       "      <td>3</td>\n",
       "      <td>Heating gas oil</td>\n",
       "      <td>948.50</td>\n",
       "      <td>158.08</td>\n",
       "      <td>403.21</td>\n",
       "      <td>387.21</td>\n",
       "      <td>-22.55</td>\n",
       "    </tr>\n",
       "    <tr>\n",
       "      <th>3</th>\n",
       "      <td>2005-01-03</td>\n",
       "      <td>5</td>\n",
       "      <td>LPG</td>\n",
       "      <td>552.50</td>\n",
       "      <td>92.08</td>\n",
       "      <td>156.62</td>\n",
       "      <td>303.80</td>\n",
       "      <td>0.22</td>\n",
       "    </tr>\n",
       "    <tr>\n",
       "      <th>4</th>\n",
       "      <td>2005-01-03</td>\n",
       "      <td>6</td>\n",
       "      <td>Residual fuel oil</td>\n",
       "      <td>553.25</td>\n",
       "      <td>50.30</td>\n",
       "      <td>166.84</td>\n",
       "      <td>336.11</td>\n",
       "      <td>-12.21</td>\n",
       "    </tr>\n",
       "  </tbody>\n",
       "</table>\n",
       "</div>"
      ],
      "text/plain": [
       "  SURVEY_DATE  PRODUCT_ID        PRODUCT_NAME    PRICE     VAT  EXCISE  \\\n",
       "0  2005-01-03           1       Euro-Super 95  1115.75  185.96  558.64   \n",
       "1  2005-01-03           2  Automotive gas oil  1018.28  169.71  403.21   \n",
       "2  2005-01-03           3     Heating gas oil   948.50  158.08  403.21   \n",
       "3  2005-01-03           5                 LPG   552.50   92.08  156.62   \n",
       "4  2005-01-03           6   Residual fuel oil   553.25   50.30  166.84   \n",
       "\n",
       "      NET  CHANGE  \n",
       "0  371.15   -1.57  \n",
       "1  445.36   -0.33  \n",
       "2  387.21  -22.55  \n",
       "3  303.80    0.22  \n",
       "4  336.11  -12.21  "
      ]
     },
     "execution_count": 3,
     "metadata": {},
     "output_type": "execute_result"
    }
   ],
   "source": [
    "df.head()"
   ]
  },
  {
   "cell_type": "markdown",
   "metadata": {},
   "source": [
    "#### Thông tin số dòng và số cột"
   ]
  },
  {
   "cell_type": "code",
   "execution_count": 4,
   "metadata": {},
   "outputs": [
    {
     "data": {
      "text/plain": [
       "(5358, 8)"
      ]
     },
     "execution_count": 4,
     "metadata": {},
     "output_type": "execute_result"
    }
   ],
   "source": [
    "df.shape"
   ]
  },
  {
   "cell_type": "markdown",
   "metadata": {},
   "source": [
    " -> Bộ dữ liệu có 5358 dòng và 8 cột"
   ]
  },
  {
   "cell_type": "markdown",
   "metadata": {},
   "source": [
    "### 2.1. Mỗi dòng có ý nghĩa gì? ? Có vấn đề các dòng có ý nghĩa khác nhau không?"
   ]
  },
  {
   "cell_type": "markdown",
   "metadata": {},
   "source": [
    "Mỗi dòng dữ liệu cho biết thông tin xăng dầu theo ngày của mỗi loại xăng ở Ý, cụ thể: giá xăng, vat,...\n",
    "\n",
    "Tất cả các dòng dữ liệu có ý nghĩa hoàn toàn giống nhau và không có ngoại lệ. "
   ]
  },
  {
   "cell_type": "markdown",
   "metadata": {},
   "source": [
    "### 2.2. Mỗi cột có ý nghĩa gì?\n"
   ]
  },
  {
   "cell_type": "code",
   "execution_count": 5,
   "metadata": {},
   "outputs": [
    {
     "data": {
      "text/plain": [
       "Index(['SURVEY_DATE', 'PRODUCT_ID', 'PRODUCT_NAME', 'PRICE', 'VAT', 'EXCISE',\n",
       "       'NET', 'CHANGE'],\n",
       "      dtype='object')"
      ]
     },
     "execution_count": 5,
     "metadata": {},
     "output_type": "execute_result"
    }
   ],
   "source": [
    "df.columns"
   ]
  },
  {
   "cell_type": "markdown",
   "metadata": {},
   "source": [
    "- Cột `SURVEY_DATE` là ngày thực hiện khảo sát\n",
    "- Cột `PRODUCT_ID` là mã số của từng loại xăng dầu \n",
    "- Cột `PRODUCT_NAME` là tên của loại xăng dầu\n",
    "- Cột `PRICE` là giá xăng dầu\n",
    "- Cột `VAT` là thuế giá trị gia tăng VAT\n",
    "- Cột `EXCISE`là thuế tiêu thụ đặc biệt Excise\n",
    "- Cột `NET` là giá trị thực tế của xáng dầu sau khi loại bỏ các khoản thuế.\n",
    "- Cột `CHANGE` là khoảng thay đổi của giá xăng dầu"
   ]
  },
  {
   "cell_type": "markdown",
   "metadata": {},
   "source": [
    "### 2.3. Mỗi cột hiện đang có kiểu dữ liệu gì? Có cột nào có kiểu dữ liệu chưa phù hợp để có thể xử lý tiếp hay không?"
   ]
  },
  {
   "cell_type": "code",
   "execution_count": 6,
   "metadata": {},
   "outputs": [
    {
     "data": {
      "text/plain": [
       "SURVEY_DATE      object\n",
       "PRODUCT_ID        int64\n",
       "PRODUCT_NAME     object\n",
       "PRICE           float64\n",
       "VAT             float64\n",
       "EXCISE          float64\n",
       "NET             float64\n",
       "CHANGE          float64\n",
       "dtype: object"
      ]
     },
     "execution_count": 6,
     "metadata": {},
     "output_type": "execute_result"
    }
   ],
   "source": [
    "df.dtypes"
   ]
  },
  {
   "cell_type": "markdown",
   "metadata": {},
   "source": [
    "- Dữ liệu ở các cột `SURVEY_DATE`, `PRODUCT_NAME` thuộc kiểu non-numeric\n",
    "- Dữ liệu ở các cột `PRODUCT_ID` thuộc kiểu số nguyên\n",
    "- Dữ liệu ở các cột `PRICE`, `VAT`, `EXCISE`, `NET`, `CHANGE` thuộc kiểu số thực"
   ]
  },
  {
   "cell_type": "markdown",
   "metadata": {},
   "source": [
    "### 2.4. Với mỗi cột, các giá trị (dạng số, dạng phân loại) được phân bố như thế nào?"
   ]
  },
  {
   "cell_type": "markdown",
   "metadata": {},
   "source": [
    "#### Phân bố của dữ liệu ở cột `PRICE`"
   ]
  },
  {
   "cell_type": "code",
   "execution_count": 7,
   "metadata": {},
   "outputs": [
    {
     "data": {
      "image/png": "[encoded data removed]",
      "text/plain": [
       "<Figure size 432x288 with 1 Axes>"
      ]
     },
     "metadata": {
      "needs_background": "light"
     },
     "output_type": "display_data"
    }
   ],
   "source": [
    "plt.hist(df['PRICE'], bins=10, rwidth=0.8)\n",
    "plt.title('Distribution of Price')\n",
    "plt.xlabel('Price')\n",
    "plt.ylabel('Frequency')\n",
    "plt.show()"
   ]
  },
  {
   "cell_type": "code",
   "execution_count": 8,
   "metadata": {},
   "outputs": [
    {
     "data": {
      "image/png": "[encoded data removed]",
      "text/plain": [
       "<Figure size 432x288 with 1 Axes>"
      ]
     },
     "metadata": {
      "needs_background": "light"
     },
     "output_type": "display_data"
    }
   ],
   "source": [
    "sns.kdeplot(df['PRICE'])\n",
    "plt.title('Distribution of Price')\n",
    "plt.xlabel('Price')\n",
    "plt.show()"
   ]
  },
  {
   "cell_type": "markdown",
   "metadata": {},
   "source": [
    "#### Phân bố của dữ liệu ở cột `VAT`"
   ]
  },
  {
   "cell_type": "code",
   "execution_count": 9,
   "metadata": {},
   "outputs": [
    {
     "data": {
      "image/png": "[encoded data removed]",
      "text/plain": [
       "<Figure size 432x288 with 1 Axes>"
      ]
     },
     "metadata": {
      "needs_background": "light"
     },
     "output_type": "display_data"
    }
   ],
   "source": [
    "plt.hist(df['VAT'], bins=10, rwidth=0.8)\n",
    "plt.title('Distribution of Vat')\n",
    "plt.xlabel('Vat')\n",
    "plt.ylabel('Frequency')\n",
    "plt.show()"
   ]
  },
  {
   "cell_type": "code",
   "execution_count": 10,
   "metadata": {},
   "outputs": [
    {
     "data": {
      "image/png": "[encoded data removed]",
      "text/plain": [
       "<Figure size 432x288 with 1 Axes>"
      ]
     },
     "metadata": {
      "needs_background": "light"
     },
     "output_type": "display_data"
    }
   ],
   "source": [
    "sns.kdeplot(df['VAT'])\n",
    "plt.title('Distribution of Vat')\n",
    "plt.xlabel('Vat')\n",
    "plt.show()"
   ]
  },
  {
   "cell_type": "markdown",
   "metadata": {},
   "source": [
    "#### Phân bố của dữ liệu ở cột `EXCISE`"
   ]
  },
  {
   "cell_type": "code",
   "execution_count": 11,
   "metadata": {},
   "outputs": [
    {
     "data": {
      "image/png": "[encoded data removed]",
      "text/plain": [
       "<Figure size 432x288 with 1 Axes>"
      ]
     },
     "metadata": {
      "needs_background": "light"
     },
     "output_type": "display_data"
    }
   ],
   "source": [
    "plt.hist(df['EXCISE'], bins=10, rwidth=0.8)\n",
    "plt.title('Distribution of Excise')\n",
    "plt.xlabel('Excise')\n",
    "plt.ylabel('Frequency')\n",
    "plt.show()"
   ]
  },
  {
   "cell_type": "code",
   "execution_count": 12,
   "metadata": {},
   "outputs": [
    {
     "data": {
      "image/png": "[encoded data removed]",
      "text/plain": [
       "<Figure size 432x288 with 1 Axes>"
      ]
     },
     "metadata": {
      "needs_background": "light"
     },
     "output_type": "display_data"
    }
   ],
   "source": [
    "sns.kdeplot(df['EXCISE'])\n",
    "plt.title('Distribution of Excise')\n",
    "plt.xlabel('Excise')\n",
    "plt.show()"
   ]
  },
  {
   "cell_type": "markdown",
   "metadata": {},
   "source": [
    "#### Phân bố của dữ liệu ở cột `NET`"
   ]
  },
  {
   "cell_type": "code",
   "execution_count": 13,
   "metadata": {},
   "outputs": [
    {
     "data": {
      "image/png": "[encoded data removed]",
      "text/plain": [
       "<Figure size 432x288 with 1 Axes>"
      ]
     },
     "metadata": {
      "needs_background": "light"
     },
     "output_type": "display_data"
    }
   ],
   "source": [
    "plt.hist(df['NET'], bins=10, rwidth=0.8)\n",
    "plt.title('Distribution of Net')\n",
    "plt.xlabel('Net')\n",
    "plt.ylabel('Frequency')\n",
    "plt.show()"
   ]
  },
  {
   "cell_type": "code",
   "execution_count": 14,
   "metadata": {},
   "outputs": [
    {
     "data": {
      "image/png": "[encoded data removed]",
      "text/plain": [
       "<Figure size 432x288 with 1 Axes>"
      ]
     },
     "metadata": {
      "needs_background": "light"
     },
     "output_type": "display_data"
    }
   ],
   "source": [
    "sns.kdeplot(df['NET'])\n",
    "plt.title('Distribution of Net')\n",
    "plt.xlabel('Net')\n",
    "plt.show()"
   ]
  },
  {
   "cell_type": "markdown",
   "metadata": {},
   "source": [
    "#### Phân bố của dữ liệu ở cột `CHANGE`"
   ]
  },
  {
   "cell_type": "code",
   "execution_count": 15,
   "metadata": {},
   "outputs": [
    {
     "data": {
      "image/png": "[encoded data removed]",
      "text/plain": [
       "<Figure size 432x288 with 1 Axes>"
      ]
     },
     "metadata": {
      "needs_background": "light"
     },
     "output_type": "display_data"
    }
   ],
   "source": [
    "plt.hist(df['CHANGE'], bins=10, rwidth=0.8)\n",
    "plt.title('Distribution of Change')\n",
    "plt.xlabel('Change')\n",
    "plt.ylabel('Frequency')\n",
    "plt.show()"
   ]
  },
  {
   "cell_type": "code",
   "execution_count": 16,
   "metadata": {},
   "outputs": [
    {
     "data": {
      "image/png": "[encoded data removed]",
      "text/plain": [
       "<Figure size 432x288 with 1 Axes>"
      ]
     },
     "metadata": {
      "needs_background": "light"
     },
     "output_type": "display_data"
    }
   ],
   "source": [
    "sns.kdeplot(df['CHANGE'])\n",
    "plt.title('Distribution of Change')\n",
    "plt.xlabel('Change')\n",
    "plt.show()"
   ]
  },
  {
   "cell_type": "markdown",
   "metadata": {},
   "source": [
    "#### Phân bố của dữ liệu ở cột `PRODUCE_NAME`"
   ]
  },
  {
   "cell_type": "code",
   "execution_count": 17,
   "metadata": {},
   "outputs": [
    {
     "name": "stdout",
     "output_type": "stream",
     "text": [
      "Euro-Super 95         16.666667\n",
      "Automotive gas oil    16.666667\n",
      "Heating gas oil       16.666667\n",
      "LPG                   16.666667\n",
      "Residual fuel oil     16.666667\n",
      "Heavy fuel oil        16.666667\n",
      "Name: PRODUCT_NAME, dtype: float64\n"
     ]
    }
   ],
   "source": [
    "value_counts = df['PRODUCT_NAME'].value_counts()\n",
    "percentages = (value_counts / len(df)) * 100\n",
    "\n",
    "print(percentages)"
   ]
  },
  {
   "cell_type": "markdown",
   "metadata": {},
   "source": [
    "### 2.5. Có cần phải tiền xử lý dữ liệu hay không và nếu có thì nhóm sinh viên cần phải xử lý như thế nào?"
   ]
  },
  {
   "cell_type": "markdown",
   "metadata": {},
   "source": [
    "#### Kiểm tra các cột bị mất dữ liệu"
   ]
  },
  {
   "cell_type": "code",
   "execution_count": 18,
   "metadata": {},
   "outputs": [
    {
     "data": {
      "text/plain": [
       "SURVEY_DATE     0\n",
       "PRODUCT_ID      0\n",
       "PRODUCT_NAME    0\n",
       "PRICE           0\n",
       "VAT             0\n",
       "EXCISE          0\n",
       "NET             0\n",
       "CHANGE          0\n",
       "dtype: int64"
      ]
     },
     "execution_count": 18,
     "metadata": {},
     "output_type": "execute_result"
    }
   ],
   "source": [
    "# find missing values\n",
    "df.isnull().sum()"
   ]
  },
  {
   "cell_type": "markdown",
   "metadata": {},
   "source": [
    "Không có cột nào bị mất dữ liệu"
   ]
  },
  {
   "cell_type": "markdown",
   "metadata": {},
   "source": [
    "#### Chuyển cột `SURVEY_DATE` sang kiểu datetime"
   ]
  },
  {
   "cell_type": "code",
   "execution_count": 19,
   "metadata": {},
   "outputs": [],
   "source": [
    "# convert survey date column to datetime\n",
    "df['SURVEY_DATE'] = pd.to_datetime(df['SURVEY_DATE'])"
   ]
  },
  {
   "cell_type": "markdown",
   "metadata": {},
   "source": [
    "Kiểm tra lại dữ liệu"
   ]
  },
  {
   "cell_type": "code",
   "execution_count": 20,
   "metadata": {},
   "outputs": [
    {
     "data": {
      "text/plain": [
       "SURVEY_DATE     datetime64[ns]\n",
       "PRODUCT_ID               int64\n",
       "PRODUCT_NAME            object\n",
       "PRICE                  float64\n",
       "VAT                    float64\n",
       "EXCISE                 float64\n",
       "NET                    float64\n",
       "CHANGE                 float64\n",
       "dtype: object"
      ]
     },
     "execution_count": 20,
     "metadata": {},
     "output_type": "execute_result"
    }
   ],
   "source": [
    "df.dtypes"
   ]
  },
  {
   "cell_type": "markdown",
   "metadata": {},
   "source": [
    "#### Nhận xét:\n",
    "\n",
    "Dữ liệu không xuất hiện việc mất giá trị, các cột ngoài cột `SURVEY_DATE` trong Dataframe không cần phải xử lý thêm."
   ]
  },
  {
   "cell_type": "markdown",
   "metadata": {},
   "source": [
    "## 3. Khám phá mối quan hệ trong dữ liệu\n",
    "\n",
    "Chúng ta sẽ khám phá các mối quan hệ trong dữ liệu bằng cách đưa ra những câu hỏi và trả lời."
   ]
  },
  {
   "attachments": {},
   "cell_type": "markdown",
   "metadata": {},
   "source": [
    "### 3.1. Đặt câu hỏi\n",
    "\n",
    "**1. Câu hỏi 1:**\n",
    "\t\n",
    "**Nội dung câu hỏi:** Giá xăng dầu có sự biến động như thế nào trong khoảng thời gian từ 2005-2022? Hãy thể hiện sự biến động này cả theo năm và theo từng tháng trong năm.\n",
    "\n",
    "**2. Câu hỏi 2:**\n",
    "\n",
    "**Nội dung câu hỏi** Thống kê giá trị NET của các loại xăng dầu trong 3 năm gần đây (2020-2022). Cho thấy sự chênh lệch của mỗi loại với giá trị trung bình.\n",
    "\n",
    "**3. Câu hỏi 3:**\n",
    "\n",
    "**Nội dung câu hỏi:** Hãy chứng minh cho nhận định rút ra ở câu 2 \"giá xăng dầu (Price) còn phải phụ thuộc vào rất nhiều yếu tố khác như: thuế giá trị gia tăng (VAT) và thuế tiêu thụ đặc biệt (excise tax)\".\n",
    "\n",
    "**4. Câu hỏi 4:**\n",
    "\n",
    "**Nội dung câu hỏi:** Hãy cho thấy sự biến động về giá bán trong thị trường xăng dầu ở Ý với nhiều góc nhìn thời gian khác nhau:\n",
    "- Toàn bộ khoảng thời gian từ 2005-2022\n",
    "- Trong vòng 30 ngày trước\n",
    "- Trong vòng 6 tháng trước\n",
    "- Trong vòng 1 năm trước\n",
    "\n",
    "**5. Câu hỏi 5:** Sự thay đổi giá nhiên liệu theo thời gian?\n",
    "\n",
    "**6. Câu hỏi 6:** Phân phối giá nhiên liệu theo loại sản phẩm?\n",
    "\n",
    "**7. Câu hỏi 7:** Sự tương quan giữa giá nhiên liệu và tỷ lệ VAT/Excise.\n",
    "\n",
    "**8. Câu hỏi 8:**\n"
   ]
  },
  {
   "cell_type": "markdown",
   "metadata": {},
   "source": [
    "### 3.2. Trả lời câu hỏi"
   ]
  },
  {
   "cell_type": "markdown",
   "metadata": {},
   "source": [
    "#### **Câu hỏi 1:**\n",
    "\n",
    "**Loại biểu đồ sử dụng:** biểu đồ thanh dọc (kết hợp hiệu ứng động), biểu đồ đường.\n",
    "\n",
    "**Tính phù hợp của biểu đồ với dữ liệu:** \n",
    "- Biểu đồ thanh dọc và biểu đồ đường là lựa chọn phù hợp để so sánh số liệu hoặc giá trị theo thời gian.\n",
    "\n",
    "- Để nhìn thấy được sự biến động giá các loại xăng dầu theo thời gian:\n",
    "    - Với biểu đồ thanh dọc: sử dụng hiệu ứng trực quan theo từng năm.\n",
    "    - Với biểu đồ đường: lấy trục x của biểu đồ làm trục thời gian, giá xăng dầu là trục y sẽ biến thiên theo thời gian tương ứng.\n",
    "\n",
    "**Trực quan hóa:**\n",
    "\n",
    "***Giá xăng dầu theo năm:*** "
   ]
  },
  {
   "cell_type": "code",
   "execution_count": 21,
   "metadata": {},
   "outputs": [
    {
     "data": {
      "application/javascript": "if (!window.IpyVizzu) {\n  class IpyVizzu {\n    constructor() {\n      IpyVizzu.inhibitScroll = false;\n      IpyVizzu.nbconvert = false;\n      document.addEventListener(\n        \"wheel\",\n        (evt) => {\n          IpyVizzu.inhibitScroll = true;\n        },\n        true\n      );\n      document.addEventListener(\n        \"keydown\",\n        (evt) => {\n          IpyVizzu.inhibitScroll = true;\n        },\n        true\n      );\n      document.addEventListener(\n        \"touchstart\",\n        (evt) => {\n          IpyVizzu.inhibitScroll = true;\n        },\n        true\n      );\n\n      this.elements = {};\n      this.charts = {};\n      this.controls = {};\n\n      this.storage = {};\n      this.displays = {};\n\n      this.events = {};\n      this.loaded = {};\n      this.libs = {};\n    }\n\n    static clearInhibitScroll(element) {\n      if (IpyVizzu.nbconvert) IpyVizzu._hide(element);\n      IpyVizzu.inhibitScroll = false;\n    }\n\n    createChart(element, chartId, vizzulib, divWidth, divHeight) {\n      this.elements[chartId] = document.createElement(\"div\");\n      this.elements[\n        chartId\n      ].style.cssText = `width: ${divWidth}; height: ${divHeight};`;\n      this.loaded[chartId] = import(vizzulib);\n      this.charts[chartId] = this.loaded[chartId].then((Vizzu) => {\n        this.libs[chartId] = Vizzu.default;\n        const VizzuConstructor = Vizzu.default;\n        return new VizzuConstructor(this.elements[chartId]).initializing;\n      });\n      this._moveHere(chartId, element);\n    }\n\n    animate(\n      element,\n      chartId,\n      animId,\n      displayTarget,\n      scrollEnabled,\n      getChartTarget,\n      chartAnimOpts\n    ) {\n      if (IpyVizzu.nbconvert) IpyVizzu._hide(element);\n      if (displayTarget === \"end\") this._moveHere(chartId, element);\n      this.controls[chartId] = this.charts[chartId];\n      this.charts[chartId] = this.charts[chartId].then((chart) => {\n        if (displayTarget === \"actual\") this._moveHere(chartId, element);\n        this._scroll(chartId, scrollEnabled);\n        let chartTarget = getChartTarget(this.libs[chartId]);\n        if (typeof chartTarget === \"string\") {\n          chartTarget = this.storage[chartTarget];\n        } else if (Array.isArray(chartTarget)) {\n          for (let i = 0; i < chartTarget.length; i++) {\n            const target = chartTarget[i].target;\n            if (typeof target === \"string\") {\n              chartTarget[i].target = this.storage[target];\n            }\n          }\n        }\n        chart = chart.animate(chartTarget, chartAnimOpts);\n        this.controls[animId] = chart;\n        return chart;\n      });\n    }\n\n    store(element, chartId, id) {\n      if (IpyVizzu.nbconvert) IpyVizzu._hide(element);\n      this.charts[chartId] = this.charts[chartId].then((chart) => {\n        this.storage[id] = chart.store();\n        return chart;\n      });\n    }\n\n    feature(element, chartId, name, enabled) {\n      if (IpyVizzu.nbconvert) IpyVizzu._hide(element);\n      this.charts[chartId] = this.charts[chartId].then((chart) => {\n        chart.feature(name, enabled);\n        return chart;\n      });\n    }\n\n    setEvent(element, chartId, id, event, handler) {\n      if (IpyVizzu.nbconvert) IpyVizzu._hide(element);\n      this.charts[chartId] = this.charts[chartId].then((chart) => {\n        this.events[id] = handler;\n        chart.on(event, this.events[id]);\n        return chart;\n      });\n    }\n\n    clearEvent(element, chartId, id, event) {\n      if (IpyVizzu.nbconvert) IpyVizzu._hide(element);\n      this.charts[chartId] = this.charts[chartId].then((chart) => {\n        chart.off(event, this.events[id]);\n        return chart;\n      });\n    }\n\n    log(element, chartId, chartProperty) {\n      if (IpyVizzu.nbconvert) IpyVizzu._hide(element);\n      this.charts[chartId] = this.charts[chartId].then((chart) => {\n        console.log(chart[chartProperty]);\n        return chart;\n      });\n    }\n\n    control(element, method, prevId, lastId, ...params) {\n      if (IpyVizzu.nbconvert) IpyVizzu._hide(element);\n      this.controls[prevId].then(() => {\n        this.controls[lastId].activated.then((control) => {\n          if (method === \"seek\") {\n            const value = params[0];\n            control[method](value);\n            return;\n          }\n          if (method === \"store\") {\n            const id = params[0];\n            this.storage[id] = control[method]();\n            return;\n          }\n          control[method]();\n        });\n      });\n    }\n\n    _moveHere(chartId, element) {\n      if (IpyVizzu.nbconvert)\n        IpyVizzu._display(this.elements[chartId], element);\n      element.append(this.elements[chartId]);\n    }\n\n    _scroll(chartId, enabled) {\n      if (!IpyVizzu.inhibitScroll && enabled) {\n        this.elements[chartId].scrollIntoView({\n          behavior: \"auto\",\n          block: \"center\",\n        });\n      }\n    }\n\n    static _hide(element) {\n      document.getElementById(\n        element.selector.substring(1)\n      ).parentNode.style.display = \"none\";\n    }\n\n    static _display(prevElement, element) {\n      if (prevElement.parentNode) {\n        prevElement.parentNode.style.display = \"none\";\n      }\n      document.getElementById(\n        element.selector.substring(1)\n      ).parentNode.style.display = \"flex\";\n      document.getElementById(\n        element.selector.substring(1)\n      ).parentNode.style.margin = \"auto\";\n    }\n  }\n\n  window.IpyVizzu = IpyVizzu;\n  window.ipyvizzu = new window.IpyVizzu();\n}\n"
     },
     "metadata": {},
     "output_type": "display_data"
    },
    {
     "data": {
      "application/javascript": "window.ipyvizzu.createChart(element, '6e4d8e0', 'https://cdn.jsdelivr.net/npm/vizzu@0.7/dist/vizzu.min.js', '800px', '480px');"
     },
     "metadata": {},
     "output_type": "display_data"
    },
    {
     "data": {
      "application/javascript": "window.ipyvizzu.animate(element, '6e4d8e0', '929cb02', 'begin', false, lib => { return {\"data\": {\"series\": [{\"name\": \"GET_YEAR\", \"type\": \"measure\", \"values\": [2005.0, 2005.0, 2005.0, 2005.0, 2005.0, 2005.0, 2006.0, 2006.0, 2006.0, 2006.0, 2006.0, 2006.0, 2007.0, 2007.0, 2007.0, 2007.0, 2007.0, 2007.0, 2008.0, 2008.0, 2008.0, 2008.0, 2008.0, 2008.0, 2009.0, 2009.0, 2009.0, 2009.0, 2009.0, 2009.0, 2010.0, 2010.0, 2010.0, 2010.0, 2010.0, 2010.0, 2011.0, 2011.0, 2011.0, 2011.0, 2011.0, 2011.0, 2012.0, 2012.0, 2012.0, 2012.0, 2012.0, 2012.0, 2013.0, 2013.0, 2013.0, 2013.0, 2013.0, 2013.0, 2014.0, 2014.0, 2014.0, 2014.0, 2014.0, 2014.0, 2015.0, 2015.0, 2015.0, 2015.0, 2015.0, 2015.0, 2016.0, 2016.0, 2016.0, 2016.0, 2016.0, 2016.0, 2017.0, 2017.0, 2017.0, 2017.0, 2017.0, 2017.0, 2018.0, 2018.0, 2018.0, 2018.0, 2018.0, 2018.0, 2019.0, 2019.0, 2019.0, 2019.0, 2019.0, 2019.0, 2020.0, 2020.0, 2020.0, 2020.0, 2020.0, 2020.0, 2021.0, 2021.0, 2021.0, 2021.0, 2021.0, 2021.0, 2022.0, 2022.0, 2022.0, 2022.0, 2022.0, 2022.0]}, {\"name\": \"PRODUCT_NAME\", \"type\": \"dimension\", \"values\": [\"Automotive gas oil\", \"Euro-Super 95\", \"Heating gas oil\", \"Heavy fuel oil\", \"LPG\", \"Residual fuel oil\", \"Automotive gas oil\", \"Euro-Super 95\", \"Heating gas oil\", \"Heavy fuel oil\", \"LPG\", \"Residual fuel oil\", \"Automotive gas oil\", \"Euro-Super 95\", \"Heating gas oil\", \"Heavy fuel oil\", \"LPG\", \"Residual fuel oil\", \"Automotive gas oil\", \"Euro-Super 95\", \"Heating gas oil\", \"Heavy fuel oil\", \"LPG\", \"Residual fuel oil\", \"Automotive gas oil\", \"Euro-Super 95\", \"Heating gas oil\", \"Heavy fuel oil\", \"LPG\", \"Residual fuel oil\", \"Automotive gas oil\", \"Euro-Super 95\", \"Heating gas oil\", \"Heavy fuel oil\", \"LPG\", \"Residual fuel oil\", \"Automotive gas oil\", \"Euro-Super 95\", \"Heating gas oil\", \"Heavy fuel oil\", \"LPG\", \"Residual fuel oil\", \"Automotive gas oil\", \"Euro-Super 95\", \"Heating gas oil\", \"Heavy fuel oil\", \"LPG\", \"Residual fuel oil\", \"Automotive gas oil\", \"Euro-Super 95\", \"Heating gas oil\", \"Heavy fuel oil\", \"LPG\", \"Residual fuel oil\", \"Automotive gas oil\", \"Euro-Super 95\", \"Heating gas oil\", \"Heavy fuel oil\", \"LPG\", \"Residual fuel oil\", \"Automotive gas oil\", \"Euro-Super 95\", \"Heating gas oil\", \"Heavy fuel oil\", \"LPG\", \"Residual fuel oil\", \"Automotive gas oil\", \"Euro-Super 95\", \"Heating gas oil\", \"Heavy fuel oil\", \"LPG\", \"Residual fuel oil\", \"Automotive gas oil\", \"Euro-Super 95\", \"Heating gas oil\", \"Heavy fuel oil\", \"LPG\", \"Residual fuel oil\", \"Automotive gas oil\", \"Euro-Super 95\", \"Heating gas oil\", \"Heavy fuel oil\", \"LPG\", \"Residual fuel oil\", \"Automotive gas oil\", \"Euro-Super 95\", \"Heating gas oil\", \"Heavy fuel oil\", \"LPG\", \"Residual fuel oil\", \"Automotive gas oil\", \"Euro-Super 95\", \"Heating gas oil\", \"Heavy fuel oil\", \"LPG\", \"Residual fuel oil\", \"Automotive gas oil\", \"Euro-Super 95\", \"Heating gas oil\", \"Heavy fuel oil\", \"LPG\", \"Residual fuel oil\", \"Automotive gas oil\", \"Euro-Super 95\", \"Heating gas oil\", \"Heavy fuel oil\", \"LPG\", \"Residual fuel oil\"]}, {\"name\": \"PRICE\", \"type\": \"measure\", \"values\": [1107.9348979591837, 1220.2014285714286, 1048.762857142857, 308.4789795918367, 569.650612244898, 630.9938775510204, 1166.1033333333332, 1286.483725490196, 1117.828431372549, 341.7980392156863, 648.1860784313725, 698.661568627451, 1164.5592, 1300.7024000000001, 1117.5811999999999, 348.24519999999995, 626.694, 695.5731999999999, 1345.7682, 1381.8296, 1301.125, 442.2794, 681.2352000000001, 862.1914, 1082.155294117647, 1234.880980392157, 1041.2858823529411, 344.3345098039216, 563.1419607843137, 754.2982352941176, 1214.1502, 1362.9266, 1176.3210000000001, 439.25699999999995, 659.9362, 838.9214, 1447.6283673469386, 1553.1726530612245, 1356.7357142857143, 564.8840816326531, 755.3242857142857, 948.485306122449, 1705.9466, 1787.1172, 1457.1535999999999, 642.2324, 820.5726, 1011.4828, 1657.225625, 1748.6960416666668, 1409.9983333333332, 571.79875, 801.2547916666666, 965.4160416666667, 1612.6157142857141, 1716.1942857142858, 1382.0622448979593, 541.0569387755103, 770.674693877551, 954.7069387755101, 1405.9668, 1535.7146, 1191.6106, 355.39459999999997, 612.0441999999999, 797.2116000000001, 1280.4954166666666, 1442.7810416666669, 1095.8170833333334, 302.6175, 563.5525, 736.2475, 1382.5095999999999, 1527.6388, 1166.5514, 381.06019999999995, 632.5068, 765.4672, 1490.9122, 1604.386, 1271.1344, 445.1368, 674.6188000000001, 862.6958, 1478.9272, 1573.2723999999998, 1305.8147999999999, 480.4922, 632.3242, 860.7524000000001, 1317.6276923076923, 1431.8503846153847, 1141.8826923076924, 384.5423076923077, 605.4046153846155, 728.0459615384615, 1483.7963461538461, 1622.3284615384616, 1284.9067307692308, 530.1959615384615, 704.176923076923, 831.8280769230769, 1820.9827272727273, 1837.0679545454548, 1770.7902272727274, 762.0684090909091, 821.3686363636364, 1150.5059090909092]}]}} }, undefined);"
     },
     "metadata": {},
     "output_type": "display_data"
    },
    {
     "data": {
      "application/javascript": "window.ipyvizzu.animate(element, '6e4d8e0', '2773731', 'begin', false, lib => { return {\"config\": {\"title\": \"Average fuel price 2005\"}} }, undefined);"
     },
     "metadata": {},
     "output_type": "display_data"
    },
    {
     "data": {
      "application/javascript": "window.ipyvizzu.animate(element, '6e4d8e0', '0a2272d', 'begin', false, lib => { return {\"data\": {\"filter\": record => { return (parseInt(record.GET_YEAR) == 2005) }}, \"config\": {\"channels\": {\"x\": {\"set\": [\"PRODUCT_NAME\"], \"range\": {\"min\": \"-5.9max\"}}, \"y\": {\"set\": [\"PRICE\"], \"range\": {\"max\": 2100}}, \"color\": {\"set\": [\"PRODUCT_NAME\"]}, \"label\": {\"set\": [\"PRICE\"]}}, \"sort\": \"byValue\"}, \"style\": {\"plot\": {\"marker\": {\"label\": {\"maxFractionDigits\": \"0\"}}, \"paddingLeft\": \"10em\", \"xAxis\": {\"title\": {\"color\": \"#475A80\"}}}}} }, {\"duration\": 2, \"delay\": 0, \"x\": {\"easing\": \"linear\", \"delay\": 0}, \"y\": {\"delay\": 0}, \"show\": {\"delay\": 3}, \"hide\": {\"delay\": 0}, \"title\": {\"duration\": 5, \"delay\": 0}});"
     },
     "metadata": {},
     "output_type": "display_data"
    },
    {
     "data": {
      "application/javascript": "window.ipyvizzu.animate(element, '6e4d8e0', 'da1835d', 'begin', false, lib => { return {\"config\": {\"title\": \"Average fuel price 2006\"}} }, undefined);"
     },
     "metadata": {},
     "output_type": "display_data"
    },
    {
     "data": {
      "application/javascript": "window.ipyvizzu.animate(element, '6e4d8e0', 'a8be873', 'begin', false, lib => { return {\"data\": {\"filter\": record => { return (parseInt(record.GET_YEAR) == 2006) }}, \"config\": {\"channels\": {\"x\": {\"set\": [\"PRODUCT_NAME\"], \"range\": {\"min\": \"-5.9max\"}}, \"y\": {\"set\": [\"PRICE\"], \"range\": {\"max\": 2100}}, \"color\": {\"set\": [\"PRODUCT_NAME\"]}, \"label\": {\"set\": [\"PRICE\"]}}, \"sort\": \"byValue\"}, \"style\": {\"plot\": {\"marker\": {\"label\": {\"maxFractionDigits\": \"0\"}}, \"paddingLeft\": \"10em\", \"xAxis\": {\"title\": {\"color\": \"#475A80\"}}}}} }, {\"duration\": 2, \"delay\": 0, \"x\": {\"easing\": \"linear\", \"delay\": 0}, \"y\": {\"delay\": 0}, \"show\": {\"delay\": 3}, \"hide\": {\"delay\": 0}, \"title\": {\"duration\": 5, \"delay\": 0}});"
     },
     "metadata": {},
     "output_type": "display_data"
    },
    {
     "data": {
      "application/javascript": "window.ipyvizzu.animate(element, '6e4d8e0', 'ae4c374', 'begin', false, lib => { return {\"config\": {\"title\": \"Average fuel price 2007\"}} }, undefined);"
     },
     "metadata": {},
     "output_type": "display_data"
    },
    {
     "data": {
      "application/javascript": "window.ipyvizzu.animate(element, '6e4d8e0', '33392ec', 'begin', false, lib => { return {\"data\": {\"filter\": record => { return (parseInt(record.GET_YEAR) == 2007) }}, \"config\": {\"channels\": {\"x\": {\"set\": [\"PRODUCT_NAME\"], \"range\": {\"min\": \"-5.9max\"}}, \"y\": {\"set\": [\"PRICE\"], \"range\": {\"max\": 2100}}, \"color\": {\"set\": [\"PRODUCT_NAME\"]}, \"label\": {\"set\": [\"PRICE\"]}}, \"sort\": \"byValue\"}, \"style\": {\"plot\": {\"marker\": {\"label\": {\"maxFractionDigits\": \"0\"}}, \"paddingLeft\": \"10em\", \"xAxis\": {\"title\": {\"color\": \"#475A80\"}}}}} }, {\"duration\": 2, \"delay\": 0, \"x\": {\"easing\": \"linear\", \"delay\": 0}, \"y\": {\"delay\": 0}, \"show\": {\"delay\": 3}, \"hide\": {\"delay\": 0}, \"title\": {\"duration\": 5, \"delay\": 0}});"
     },
     "metadata": {},
     "output_type": "display_data"
    },
    {
     "data": {
      "application/javascript": "window.ipyvizzu.animate(element, '6e4d8e0', '640ede4', 'begin', false, lib => { return {\"config\": {\"title\": \"Average fuel price 2008\"}} }, undefined);"
     },
     "metadata": {},
     "output_type": "display_data"
    },
    {
     "data": {
      "application/javascript": "window.ipyvizzu.animate(element, '6e4d8e0', '3c29e51', 'begin', false, lib => { return {\"data\": {\"filter\": record => { return (parseInt(record.GET_YEAR) == 2008) }}, \"config\": {\"channels\": {\"x\": {\"set\": [\"PRODUCT_NAME\"], \"range\": {\"min\": \"-5.9max\"}}, \"y\": {\"set\": [\"PRICE\"], \"range\": {\"max\": 2100}}, \"color\": {\"set\": [\"PRODUCT_NAME\"]}, \"label\": {\"set\": [\"PRICE\"]}}, \"sort\": \"byValue\"}, \"style\": {\"plot\": {\"marker\": {\"label\": {\"maxFractionDigits\": \"0\"}}, \"paddingLeft\": \"10em\", \"xAxis\": {\"title\": {\"color\": \"#475A80\"}}}}} }, {\"duration\": 2, \"delay\": 0, \"x\": {\"easing\": \"linear\", \"delay\": 0}, \"y\": {\"delay\": 0}, \"show\": {\"delay\": 3}, \"hide\": {\"delay\": 0}, \"title\": {\"duration\": 5, \"delay\": 0}});"
     },
     "metadata": {},
     "output_type": "display_data"
    },
    {
     "data": {
      "application/javascript": "window.ipyvizzu.animate(element, '6e4d8e0', '33fd2ae', 'begin', false, lib => { return {\"config\": {\"title\": \"Average fuel price 2009\"}} }, undefined);"
     },
     "metadata": {},
     "output_type": "display_data"
    },
    {
     "data": {
      "application/javascript": "window.ipyvizzu.animate(element, '6e4d8e0', '4ba2d0b', 'begin', false, lib => { return {\"data\": {\"filter\": record => { return (parseInt(record.GET_YEAR) == 2009) }}, \"config\": {\"channels\": {\"x\": {\"set\": [\"PRODUCT_NAME\"], \"range\": {\"min\": \"-5.9max\"}}, \"y\": {\"set\": [\"PRICE\"], \"range\": {\"max\": 2100}}, \"color\": {\"set\": [\"PRODUCT_NAME\"]}, \"label\": {\"set\": [\"PRICE\"]}}, \"sort\": \"byValue\"}, \"style\": {\"plot\": {\"marker\": {\"label\": {\"maxFractionDigits\": \"0\"}}, \"paddingLeft\": \"10em\", \"xAxis\": {\"title\": {\"color\": \"#475A80\"}}}}} }, {\"duration\": 2, \"delay\": 0, \"x\": {\"easing\": \"linear\", \"delay\": 0}, \"y\": {\"delay\": 0}, \"show\": {\"delay\": 3}, \"hide\": {\"delay\": 0}, \"title\": {\"duration\": 5, \"delay\": 0}});"
     },
     "metadata": {},
     "output_type": "display_data"
    },
    {
     "data": {
      "application/javascript": "window.ipyvizzu.animate(element, '6e4d8e0', 'fdc6e58', 'begin', false, lib => { return {\"config\": {\"title\": \"Average fuel price 2010\"}} }, undefined);"
     },
     "metadata": {},
     "output_type": "display_data"
    },
    {
     "data": {
      "application/javascript": "window.ipyvizzu.animate(element, '6e4d8e0', '6b86eeb', 'begin', false, lib => { return {\"data\": {\"filter\": record => { return (parseInt(record.GET_YEAR) == 2010) }}, \"config\": {\"channels\": {\"x\": {\"set\": [\"PRODUCT_NAME\"], \"range\": {\"min\": \"-5.9max\"}}, \"y\": {\"set\": [\"PRICE\"], \"range\": {\"max\": 2100}}, \"color\": {\"set\": [\"PRODUCT_NAME\"]}, \"label\": {\"set\": [\"PRICE\"]}}, \"sort\": \"byValue\"}, \"style\": {\"plot\": {\"marker\": {\"label\": {\"maxFractionDigits\": \"0\"}}, \"paddingLeft\": \"10em\", \"xAxis\": {\"title\": {\"color\": \"#475A80\"}}}}} }, {\"duration\": 2, \"delay\": 0, \"x\": {\"easing\": \"linear\", \"delay\": 0}, \"y\": {\"delay\": 0}, \"show\": {\"delay\": 3}, \"hide\": {\"delay\": 0}, \"title\": {\"duration\": 5, \"delay\": 0}});"
     },
     "metadata": {},
     "output_type": "display_data"
    },
    {
     "data": {
      "application/javascript": "window.ipyvizzu.animate(element, '6e4d8e0', '9b06f93', 'begin', false, lib => { return {\"config\": {\"title\": \"Average fuel price 2011\"}} }, undefined);"
     },
     "metadata": {},
     "output_type": "display_data"
    },
    {
     "data": {
      "application/javascript": "window.ipyvizzu.animate(element, '6e4d8e0', 'd9799f1', 'begin', false, lib => { return {\"data\": {\"filter\": record => { return (parseInt(record.GET_YEAR) == 2011) }}, \"config\": {\"channels\": {\"x\": {\"set\": [\"PRODUCT_NAME\"], \"range\": {\"min\": \"-5.9max\"}}, \"y\": {\"set\": [\"PRICE\"], \"range\": {\"max\": 2100}}, \"color\": {\"set\": [\"PRODUCT_NAME\"]}, \"label\": {\"set\": [\"PRICE\"]}}, \"sort\": \"byValue\"}, \"style\": {\"plot\": {\"marker\": {\"label\": {\"maxFractionDigits\": \"0\"}}, \"paddingLeft\": \"10em\", \"xAxis\": {\"title\": {\"color\": \"#475A80\"}}}}} }, {\"duration\": 2, \"delay\": 0, \"x\": {\"easing\": \"linear\", \"delay\": 0}, \"y\": {\"delay\": 0}, \"show\": {\"delay\": 3}, \"hide\": {\"delay\": 0}, \"title\": {\"duration\": 5, \"delay\": 0}});"
     },
     "metadata": {},
     "output_type": "display_data"
    },
    {
     "data": {
      "application/javascript": "window.ipyvizzu.animate(element, '6e4d8e0', 'd545904', 'begin', false, lib => { return {\"config\": {\"title\": \"Average fuel price 2012\"}} }, undefined);"
     },
     "metadata": {},
     "output_type": "display_data"
    },
    {
     "data": {
      "application/javascript": "window.ipyvizzu.animate(element, '6e4d8e0', '43862a9', 'begin', false, lib => { return {\"data\": {\"filter\": record => { return (parseInt(record.GET_YEAR) == 2012) }}, \"config\": {\"channels\": {\"x\": {\"set\": [\"PRODUCT_NAME\"], \"range\": {\"min\": \"-5.9max\"}}, \"y\": {\"set\": [\"PRICE\"], \"range\": {\"max\": 2100}}, \"color\": {\"set\": [\"PRODUCT_NAME\"]}, \"label\": {\"set\": [\"PRICE\"]}}, \"sort\": \"byValue\"}, \"style\": {\"plot\": {\"marker\": {\"label\": {\"maxFractionDigits\": \"0\"}}, \"paddingLeft\": \"10em\", \"xAxis\": {\"title\": {\"color\": \"#475A80\"}}}}} }, {\"duration\": 2, \"delay\": 0, \"x\": {\"easing\": \"linear\", \"delay\": 0}, \"y\": {\"delay\": 0}, \"show\": {\"delay\": 3}, \"hide\": {\"delay\": 0}, \"title\": {\"duration\": 5, \"delay\": 0}});"
     },
     "metadata": {},
     "output_type": "display_data"
    },
    {
     "data": {
      "application/javascript": "window.ipyvizzu.animate(element, '6e4d8e0', '989011d', 'begin', false, lib => { return {\"config\": {\"title\": \"Average fuel price 2013\"}} }, undefined);"
     },
     "metadata": {},
     "output_type": "display_data"
    },
    {
     "data": {
      "application/javascript": "window.ipyvizzu.animate(element, '6e4d8e0', 'be5e307', 'begin', false, lib => { return {\"data\": {\"filter\": record => { return (parseInt(record.GET_YEAR) == 2013) }}, \"config\": {\"channels\": {\"x\": {\"set\": [\"PRODUCT_NAME\"], \"range\": {\"min\": \"-5.9max\"}}, \"y\": {\"set\": [\"PRICE\"], \"range\": {\"max\": 2100}}, \"color\": {\"set\": [\"PRODUCT_NAME\"]}, \"label\": {\"set\": [\"PRICE\"]}}, \"sort\": \"byValue\"}, \"style\": {\"plot\": {\"marker\": {\"label\": {\"maxFractionDigits\": \"0\"}}, \"paddingLeft\": \"10em\", \"xAxis\": {\"title\": {\"color\": \"#475A80\"}}}}} }, {\"duration\": 2, \"delay\": 0, \"x\": {\"easing\": \"linear\", \"delay\": 0}, \"y\": {\"delay\": 0}, \"show\": {\"delay\": 3}, \"hide\": {\"delay\": 0}, \"title\": {\"duration\": 5, \"delay\": 0}});"
     },
     "metadata": {},
     "output_type": "display_data"
    },
    {
     "data": {
      "application/javascript": "window.ipyvizzu.animate(element, '6e4d8e0', '34eb3f7', 'begin', false, lib => { return {\"config\": {\"title\": \"Average fuel price 2014\"}} }, undefined);"
     },
     "metadata": {},
     "output_type": "display_data"
    },
    {
     "data": {
      "application/javascript": "window.ipyvizzu.animate(element, '6e4d8e0', '46b2b08', 'begin', false, lib => { return {\"data\": {\"filter\": record => { return (parseInt(record.GET_YEAR) == 2014) }}, \"config\": {\"channels\": {\"x\": {\"set\": [\"PRODUCT_NAME\"], \"range\": {\"min\": \"-5.9max\"}}, \"y\": {\"set\": [\"PRICE\"], \"range\": {\"max\": 2100}}, \"color\": {\"set\": [\"PRODUCT_NAME\"]}, \"label\": {\"set\": [\"PRICE\"]}}, \"sort\": \"byValue\"}, \"style\": {\"plot\": {\"marker\": {\"label\": {\"maxFractionDigits\": \"0\"}}, \"paddingLeft\": \"10em\", \"xAxis\": {\"title\": {\"color\": \"#475A80\"}}}}} }, {\"duration\": 2, \"delay\": 0, \"x\": {\"easing\": \"linear\", \"delay\": 0}, \"y\": {\"delay\": 0}, \"show\": {\"delay\": 3}, \"hide\": {\"delay\": 0}, \"title\": {\"duration\": 5, \"delay\": 0}});"
     },
     "metadata": {},
     "output_type": "display_data"
    },
    {
     "data": {
      "application/javascript": "window.ipyvizzu.animate(element, '6e4d8e0', '977dc4c', 'begin', false, lib => { return {\"config\": {\"title\": \"Average fuel price 2015\"}} }, undefined);"
     },
     "metadata": {},
     "output_type": "display_data"
    },
    {
     "data": {
      "application/javascript": "window.ipyvizzu.animate(element, '6e4d8e0', '481afda', 'begin', false, lib => { return {\"data\": {\"filter\": record => { return (parseInt(record.GET_YEAR) == 2015) }}, \"config\": {\"channels\": {\"x\": {\"set\": [\"PRODUCT_NAME\"], \"range\": {\"min\": \"-5.9max\"}}, \"y\": {\"set\": [\"PRICE\"], \"range\": {\"max\": 2100}}, \"color\": {\"set\": [\"PRODUCT_NAME\"]}, \"label\": {\"set\": [\"PRICE\"]}}, \"sort\": \"byValue\"}, \"style\": {\"plot\": {\"marker\": {\"label\": {\"maxFractionDigits\": \"0\"}}, \"paddingLeft\": \"10em\", \"xAxis\": {\"title\": {\"color\": \"#475A80\"}}}}} }, {\"duration\": 2, \"delay\": 0, \"x\": {\"easing\": \"linear\", \"delay\": 0}, \"y\": {\"delay\": 0}, \"show\": {\"delay\": 3}, \"hide\": {\"delay\": 0}, \"title\": {\"duration\": 5, \"delay\": 0}});"
     },
     "metadata": {},
     "output_type": "display_data"
    },
    {
     "data": {
      "application/javascript": "window.ipyvizzu.animate(element, '6e4d8e0', 'a60b699', 'begin', false, lib => { return {\"config\": {\"title\": \"Average fuel price 2016\"}} }, undefined);"
     },
     "metadata": {},
     "output_type": "display_data"
    },
    {
     "data": {
      "application/javascript": "window.ipyvizzu.animate(element, '6e4d8e0', '6c1c1a3', 'begin', false, lib => { return {\"data\": {\"filter\": record => { return (parseInt(record.GET_YEAR) == 2016) }}, \"config\": {\"channels\": {\"x\": {\"set\": [\"PRODUCT_NAME\"], \"range\": {\"min\": \"-5.9max\"}}, \"y\": {\"set\": [\"PRICE\"], \"range\": {\"max\": 2100}}, \"color\": {\"set\": [\"PRODUCT_NAME\"]}, \"label\": {\"set\": [\"PRICE\"]}}, \"sort\": \"byValue\"}, \"style\": {\"plot\": {\"marker\": {\"label\": {\"maxFractionDigits\": \"0\"}}, \"paddingLeft\": \"10em\", \"xAxis\": {\"title\": {\"color\": \"#475A80\"}}}}} }, {\"duration\": 2, \"delay\": 0, \"x\": {\"easing\": \"linear\", \"delay\": 0}, \"y\": {\"delay\": 0}, \"show\": {\"delay\": 3}, \"hide\": {\"delay\": 0}, \"title\": {\"duration\": 5, \"delay\": 0}});"
     },
     "metadata": {},
     "output_type": "display_data"
    },
    {
     "data": {
      "application/javascript": "window.ipyvizzu.animate(element, '6e4d8e0', '8f48e8f', 'begin', false, lib => { return {\"config\": {\"title\": \"Average fuel price 2017\"}} }, undefined);"
     },
     "metadata": {},
     "output_type": "display_data"
    },
    {
     "data": {
      "application/javascript": "window.ipyvizzu.animate(element, '6e4d8e0', '7912d05', 'begin', false, lib => { return {\"data\": {\"filter\": record => { return (parseInt(record.GET_YEAR) == 2017) }}, \"config\": {\"channels\": {\"x\": {\"set\": [\"PRODUCT_NAME\"], \"range\": {\"min\": \"-5.9max\"}}, \"y\": {\"set\": [\"PRICE\"], \"range\": {\"max\": 2100}}, \"color\": {\"set\": [\"PRODUCT_NAME\"]}, \"label\": {\"set\": [\"PRICE\"]}}, \"sort\": \"byValue\"}, \"style\": {\"plot\": {\"marker\": {\"label\": {\"maxFractionDigits\": \"0\"}}, \"paddingLeft\": \"10em\", \"xAxis\": {\"title\": {\"color\": \"#475A80\"}}}}} }, {\"duration\": 2, \"delay\": 0, \"x\": {\"easing\": \"linear\", \"delay\": 0}, \"y\": {\"delay\": 0}, \"show\": {\"delay\": 3}, \"hide\": {\"delay\": 0}, \"title\": {\"duration\": 5, \"delay\": 0}});"
     },
     "metadata": {},
     "output_type": "display_data"
    },
    {
     "data": {
      "application/javascript": "window.ipyvizzu.animate(element, '6e4d8e0', '3f2d8a8', 'begin', false, lib => { return {\"config\": {\"title\": \"Average fuel price 2018\"}} }, undefined);"
     },
     "metadata": {},
     "output_type": "display_data"
    },
    {
     "data": {
      "application/javascript": "window.ipyvizzu.animate(element, '6e4d8e0', 'a9dcb55', 'begin', false, lib => { return {\"data\": {\"filter\": record => { return (parseInt(record.GET_YEAR) == 2018) }}, \"config\": {\"channels\": {\"x\": {\"set\": [\"PRODUCT_NAME\"], \"range\": {\"min\": \"-5.9max\"}}, \"y\": {\"set\": [\"PRICE\"], \"range\": {\"max\": 2100}}, \"color\": {\"set\": [\"PRODUCT_NAME\"]}, \"label\": {\"set\": [\"PRICE\"]}}, \"sort\": \"byValue\"}, \"style\": {\"plot\": {\"marker\": {\"label\": {\"maxFractionDigits\": \"0\"}}, \"paddingLeft\": \"10em\", \"xAxis\": {\"title\": {\"color\": \"#475A80\"}}}}} }, {\"duration\": 2, \"delay\": 0, \"x\": {\"easing\": \"linear\", \"delay\": 0}, \"y\": {\"delay\": 0}, \"show\": {\"delay\": 3}, \"hide\": {\"delay\": 0}, \"title\": {\"duration\": 5, \"delay\": 0}});"
     },
     "metadata": {},
     "output_type": "display_data"
    },
    {
     "data": {
      "application/javascript": "window.ipyvizzu.animate(element, '6e4d8e0', '1fabe28', 'begin', false, lib => { return {\"config\": {\"title\": \"Average fuel price 2019\"}} }, undefined);"
     },
     "metadata": {},
     "output_type": "display_data"
    },
    {
     "data": {
      "application/javascript": "window.ipyvizzu.animate(element, '6e4d8e0', 'aa264ae', 'begin', false, lib => { return {\"data\": {\"filter\": record => { return (parseInt(record.GET_YEAR) == 2019) }}, \"config\": {\"channels\": {\"x\": {\"set\": [\"PRODUCT_NAME\"], \"range\": {\"min\": \"-5.9max\"}}, \"y\": {\"set\": [\"PRICE\"], \"range\": {\"max\": 2100}}, \"color\": {\"set\": [\"PRODUCT_NAME\"]}, \"label\": {\"set\": [\"PRICE\"]}}, \"sort\": \"byValue\"}, \"style\": {\"plot\": {\"marker\": {\"label\": {\"maxFractionDigits\": \"0\"}}, \"paddingLeft\": \"10em\", \"xAxis\": {\"title\": {\"color\": \"#475A80\"}}}}} }, {\"duration\": 2, \"delay\": 0, \"x\": {\"easing\": \"linear\", \"delay\": 0}, \"y\": {\"delay\": 0}, \"show\": {\"delay\": 3}, \"hide\": {\"delay\": 0}, \"title\": {\"duration\": 5, \"delay\": 0}});"
     },
     "metadata": {},
     "output_type": "display_data"
    },
    {
     "data": {
      "application/javascript": "window.ipyvizzu.animate(element, '6e4d8e0', '95c071b', 'begin', false, lib => { return {\"config\": {\"title\": \"Average fuel price 2020\"}} }, undefined);"
     },
     "metadata": {},
     "output_type": "display_data"
    },
    {
     "data": {
      "application/javascript": "window.ipyvizzu.animate(element, '6e4d8e0', '11df258', 'begin', false, lib => { return {\"data\": {\"filter\": record => { return (parseInt(record.GET_YEAR) == 2020) }}, \"config\": {\"channels\": {\"x\": {\"set\": [\"PRODUCT_NAME\"], \"range\": {\"min\": \"-5.9max\"}}, \"y\": {\"set\": [\"PRICE\"], \"range\": {\"max\": 2100}}, \"color\": {\"set\": [\"PRODUCT_NAME\"]}, \"label\": {\"set\": [\"PRICE\"]}}, \"sort\": \"byValue\"}, \"style\": {\"plot\": {\"marker\": {\"label\": {\"maxFractionDigits\": \"0\"}}, \"paddingLeft\": \"10em\", \"xAxis\": {\"title\": {\"color\": \"#475A80\"}}}}} }, {\"duration\": 2, \"delay\": 0, \"x\": {\"easing\": \"linear\", \"delay\": 0}, \"y\": {\"delay\": 0}, \"show\": {\"delay\": 3}, \"hide\": {\"delay\": 0}, \"title\": {\"duration\": 5, \"delay\": 0}});"
     },
     "metadata": {},
     "output_type": "display_data"
    },
    {
     "data": {
      "application/javascript": "window.ipyvizzu.animate(element, '6e4d8e0', '24fb264', 'begin', false, lib => { return {\"config\": {\"title\": \"Average fuel price 2021\"}} }, undefined);"
     },
     "metadata": {},
     "output_type": "display_data"
    },
    {
     "data": {
      "application/javascript": "window.ipyvizzu.animate(element, '6e4d8e0', 'b76b515', 'begin', false, lib => { return {\"data\": {\"filter\": record => { return (parseInt(record.GET_YEAR) == 2021) }}, \"config\": {\"channels\": {\"x\": {\"set\": [\"PRODUCT_NAME\"], \"range\": {\"min\": \"-5.9max\"}}, \"y\": {\"set\": [\"PRICE\"], \"range\": {\"max\": 2100}}, \"color\": {\"set\": [\"PRODUCT_NAME\"]}, \"label\": {\"set\": [\"PRICE\"]}}, \"sort\": \"byValue\"}, \"style\": {\"plot\": {\"marker\": {\"label\": {\"maxFractionDigits\": \"0\"}}, \"paddingLeft\": \"10em\", \"xAxis\": {\"title\": {\"color\": \"#475A80\"}}}}} }, {\"duration\": 2, \"delay\": 0, \"x\": {\"easing\": \"linear\", \"delay\": 0}, \"y\": {\"delay\": 0}, \"show\": {\"delay\": 3}, \"hide\": {\"delay\": 0}, \"title\": {\"duration\": 5, \"delay\": 0}});"
     },
     "metadata": {},
     "output_type": "display_data"
    },
    {
     "data": {
      "application/javascript": "window.ipyvizzu.animate(element, '6e4d8e0', 'd85d146', 'begin', false, lib => { return {\"config\": {\"title\": \"Average fuel price 2022\"}} }, undefined);"
     },
     "metadata": {},
     "output_type": "display_data"
    },
    {
     "data": {
      "application/javascript": "window.ipyvizzu.animate(element, '6e4d8e0', 'e196c54', 'begin', false, lib => { return {\"data\": {\"filter\": record => { return (parseInt(record.GET_YEAR) == 2022) }}, \"config\": {\"channels\": {\"x\": {\"set\": [\"PRODUCT_NAME\"], \"range\": {\"min\": \"-5.9max\"}}, \"y\": {\"set\": [\"PRICE\"], \"range\": {\"max\": 2100}}, \"color\": {\"set\": [\"PRODUCT_NAME\"]}, \"label\": {\"set\": [\"PRICE\"]}}, \"sort\": \"byValue\"}, \"style\": {\"plot\": {\"marker\": {\"label\": {\"maxFractionDigits\": \"0\"}}, \"paddingLeft\": \"10em\", \"xAxis\": {\"title\": {\"color\": \"#475A80\"}}}}} }, {\"duration\": 2, \"delay\": 0, \"x\": {\"easing\": \"linear\", \"delay\": 0}, \"y\": {\"delay\": 0}, \"show\": {\"delay\": 3}, \"hide\": {\"delay\": 0}, \"title\": {\"duration\": 5, \"delay\": 0}});"
     },
     "metadata": {},
     "output_type": "display_data"
    }
   ],
   "source": [
    "# Xử lý dữ liệu, tạo dữ liệu cần thiết\n",
    "df1=df.copy()\n",
    "df1['GET_YEAR']=df1['SURVEY_DATE'].dt.year\n",
    "df1= df1.groupby(['GET_YEAR','PRODUCT_NAME'])[\"PRICE\"].mean().reset_index()\n",
    "\n",
    "# Tiến hành trực quan hóa dữ liệu\n",
    "running_chart = Chart(display = \"begin\")\n",
    "running_chart.scroll_into_view = False\n",
    "data=Data()\n",
    "data.add_data_frame(df1)\n",
    "chart = Chart(width=\"500px\", height=\"300px\")\n",
    "running_chart.animate(data)\n",
    "\n",
    "config = Config({\"channels\": {\"x\": { \"set\": [\"PRODUCT_NAME\"], \"range\": { \"min\": \"-5.9max\" } },\"y\": { \"set\": [\"PRICE\"], \"range\": { \"max\": 2100} },\n",
    "                \"color\": { \"set\": [\"PRODUCT_NAME\"] },\n",
    "            \"label\": { \"set\": [\"PRICE\"] }},\n",
    "            \"sort\": 'byValue'})\n",
    "\n",
    "style= Style({\"plot\": {\"marker\": {\"label\": {\"maxFractionDigits\": \"0\"}}, \"paddingLeft\":\"10em\", \"xAxis\": { \"title\": { \"color\" : \"#475A80\" }}}})\n",
    "\n",
    "for year in range(2005, 2023):\n",
    "    running_chart.animate(Config({\"title\": f\"Average fuel price {year}\"}))\n",
    "    running_chart.animate(Data.filter(f\"parseInt(record.GET_YEAR) == {year}\"), \n",
    "                          config,style,\n",
    "                          duration = 2,\n",
    "                          delay = 0,        \n",
    "                          x = { \"easing\": \"linear\", \"delay\": 0 },\n",
    "                          y = { \"delay\": 0 },\n",
    "                          show = { \"delay\": 3 },\n",
    "                          hide = { \"delay\": 0 },\n",
    "                          title = { \"duration\": 5, \"delay\": 0 })"
   ]
  },
  {
   "cell_type": "markdown",
   "metadata": {},
   "source": [
    "***Giá xăng dầu theo từng tháng trong năm:***"
   ]
  },
  {
   "cell_type": "code",
   "execution_count": 22,
   "metadata": {},
   "outputs": [
    {
     "data": {
      "application/javascript": "if (window.IpyVizzu) { window.IpyVizzu.clearInhibitScroll(element); }"
     },
     "metadata": {},
     "output_type": "display_data"
    },
    {
     "data": {
      "image/png": "[encoded data removed]",
      "text/plain": [
       "<Figure size 864x504 with 1 Axes>"
      ]
     },
     "metadata": {},
     "output_type": "display_data"
    }
   ],
   "source": [
    "# Xử lý dữ liệu, tạo dữ liệu cần thiết\n",
    "df2=df.copy()\n",
    "df2 = df2.set_index('SURVEY_DATE').groupby([pd.Grouper(freq='M'),'PRODUCT_NAME'])[['PRICE']].mean()\n",
    "\n",
    "# Tiến hành trực quan hóa dữ liệu\n",
    "sns.set(rc={\"axes.facecolor\":\"#ECF4F5\",\"figure.facecolor\":\"#ECF4F5\"})\n",
    "fig, ax = plt.subplots(1, 1, figsize=(12, 7))\n",
    "sns.lineplot(data=df2, x=\"SURVEY_DATE\", y='PRICE', hue='PRODUCT_NAME', ax=ax)\n",
    "ax.set_ylabel('Average Price', fontweight='bold', color=\"#284371\", family ='Verdana')\n",
    "ax.set_xlabel('Time', fontweight='bold', color=\"#284371\", family ='Verdana')\n",
    "ax.set_title('Average fuel price by month', fontweight='bold', loc='center', color=\"#284371\", family ='Verdana')\n",
    "ax.grid(alpha=0.5)\n",
    "plt.show()"
   ]
  },
  {
   "cell_type": "markdown",
   "metadata": {},
   "source": [
    "**Kỹ thuật trực quan sử dụng:**\n",
    "\n",
    "- Màu sắc: mỗi màu sắc sẽ đại diện cho một loại xăng dầu khác nhau.\n",
    "\n",
    "=> Điều này giúp người xem dễ dàng phân biệt, đưa ra so sánh giữa các loại xăng dầu một cách nhanh chóng."
   ]
  },
  {
   "cell_type": "markdown",
   "metadata": {},
   "source": [
    "**Nhận xét:**\n",
    "\n",
    "<p><img style=\"float:right; margin:5px; padding:5px; max-height:200px\" src=\"https://raw.githubusercontent.com/nonameHiHiHi/SavePicture/main/2048237.png\"></p>\n",
    "<p style=\"text-align:justify;\">\n",
    "\n",
    "\n",
    "Euro-Super 95 luôn là loại xăng có mức giá cao nhất,bởi lẽ nó là loại xăng chất lượng cao, được sản xuất thông qua quy trình công nghệ tiên tiến và cần thiết lọc hoàn chỉnh để đáp ứng các tiêu chuẩn khắt khe của Liên minh châu Âu (EU) về khí thải xe hơi. Được phân phối rộng rãi trên thị trường EU.\n",
    "\n",
    "Heavy fuel oil luôn có giá rẻ hơn những loại xăng dầu khác, bởi lẽ nó có thành phần hydrocarbon nặng hơn và ít được xử lý hơn để sản xuất, nên nó thường được sử dụng cho các mục đích công nghiệp hoặc tàu biển, thay vì sử dụng trong phương tiện giao thông cá nhân. Ngoài ra, chi phí sản xuất, vận chuyển và lưu trữ heavy fuel oil cũng thấp hơn so với các loại xăng dầu khác.\n",
    "   \n",
    "Giá xăng dầu tại Ý có nhiều biến động theo thời gian từ 2005-2022, trong đó có một số cột mốc có sự biến động lớn như:\n",
    "\n",
    "- Trong giai đoạn 2012-2014, giá xăng dầu tăng mạnh, nguyên nhân là do:\n",
    "    - Tình trạng thiếu hụt và cạnh tranh về nguồn cung từ các nhà sản xuất dầu mỏ hàng đầu thế giới.\n",
    "    - Sự biến động của tỷ giá tiền tệ, đặc biệt là khoảng thời gian khi euro giảm giá đối với USD.\n",
    "    - Tăng thuế và phí liên quan đến điều chỉnh giá xăng dầu của chính phủ Ý.\n",
    "    - Không ổn định trong sản xuất năng lượng tái tạo như điện mặt trời và gió, khiến cho người tiêu dùng phải phụ thuộc vào nguồn năng lượng từ dầu mỏ và khí đốt.\n",
    "- Trong năm 2020, giá xăng dầu giảm mạnh, nguyên nhân là do:\n",
    "    - Sự tràn đầy của nguồn cung dầu mỏ toàn cầu trong hoàn cảnh giảm nhu cầu do ảnh hưởng của đại dịch COVID-19, khiến cho giá xăng dầu trên thế giới giảm sút.\n",
    "    - Sự gia tăng sản xuất dầu mỏ từ các quốc gia OPEC+, đặc biệt là một số thành viên mới như Nga và Kazakhstan, đã đẩy giá xăng dầu trở lại mức thấp.\n",
    "</p>\n"
   ]
  },
  {
   "cell_type": "markdown",
   "metadata": {},
   "source": [
    "#### **Câu hỏi 2:**\n",
    "\n",
    "**Loại biểu đồ sử dụng:** biểu đồ thanh ngang."
   ]
  },
  {
   "cell_type": "code",
   "execution_count": 23,
   "metadata": {},
   "outputs": [
    {
     "data": {
      "application/javascript": "if (window.IpyVizzu) { window.IpyVizzu.clearInhibitScroll(element); }"
     },
     "metadata": {},
     "output_type": "display_data"
    },
    {
     "data": {
      "application/vnd.plotly.v1+json": {
       "config": {
        "plotlyServerURL": "https://plot.ly"
       },
       "data": [
        {
         "hovertemplate": " <b>2020:</b> 348 $ | <b>2021:</b> 429 $ | <b>2022:</b> 560 $ <extra></extra>  ",
         "marker": {
          "color": "#19376D"
         },
         "orientation": "h",
         "text": [
          "440"
         ],
         "textangle": 0,
         "textposition": "auto",
         "texttemplate": "<b>%{text} $</b>",
         "type": "bar",
         "width": 0.7,
         "x": [
          440
         ],
         "y": [
          "LPG"
         ]
        },
        {
         "hovertemplate": " <b>2020:</b> 353 $ | <b>2021:</b> 498 $ | <b>2022:</b> 730 $ <extra></extra>  ",
         "marker": {
          "color": "#CCD5E7"
         },
         "orientation": "h",
         "text": [
          "516"
         ],
         "textangle": 0,
         "textposition": "auto",
         "texttemplate": "<b>%{text} $</b>",
         "type": "bar",
         "width": 0.7,
         "x": [
          516
         ],
         "y": [
          "Heavy fuel oil"
         ]
        },
        {
         "hovertemplate": " <b>2020:</b> 495 $ | <b>2021:</b> 589 $ | <b>2022:</b> 879 $ <extra></extra>  ",
         "marker": {
          "color": "#CCD5E7"
         },
         "orientation": "h",
         "text": [
          "642"
         ],
         "textangle": 0,
         "textposition": "auto",
         "texttemplate": "<b>%{text} $</b>",
         "type": "bar",
         "width": 0.7,
         "x": [
          642
         ],
         "y": [
          "Residual fuel oil"
         ]
        },
        {
         "hovertemplate": " <b>2020:</b> 445 $ | <b>2021:</b> 601 $ | <b>2022:</b> 959 $ <extra></extra>  ",
         "marker": {
          "color": "#CCD5E7"
         },
         "orientation": "h",
         "text": [
          "652"
         ],
         "textangle": 0,
         "textposition": "auto",
         "texttemplate": "<b>%{text} $</b>",
         "type": "bar",
         "width": 0.7,
         "x": [
          652
         ],
         "y": [
          "Euro-Super 95"
         ]
        },
        {
         "hovertemplate": " <b>2020:</b> 462 $ | <b>2021:</b> 598 $ | <b>2022:</b> 1057 $ <extra></extra>  ",
         "marker": {
          "color": "#CCD5E7"
         },
         "orientation": "h",
         "text": [
          "687"
         ],
         "textangle": 0,
         "textposition": "auto",
         "texttemplate": "<b>%{text} $</b>",
         "type": "bar",
         "width": 0.7,
         "x": [
          687
         ],
         "y": [
          "Automotive gas oil"
         ]
        },
        {
         "hovertemplate": " <b>2020:</b> 532 $ | <b>2021:</b> 649 $ | <b>2022:</b> 1048 $ <extra></extra>  ",
         "marker": {
          "color": "#19376D"
         },
         "orientation": "h",
         "text": [
          "727"
         ],
         "textangle": 0,
         "textposition": "auto",
         "texttemplate": "<b>%{text} $</b>",
         "type": "bar",
         "width": 0.7,
         "x": [
          727
         ],
         "y": [
          "Heating gas oil"
         ]
        }
       ],
       "layout": {
        "annotations": [
         {
          "font": {
           "color": "#101010",
           "family": "Courier New",
           "size": 13
          },
          "showarrow": false,
          "text": "\"NET\" stands for \"No Extra Charge\" - meaning there are no additional fees or charges.",
          "x": 0,
          "xref": "paper",
          "y": 1.05,
          "yref": "paper"
         },
         {
          "showarrow": false,
          "text": "Average NET Fuel: 611 $",
          "x": 611,
          "xanchor": "left",
          "xref": "x",
          "y": 0,
          "yanchor": "bottom",
          "yref": "y domain"
         }
        ],
        "font": {
         "color": "#101010",
         "family": "Franklin Gothic",
         "size": 10
        },
        "height": 600,
        "images": [
         {
          "sizex": 0.25,
          "sizey": 0.25,
          "sizing": "contain",
          "source": "https://raw.githubusercontent.com/nonameHiHiHi/SavePicture/main/224582%20(1).png",
          "x": 1,
          "xanchor": "right",
          "xref": "paper",
          "y": 0.05,
          "yanchor": "bottom",
          "yref": "paper"
         }
        ],
        "margin": {
         "b": 50,
         "l": 75,
         "r": 70,
         "t": 100
        },
        "paper_bgcolor": "#f5f5f6",
        "plot_bgcolor": "rgba(0,0,0,0)",
        "shapes": [
         {
          "line": {
           "color": "black",
           "dash": "dash",
           "width": 0.75
          },
          "type": "line",
          "x0": 611,
          "x1": 611,
          "xref": "x",
          "y0": 0,
          "y1": 1,
          "yref": "y domain"
         }
        ],
        "showlegend": false,
        "template": {
         "data": {
          "bar": [
           {
            "error_x": {
             "color": "#2a3f5f"
            },
            "error_y": {
             "color": "#2a3f5f"
            },
            "marker": {
             "line": {
              "color": "#E5ECF6",
              "width": 0.5
             },
             "pattern": {
              "fillmode": "overlay",
              "size": 10,
              "solidity": 0.2
             }
            },
            "type": "bar"
           }
          ],
          "barpolar": [
           {
            "marker": {
             "line": {
              "color": "#E5ECF6",
              "width": 0.5
             },
             "pattern": {
              "fillmode": "overlay",
              "size": 10,
              "solidity": 0.2
             }
            },
            "type": "barpolar"
           }
          ],
          "carpet": [
           {
            "aaxis": {
             "endlinecolor": "#2a3f5f",
             "gridcolor": "white",
             "linecolor": "white",
             "minorgridcolor": "white",
             "startlinecolor": "#2a3f5f"
            },
            "baxis": {
             "endlinecolor": "#2a3f5f",
             "gridcolor": "white",
             "linecolor": "white",
             "minorgridcolor": "white",
             "startlinecolor": "#2a3f5f"
            },
            "type": "carpet"
           }
          ],
          "choropleth": [
           {
            "colorbar": {
             "outlinewidth": 0,
             "ticks": ""
            },
            "type": "choropleth"
           }
          ],
          "contour": [
           {
            "colorbar": {
             "outlinewidth": 0,
             "ticks": ""
            },
            "colorscale": [
             [
              0,
              "#0d0887"
             ],
             [
              0.1111111111111111,
              "#46039f"
             ],
             [
              0.2222222222222222,
              "#7201a8"
             ],
             [
              0.3333333333333333,
              "#9c179e"
             ],
             [
              0.4444444444444444,
              "#bd3786"
             ],
             [
              0.5555555555555556,
              "#d8576b"
             ],
             [
              0.6666666666666666,
              "#ed7953"
             ],
             [
              0.7777777777777778,
              "#fb9f3a"
             ],
             [
              0.8888888888888888,
              "#fdca26"
             ],
             [
              1,
              "#f0f921"
             ]
            ],
            "type": "contour"
           }
          ],
          "contourcarpet": [
           {
            "colorbar": {
             "outlinewidth": 0,
             "ticks": ""
            },
            "type": "contourcarpet"
           }
          ],
          "heatmap": [
           {
            "colorbar": {
             "outlinewidth": 0,
             "ticks": ""
            },
            "colorscale": [
             [
              0,
              "#0d0887"
             ],
             [
              0.1111111111111111,
              "#46039f"
             ],
             [
              0.2222222222222222,
              "#7201a8"
             ],
             [
              0.3333333333333333,
              "#9c179e"
             ],
             [
              0.4444444444444444,
              "#bd3786"
             ],
             [
              0.5555555555555556,
              "#d8576b"
             ],
             [
              0.6666666666666666,
              "#ed7953"
             ],
             [
              0.7777777777777778,
              "#fb9f3a"
             ],
             [
              0.8888888888888888,
              "#fdca26"
             ],
             [
              1,
              "#f0f921"
             ]
            ],
            "type": "heatmap"
           }
          ],
          "heatmapgl": [
           {
            "colorbar": {
             "outlinewidth": 0,
             "ticks": ""
            },
            "colorscale": [
             [
              0,
              "#0d0887"
             ],
             [
              0.1111111111111111,
              "#46039f"
             ],
             [
              0.2222222222222222,
              "#7201a8"
             ],
             [
              0.3333333333333333,
              "#9c179e"
             ],
             [
              0.4444444444444444,
              "#bd3786"
             ],
             [
              0.5555555555555556,
              "#d8576b"
             ],
             [
              0.6666666666666666,
              "#ed7953"
             ],
             [
              0.7777777777777778,
              "#fb9f3a"
             ],
             [
              0.8888888888888888,
              "#fdca26"
             ],
             [
              1,
              "#f0f921"
             ]
            ],
            "type": "heatmapgl"
           }
          ],
          "histogram": [
           {
            "marker": {
             "pattern": {
              "fillmode": "overlay",
              "size": 10,
              "solidity": 0.2
             }
            },
            "type": "histogram"
           }
          ],
          "histogram2d": [
           {
            "colorbar": {
             "outlinewidth": 0,
             "ticks": ""
            },
            "colorscale": [
             [
              0,
              "#0d0887"
             ],
             [
              0.1111111111111111,
              "#46039f"
             ],
             [
              0.2222222222222222,
              "#7201a8"
             ],
             [
              0.3333333333333333,
              "#9c179e"
             ],
             [
              0.4444444444444444,
              "#bd3786"
             ],
             [
              0.5555555555555556,
              "#d8576b"
             ],
             [
              0.6666666666666666,
              "#ed7953"
             ],
             [
              0.7777777777777778,
              "#fb9f3a"
             ],
             [
              0.8888888888888888,
              "#fdca26"
             ],
             [
              1,
              "#f0f921"
             ]
            ],
            "type": "histogram2d"
           }
          ],
          "histogram2dcontour": [
           {
            "colorbar": {
             "outlinewidth": 0,
             "ticks": ""
            },
            "colorscale": [
             [
              0,
              "#0d0887"
             ],
             [
              0.1111111111111111,
              "#46039f"
             ],
             [
              0.2222222222222222,
              "#7201a8"
             ],
             [
              0.3333333333333333,
              "#9c179e"
             ],
             [
              0.4444444444444444,
              "#bd3786"
             ],
             [
              0.5555555555555556,
              "#d8576b"
             ],
             [
              0.6666666666666666,
              "#ed7953"
             ],
             [
              0.7777777777777778,
              "#fb9f3a"
             ],
             [
              0.8888888888888888,
              "#fdca26"
             ],
             [
              1,
              "#f0f921"
             ]
            ],
            "type": "histogram2dcontour"
           }
          ],
          "mesh3d": [
           {
            "colorbar": {
             "outlinewidth": 0,
             "ticks": ""
            },
            "type": "mesh3d"
           }
          ],
          "parcoords": [
           {
            "line": {
             "colorbar": {
              "outlinewidth": 0,
              "ticks": ""
             }
            },
            "type": "parcoords"
           }
          ],
          "pie": [
           {
            "automargin": true,
            "type": "pie"
           }
          ],
          "scatter": [
           {
            "fillpattern": {
             "fillmode": "overlay",
             "size": 10,
             "solidity": 0.2
            },
            "type": "scatter"
           }
          ],
          "scatter3d": [
           {
            "line": {
             "colorbar": {
              "outlinewidth": 0,
              "ticks": ""
             }
            },
            "marker": {
             "colorbar": {
              "outlinewidth": 0,
              "ticks": ""
             }
            },
            "type": "scatter3d"
           }
          ],
          "scattercarpet": [
           {
            "marker": {
             "colorbar": {
              "outlinewidth": 0,
              "ticks": ""
             }
            },
            "type": "scattercarpet"
           }
          ],
          "scattergeo": [
           {
            "marker": {
             "colorbar": {
              "outlinewidth": 0,
              "ticks": ""
             }
            },
            "type": "scattergeo"
           }
          ],
          "scattergl": [
           {
            "marker": {
             "colorbar": {
              "outlinewidth": 0,
              "ticks": ""
             }
            },
            "type": "scattergl"
           }
          ],
          "scattermapbox": [
           {
            "marker": {
             "colorbar": {
              "outlinewidth": 0,
              "ticks": ""
             }
            },
            "type": "scattermapbox"
           }
          ],
          "scatterpolar": [
           {
            "marker": {
             "colorbar": {
              "outlinewidth": 0,
              "ticks": ""
             }
            },
            "type": "scatterpolar"
           }
          ],
          "scatterpolargl": [
           {
            "marker": {
             "colorbar": {
              "outlinewidth": 0,
              "ticks": ""
             }
            },
            "type": "scatterpolargl"
           }
          ],
          "scatterternary": [
           {
            "marker": {
             "colorbar": {
              "outlinewidth": 0,
              "ticks": ""
             }
            },
            "type": "scatterternary"
           }
          ],
          "surface": [
           {
            "colorbar": {
             "outlinewidth": 0,
             "ticks": ""
            },
            "colorscale": [
             [
              0,
              "#0d0887"
             ],
             [
              0.1111111111111111,
              "#46039f"
             ],
             [
              0.2222222222222222,
              "#7201a8"
             ],
             [
              0.3333333333333333,
              "#9c179e"
             ],
             [
              0.4444444444444444,
              "#bd3786"
             ],
             [
              0.5555555555555556,
              "#d8576b"
             ],
             [
              0.6666666666666666,
              "#ed7953"
             ],
             [
              0.7777777777777778,
              "#fb9f3a"
             ],
             [
              0.8888888888888888,
              "#fdca26"
             ],
             [
              1,
              "#f0f921"
             ]
            ],
            "type": "surface"
           }
          ],
          "table": [
           {
            "cells": {
             "fill": {
              "color": "#EBF0F8"
             },
             "line": {
              "color": "white"
             }
            },
            "header": {
             "fill": {
              "color": "#C8D4E3"
             },
             "line": {
              "color": "white"
             }
            },
            "type": "table"
           }
          ]
         },
         "layout": {
          "annotationdefaults": {
           "arrowcolor": "#2a3f5f",
           "arrowhead": 0,
           "arrowwidth": 1
          },
          "autotypenumbers": "strict",
          "coloraxis": {
           "colorbar": {
            "outlinewidth": 0,
            "ticks": ""
           }
          },
          "colorscale": {
           "diverging": [
            [
             0,
             "#8e0152"
            ],
            [
             0.1,
             "#c51b7d"
            ],
            [
             0.2,
             "#de77ae"
            ],
            [
             0.3,
             "#f1b6da"
            ],
            [
             0.4,
             "#fde0ef"
            ],
            [
             0.5,
             "#f7f7f7"
            ],
            [
             0.6,
             "#e6f5d0"
            ],
            [
             0.7,
             "#b8e186"
            ],
            [
             0.8,
             "#7fbc41"
            ],
            [
             0.9,
             "#4d9221"
            ],
            [
             1,
             "#276419"
            ]
           ],
           "sequential": [
            [
             0,
             "#0d0887"
            ],
            [
             0.1111111111111111,
             "#46039f"
            ],
            [
             0.2222222222222222,
             "#7201a8"
            ],
            [
             0.3333333333333333,
             "#9c179e"
            ],
            [
             0.4444444444444444,
             "#bd3786"
            ],
            [
             0.5555555555555556,
             "#d8576b"
            ],
            [
             0.6666666666666666,
             "#ed7953"
            ],
            [
             0.7777777777777778,
             "#fb9f3a"
            ],
            [
             0.8888888888888888,
             "#fdca26"
            ],
            [
             1,
             "#f0f921"
            ]
           ],
           "sequentialminus": [
            [
             0,
             "#0d0887"
            ],
            [
             0.1111111111111111,
             "#46039f"
            ],
            [
             0.2222222222222222,
             "#7201a8"
            ],
            [
             0.3333333333333333,
             "#9c179e"
            ],
            [
             0.4444444444444444,
             "#bd3786"
            ],
            [
             0.5555555555555556,
             "#d8576b"
            ],
            [
             0.6666666666666666,
             "#ed7953"
            ],
            [
             0.7777777777777778,
             "#fb9f3a"
            ],
            [
             0.8888888888888888,
             "#fdca26"
            ],
            [
             1,
             "#f0f921"
            ]
           ]
          },
          "colorway": [
           "#636efa",
           "#EF553B",
           "#00cc96",
           "#ab63fa",
           "#FFA15A",
           "#19d3f3",
           "#FF6692",
           "#B6E880",
           "#FF97FF",
           "#FECB52"
          ],
          "font": {
           "color": "#2a3f5f"
          },
          "geo": {
           "bgcolor": "white",
           "lakecolor": "white",
           "landcolor": "#E5ECF6",
           "showlakes": true,
           "showland": true,
           "subunitcolor": "white"
          },
          "hoverlabel": {
           "align": "left"
          },
          "hovermode": "closest",
          "mapbox": {
           "style": "light"
          },
          "paper_bgcolor": "white",
          "plot_bgcolor": "#E5ECF6",
          "polar": {
           "angularaxis": {
            "gridcolor": "white",
            "linecolor": "white",
            "ticks": ""
           },
           "bgcolor": "#E5ECF6",
           "radialaxis": {
            "gridcolor": "white",
            "linecolor": "white",
            "ticks": ""
           }
          },
          "scene": {
           "xaxis": {
            "backgroundcolor": "#E5ECF6",
            "gridcolor": "white",
            "gridwidth": 2,
            "linecolor": "white",
            "showbackground": true,
            "ticks": "",
            "zerolinecolor": "white"
           },
           "yaxis": {
            "backgroundcolor": "#E5ECF6",
            "gridcolor": "white",
            "gridwidth": 2,
            "linecolor": "white",
            "showbackground": true,
            "ticks": "",
            "zerolinecolor": "white"
           },
           "zaxis": {
            "backgroundcolor": "#E5ECF6",
            "gridcolor": "white",
            "gridwidth": 2,
            "linecolor": "white",
            "showbackground": true,
            "ticks": "",
            "zerolinecolor": "white"
           }
          },
          "shapedefaults": {
           "line": {
            "color": "#2a3f5f"
           }
          },
          "ternary": {
           "aaxis": {
            "gridcolor": "white",
            "linecolor": "white",
            "ticks": ""
           },
           "baxis": {
            "gridcolor": "white",
            "linecolor": "white",
            "ticks": ""
           },
           "bgcolor": "#E5ECF6",
           "caxis": {
            "gridcolor": "white",
            "linecolor": "white",
            "ticks": ""
           }
          },
          "title": {
           "x": 0.05
          },
          "xaxis": {
           "automargin": true,
           "gridcolor": "white",
           "linecolor": "white",
           "ticks": "",
           "title": {
            "standoff": 15
           },
           "zerolinecolor": "white",
           "zerolinewidth": 2
          },
          "yaxis": {
           "automargin": true,
           "gridcolor": "white",
           "linecolor": "white",
           "ticks": "",
           "title": {
            "standoff": 15
           },
           "zerolinecolor": "white",
           "zerolinewidth": 2
          }
         }
        },
        "title": {
         "font": {
          "color": "#101010",
          "family": "Franklin Gothic",
          "size": 22
         },
         "text": "<b>NET value of fuel in the last 3 years (2020-2022)</b>"
        },
        "width": 1000,
        "xaxis": {
         "showgrid": false,
         "showline": false,
         "showticklabels": false,
         "tickfont": {
          "color": "#101010",
          "family": "Franklin Gothic",
          "size": 12
         },
         "title": {
          "text": "USD ($)"
         },
         "zeroline": true
        },
        "yaxis": {
         "showgrid": false,
         "showline": false,
         "showticklabels": true,
         "tickfont": {
          "color": "#101010",
          "family": "Franklin Gothic",
          "size": 12
         },
         "zeroline": true,
         "zerolinecolor": "darkgrey",
         "zerolinewidth": 1
        }
       }
      }
     },
     "metadata": {},
     "output_type": "display_data"
    }
   ],
   "source": [
    "# Xử lý dữ liệu, tạo dữ liệu cần thiết\n",
    "df3=df.copy()\n",
    "df3['GET_YEAR']=df3['SURVEY_DATE'].dt.year\n",
    "df3 = df3.loc[(df3['GET_YEAR'] >= 2020)]\n",
    "temp = df3.groupby(['PRODUCT_NAME'])['NET'].agg('mean').astype(int).sort_values()\n",
    "year_values = df3.groupby(['PRODUCT_NAME','GET_YEAR'])['NET'].agg('mean').unstack().astype(int).reset_index()\n",
    "\n",
    "# Tiến hành trực quan hóa dữ liệu\n",
    "layout = go.Layout(\n",
    "                    paper_bgcolor= '#f5f5f6',\n",
    "                    plot_bgcolor='rgba(0,0,0,0)',\n",
    "                    margin = dict( t = 100, b = 50, r = 70, l = 75),\n",
    "                    width = 1000, height = 600,\n",
    "                    font = dict(\n",
    "                                family = \"Franklin Gothic\",\n",
    "                                size = 10,\n",
    "                                color= '#101010',\n",
    "                    ),\n",
    "                    titlefont = dict(\n",
    "                                family =  \"Franklin Gothic\",\n",
    "                                size = 22,\n",
    "                                color = '#101010'\n",
    "                    ),\n",
    "                    title = '<b>NET value of fuel in the last 3 years (2020-2022)</b>',\n",
    "                    xaxis = dict(\n",
    "                              title = 'USD ($)',\n",
    "                              showgrid = False,\n",
    "                              zeroline = True,\n",
    "                              showline = False,\n",
    "                              showticklabels = False,\n",
    "                             tickfont = dict(\n",
    "                                  family = \"Franklin Gothic\",\n",
    "                                  size = 12,\n",
    "                                  color = '#101010'\n",
    "                              ),\n",
    "                    ),\n",
    "                   yaxis = dict(\n",
    "                              showgrid = False,\n",
    "                              zeroline = True,\n",
    "                              showline = False,\n",
    "                              showticklabels = True,\n",
    "                              zerolinecolor = 'darkgrey',\n",
    "                              zerolinewidth = 1,\n",
    "                              tickfont = dict(\n",
    "                                  family = \"Franklin Gothic\",\n",
    "                                  size = 12,\n",
    "                                  color = '#101010'\n",
    "                              ),\n",
    "                   ),\n",
    "                   showlegend = False\n",
    "                )\n",
    "\n",
    "fig = go.Figure(layout = layout)\n",
    "\n",
    "for idx, (x_val,y_val)  in enumerate(zip(temp.values,temp.index)):\n",
    "    hoverval = year_values.loc[year_values['PRODUCT_NAME'] == y_val]\n",
    "    #print(hoverval)\n",
    "    fig.add_trace(go.Bar(x=[x_val],\n",
    "                         y=[y_val],\n",
    "                         marker = dict(\n",
    "                             color = '#19376D' if y_val in ['Heating gas oil','LPG'] else '#CCD5E7'\n",
    "                         ),\n",
    "                         width= 0.7,\n",
    "                         hovertemplate= f''' <b>2020:</b> {round(hoverval.iloc[0,1])} $ | <b>2021:</b> {round(hoverval.iloc[0,2])} $ | <b>2022:</b> {round(hoverval.iloc[0,3])} $ <extra></extra>  ''',\n",
    "                         orientation = 'h',\n",
    "                         text = [x_val],\n",
    "                         textposition=\"auto\",\n",
    "                         texttemplate='<b>%{text} $</b>',\n",
    "                         textangle = 0\n",
    "                        ))\n",
    "\n",
    "fig.add_annotation(xref = 'paper',\n",
    "                   yref = 'paper',\n",
    "                   x = 0, y = 1.05, text = '\"NET\" stands for \"No Extra Charge\" - meaning there are no additional fees or charges.',\n",
    "                   showarrow = False,\n",
    "                   font = dict(\n",
    "                                family = \"Courier New\",\n",
    "                                size = 13,\n",
    "                                color= '#101010',\n",
    "                    ))\n",
    "fig.add_layout_image(\n",
    "    dict(\n",
    "        source=\"https://raw.githubusercontent.com/nonameHiHiHi/SavePicture/main/224582%20(1).png\",\n",
    "        xref=\"paper\",\n",
    "        yref=\"paper\",\n",
    "        x=1.0, y=0.05,\n",
    "        sizex=0.25, sizey=0.25,\n",
    "        xanchor=\"right\", yanchor=\"bottom\", sizing= \"contain\",\n",
    "    )\n",
    ")\n",
    "\n",
    "fig.add_vline(x = round(temp.mean()),line_width=0.75, line_dash=\"dash\", line_color= 'black',annotation= dict(text = f'Average NET Fuel: {round(temp.mean())} $'), annotation_position = 'bottom right')\n",
    "\n",
    "fig.show()"
   ]
  },
  {
   "cell_type": "markdown",
   "metadata": {},
   "source": [
    "**Kỹ thuật trực quan sử dụng:**\n",
    "\n",
    "- Màu sắc: biểu thị màu sắc thanh ngang có giá trị NET thấp nhất và cao nhất bằng màu xanh đậm.\n",
    "\n",
    "=> kỹ thuật này giúp cho người xem có thể nhận thấy ngay 2 loại xăng dầu có giá trị NET thấp nhất và cao nhất ngay lập tức.\n",
    "\n",
    "- Manipulate View: tương tác trực tiếp với đồ thị bằng cách trỏ chuột vào các thanh ngang, nó sẽ hiện lên giá trị NET 3 năm 2020-2022 của loại xăng dầu tương ứng.\n",
    "\n",
    "=> Những kỹ thuật này giúp đồ thị giữ được sự rõ ràng và tinh gọn, cho phép người thấy được thông tin chi tiết khi có nhu cầu muốn xem.\n"
   ]
  },
  {
   "cell_type": "markdown",
   "metadata": {},
   "source": [
    "**Nhận xét:**\n",
    "\n",
    "Kết hợp với biểu đồ 1 ta có nhận xét:\n",
    "\n",
    "- Heavy fuel oil là loại xăng dầu có NET thấp nhất đồng thời cũng có Price thấp nhất. \n",
    "- Tuy Euro-Super 95 là loại xăng có giá (Price) cao nhất, tuy nhiên LPG mới là loại xăng dầu có NET cao nhất. \n",
    "\n",
    "Nguyên nhân là do giá xăng dầu (Price) còn phải phụ thuộc vào rất nhiều yếu tố khác như: thuế giá trị gia tăng (VAT) và thuế tiêu thụ đặc biệt (excise tax). Và giá xăng dầu bán cho người tiêu dùng sẽ thường bao gồm cả giá trị NET và các khoản phí và thuế đã tính vào. "
   ]
  },
  {
   "cell_type": "markdown",
   "metadata": {},
   "source": [
    "#### **Câu hỏi 3:**\n",
    "\n",
    "**Loại biểu đồ sử dụng:** biểu đồ nhiệt (heat map).\n",
    "\n",
    "**Tính phù hợp của biểu đồ với dữ liệu:** dùng biểu đồ nhiệt là phù hợp khi muốn trực quan hóa và phân tích mối quan hệ giữa các biến liên tục trong một bảng dữ liệu. Biểu đồ nhiệt cho phép người xem dễ dàng nhận ra xu hướng, tìm ra các thuộc tính có mối quan hệ tương quan với nhau thông qua việc sử dụng màu sắc.\n",
    "\n",
    "**Trực quan hóa:**"
   ]
  },
  {
   "cell_type": "code",
   "execution_count": 24,
   "metadata": {},
   "outputs": [
    {
     "data": {
      "application/javascript": "if (window.IpyVizzu) { window.IpyVizzu.clearInhibitScroll(element); }"
     },
     "metadata": {},
     "output_type": "display_data"
    },
    {
     "data": {
      "application/vnd.plotly.v1+json": {
       "config": {
        "plotlyServerURL": "https://plot.ly"
       },
       "data": [
        {
         "colorbar": {
          "thickness": 30,
          "ticklen": 3
         },
         "colorscale": [
          [
           0,
           "rgb(161, 105, 40)"
          ],
          [
           0.16666666666666666,
           "rgb(189, 146, 90)"
          ],
          [
           0.3333333333333333,
           "rgb(214, 189, 141)"
          ],
          [
           0.5,
           "rgb(237, 234, 194)"
          ],
          [
           0.6666666666666666,
           "rgb(181, 200, 184)"
          ],
          [
           0.8333333333333334,
           "rgb(121, 167, 172)"
          ],
          [
           1,
           "rgb(40, 135, 161)"
          ]
         ],
         "reversescale": false,
         "showscale": false,
         "type": "heatmap",
         "x": [
          "PRICE",
          "VAT",
          "EXCISE",
          "NET",
          "CHANGE"
         ],
         "xgap": 3,
         "y": [
          "PRICE",
          "VAT",
          "EXCISE",
          "NET",
          "CHANGE"
         ],
         "ygap": 3,
         "z": [
          [
           null,
           null,
           null,
           null,
           null
          ],
          [
           0.95,
           null,
           null,
           null,
           null
          ],
          [
           0.91,
           0.92,
           null,
           null,
           null
          ],
          [
           0.72,
           0.56,
           0.39,
           null,
           null
          ],
          [
           0.03,
           0.02,
           0.01,
           0.05,
           null
          ]
         ],
         "zmax": 1,
         "zmin": -1
        }
       ],
       "layout": {
        "annotations": [
         {
          "font": {
           "color": "#FFFFFF"
          },
          "showarrow": false,
          "text": "nan",
          "x": "PRICE",
          "xref": "x",
          "y": "PRICE",
          "yref": "y"
         },
         {
          "font": {
           "color": "#FFFFFF"
          },
          "showarrow": false,
          "text": "nan",
          "x": "VAT",
          "xref": "x",
          "y": "PRICE",
          "yref": "y"
         },
         {
          "font": {
           "color": "#FFFFFF"
          },
          "showarrow": false,
          "text": "nan",
          "x": "EXCISE",
          "xref": "x",
          "y": "PRICE",
          "yref": "y"
         },
         {
          "font": {
           "color": "#FFFFFF"
          },
          "showarrow": false,
          "text": "nan",
          "x": "NET",
          "xref": "x",
          "y": "PRICE",
          "yref": "y"
         },
         {
          "font": {
           "color": "#FFFFFF"
          },
          "showarrow": false,
          "text": "nan",
          "x": "CHANGE",
          "xref": "x",
          "y": "PRICE",
          "yref": "y"
         },
         {
          "font": {
           "color": "#FFFFFF"
          },
          "showarrow": false,
          "text": "0.95",
          "x": "PRICE",
          "xref": "x",
          "y": "VAT",
          "yref": "y"
         },
         {
          "font": {
           "color": "#FFFFFF"
          },
          "showarrow": false,
          "text": "nan",
          "x": "VAT",
          "xref": "x",
          "y": "VAT",
          "yref": "y"
         },
         {
          "font": {
           "color": "#FFFFFF"
          },
          "showarrow": false,
          "text": "nan",
          "x": "EXCISE",
          "xref": "x",
          "y": "VAT",
          "yref": "y"
         },
         {
          "font": {
           "color": "#FFFFFF"
          },
          "showarrow": false,
          "text": "nan",
          "x": "NET",
          "xref": "x",
          "y": "VAT",
          "yref": "y"
         },
         {
          "font": {
           "color": "#FFFFFF"
          },
          "showarrow": false,
          "text": "nan",
          "x": "CHANGE",
          "xref": "x",
          "y": "VAT",
          "yref": "y"
         },
         {
          "font": {
           "color": "#FFFFFF"
          },
          "showarrow": false,
          "text": "0.91",
          "x": "PRICE",
          "xref": "x",
          "y": "EXCISE",
          "yref": "y"
         },
         {
          "font": {
           "color": "#FFFFFF"
          },
          "showarrow": false,
          "text": "0.92",
          "x": "VAT",
          "xref": "x",
          "y": "EXCISE",
          "yref": "y"
         },
         {
          "font": {
           "color": "#FFFFFF"
          },
          "showarrow": false,
          "text": "nan",
          "x": "EXCISE",
          "xref": "x",
          "y": "EXCISE",
          "yref": "y"
         },
         {
          "font": {
           "color": "#FFFFFF"
          },
          "showarrow": false,
          "text": "nan",
          "x": "NET",
          "xref": "x",
          "y": "EXCISE",
          "yref": "y"
         },
         {
          "font": {
           "color": "#FFFFFF"
          },
          "showarrow": false,
          "text": "nan",
          "x": "CHANGE",
          "xref": "x",
          "y": "EXCISE",
          "yref": "y"
         },
         {
          "font": {
           "color": "#FFFFFF"
          },
          "showarrow": false,
          "text": "0.72",
          "x": "PRICE",
          "xref": "x",
          "y": "NET",
          "yref": "y"
         },
         {
          "font": {
           "color": "#FFFFFF"
          },
          "showarrow": false,
          "text": "0.56",
          "x": "VAT",
          "xref": "x",
          "y": "NET",
          "yref": "y"
         },
         {
          "font": {
           "color": "#FFFFFF"
          },
          "showarrow": false,
          "text": "0.39",
          "x": "EXCISE",
          "xref": "x",
          "y": "NET",
          "yref": "y"
         },
         {
          "font": {
           "color": "#FFFFFF"
          },
          "showarrow": false,
          "text": "nan",
          "x": "NET",
          "xref": "x",
          "y": "NET",
          "yref": "y"
         },
         {
          "font": {
           "color": "#FFFFFF"
          },
          "showarrow": false,
          "text": "nan",
          "x": "CHANGE",
          "xref": "x",
          "y": "NET",
          "yref": "y"
         },
         {
          "font": {
           "color": "#FFFFFF"
          },
          "showarrow": false,
          "text": "0.03",
          "x": "PRICE",
          "xref": "x",
          "y": "CHANGE",
          "yref": "y"
         },
         {
          "font": {
           "color": "#FFFFFF"
          },
          "showarrow": false,
          "text": "0.02",
          "x": "VAT",
          "xref": "x",
          "y": "CHANGE",
          "yref": "y"
         },
         {
          "font": {
           "color": "#FFFFFF"
          },
          "showarrow": false,
          "text": "0.01",
          "x": "EXCISE",
          "xref": "x",
          "y": "CHANGE",
          "yref": "y"
         },
         {
          "font": {
           "color": "#FFFFFF"
          },
          "showarrow": false,
          "text": "0.05",
          "x": "NET",
          "xref": "x",
          "y": "CHANGE",
          "yref": "y"
         },
         {
          "font": {
           "color": "#FFFFFF"
          },
          "showarrow": false,
          "text": "nan",
          "x": "CHANGE",
          "xref": "x",
          "y": "CHANGE",
          "yref": "y"
         }
        ],
        "height": 550,
        "paper_bgcolor": "#C3CBDA",
        "template": {
         "data": {
          "bar": [
           {
            "error_x": {
             "color": "#2a3f5f"
            },
            "error_y": {
             "color": "#2a3f5f"
            },
            "marker": {
             "line": {
              "color": "#E5ECF6",
              "width": 0.5
             },
             "pattern": {
              "fillmode": "overlay",
              "size": 10,
              "solidity": 0.2
             }
            },
            "type": "bar"
           }
          ],
          "barpolar": [
           {
            "marker": {
             "line": {
              "color": "#E5ECF6",
              "width": 0.5
             },
             "pattern": {
              "fillmode": "overlay",
              "size": 10,
              "solidity": 0.2
             }
            },
            "type": "barpolar"
           }
          ],
          "carpet": [
           {
            "aaxis": {
             "endlinecolor": "#2a3f5f",
             "gridcolor": "white",
             "linecolor": "white",
             "minorgridcolor": "white",
             "startlinecolor": "#2a3f5f"
            },
            "baxis": {
             "endlinecolor": "#2a3f5f",
             "gridcolor": "white",
             "linecolor": "white",
             "minorgridcolor": "white",
             "startlinecolor": "#2a3f5f"
            },
            "type": "carpet"
           }
          ],
          "choropleth": [
           {
            "colorbar": {
             "outlinewidth": 0,
             "ticks": ""
            },
            "type": "choropleth"
           }
          ],
          "contour": [
           {
            "colorbar": {
             "outlinewidth": 0,
             "ticks": ""
            },
            "colorscale": [
             [
              0,
              "#0d0887"
             ],
             [
              0.1111111111111111,
              "#46039f"
             ],
             [
              0.2222222222222222,
              "#7201a8"
             ],
             [
              0.3333333333333333,
              "#9c179e"
             ],
             [
              0.4444444444444444,
              "#bd3786"
             ],
             [
              0.5555555555555556,
              "#d8576b"
             ],
             [
              0.6666666666666666,
              "#ed7953"
             ],
             [
              0.7777777777777778,
              "#fb9f3a"
             ],
             [
              0.8888888888888888,
              "#fdca26"
             ],
             [
              1,
              "#f0f921"
             ]
            ],
            "type": "contour"
           }
          ],
          "contourcarpet": [
           {
            "colorbar": {
             "outlinewidth": 0,
             "ticks": ""
            },
            "type": "contourcarpet"
           }
          ],
          "heatmap": [
           {
            "colorbar": {
             "outlinewidth": 0,
             "ticks": ""
            },
            "colorscale": [
             [
              0,
              "#0d0887"
             ],
             [
              0.1111111111111111,
              "#46039f"
             ],
             [
              0.2222222222222222,
              "#7201a8"
             ],
             [
              0.3333333333333333,
              "#9c179e"
             ],
             [
              0.4444444444444444,
              "#bd3786"
             ],
             [
              0.5555555555555556,
              "#d8576b"
             ],
             [
              0.6666666666666666,
              "#ed7953"
             ],
             [
              0.7777777777777778,
              "#fb9f3a"
             ],
             [
              0.8888888888888888,
              "#fdca26"
             ],
             [
              1,
              "#f0f921"
             ]
            ],
            "type": "heatmap"
           }
          ],
          "heatmapgl": [
           {
            "colorbar": {
             "outlinewidth": 0,
             "ticks": ""
            },
            "colorscale": [
             [
              0,
              "#0d0887"
             ],
             [
              0.1111111111111111,
              "#46039f"
             ],
             [
              0.2222222222222222,
              "#7201a8"
             ],
             [
              0.3333333333333333,
              "#9c179e"
             ],
             [
              0.4444444444444444,
              "#bd3786"
             ],
             [
              0.5555555555555556,
              "#d8576b"
             ],
             [
              0.6666666666666666,
              "#ed7953"
             ],
             [
              0.7777777777777778,
              "#fb9f3a"
             ],
             [
              0.8888888888888888,
              "#fdca26"
             ],
             [
              1,
              "#f0f921"
             ]
            ],
            "type": "heatmapgl"
           }
          ],
          "histogram": [
           {
            "marker": {
             "pattern": {
              "fillmode": "overlay",
              "size": 10,
              "solidity": 0.2
             }
            },
            "type": "histogram"
           }
          ],
          "histogram2d": [
           {
            "colorbar": {
             "outlinewidth": 0,
             "ticks": ""
            },
            "colorscale": [
             [
              0,
              "#0d0887"
             ],
             [
              0.1111111111111111,
              "#46039f"
             ],
             [
              0.2222222222222222,
              "#7201a8"
             ],
             [
              0.3333333333333333,
              "#9c179e"
             ],
             [
              0.4444444444444444,
              "#bd3786"
             ],
             [
              0.5555555555555556,
              "#d8576b"
             ],
             [
              0.6666666666666666,
              "#ed7953"
             ],
             [
              0.7777777777777778,
              "#fb9f3a"
             ],
             [
              0.8888888888888888,
              "#fdca26"
             ],
             [
              1,
              "#f0f921"
             ]
            ],
            "type": "histogram2d"
           }
          ],
          "histogram2dcontour": [
           {
            "colorbar": {
             "outlinewidth": 0,
             "ticks": ""
            },
            "colorscale": [
             [
              0,
              "#0d0887"
             ],
             [
              0.1111111111111111,
              "#46039f"
             ],
             [
              0.2222222222222222,
              "#7201a8"
             ],
             [
              0.3333333333333333,
              "#9c179e"
             ],
             [
              0.4444444444444444,
              "#bd3786"
             ],
             [
              0.5555555555555556,
              "#d8576b"
             ],
             [
              0.6666666666666666,
              "#ed7953"
             ],
             [
              0.7777777777777778,
              "#fb9f3a"
             ],
             [
              0.8888888888888888,
              "#fdca26"
             ],
             [
              1,
              "#f0f921"
             ]
            ],
            "type": "histogram2dcontour"
           }
          ],
          "mesh3d": [
           {
            "colorbar": {
             "outlinewidth": 0,
             "ticks": ""
            },
            "type": "mesh3d"
           }
          ],
          "parcoords": [
           {
            "line": {
             "colorbar": {
              "outlinewidth": 0,
              "ticks": ""
             }
            },
            "type": "parcoords"
           }
          ],
          "pie": [
           {
            "automargin": true,
            "type": "pie"
           }
          ],
          "scatter": [
           {
            "fillpattern": {
             "fillmode": "overlay",
             "size": 10,
             "solidity": 0.2
            },
            "type": "scatter"
           }
          ],
          "scatter3d": [
           {
            "line": {
             "colorbar": {
              "outlinewidth": 0,
              "ticks": ""
             }
            },
            "marker": {
             "colorbar": {
              "outlinewidth": 0,
              "ticks": ""
             }
            },
            "type": "scatter3d"
           }
          ],
          "scattercarpet": [
           {
            "marker": {
             "colorbar": {
              "outlinewidth": 0,
              "ticks": ""
             }
            },
            "type": "scattercarpet"
           }
          ],
          "scattergeo": [
           {
            "marker": {
             "colorbar": {
              "outlinewidth": 0,
              "ticks": ""
             }
            },
            "type": "scattergeo"
           }
          ],
          "scattergl": [
           {
            "marker": {
             "colorbar": {
              "outlinewidth": 0,
              "ticks": ""
             }
            },
            "type": "scattergl"
           }
          ],
          "scattermapbox": [
           {
            "marker": {
             "colorbar": {
              "outlinewidth": 0,
              "ticks": ""
             }
            },
            "type": "scattermapbox"
           }
          ],
          "scatterpolar": [
           {
            "marker": {
             "colorbar": {
              "outlinewidth": 0,
              "ticks": ""
             }
            },
            "type": "scatterpolar"
           }
          ],
          "scatterpolargl": [
           {
            "marker": {
             "colorbar": {
              "outlinewidth": 0,
              "ticks": ""
             }
            },
            "type": "scatterpolargl"
           }
          ],
          "scatterternary": [
           {
            "marker": {
             "colorbar": {
              "outlinewidth": 0,
              "ticks": ""
             }
            },
            "type": "scatterternary"
           }
          ],
          "surface": [
           {
            "colorbar": {
             "outlinewidth": 0,
             "ticks": ""
            },
            "colorscale": [
             [
              0,
              "#0d0887"
             ],
             [
              0.1111111111111111,
              "#46039f"
             ],
             [
              0.2222222222222222,
              "#7201a8"
             ],
             [
              0.3333333333333333,
              "#9c179e"
             ],
             [
              0.4444444444444444,
              "#bd3786"
             ],
             [
              0.5555555555555556,
              "#d8576b"
             ],
             [
              0.6666666666666666,
              "#ed7953"
             ],
             [
              0.7777777777777778,
              "#fb9f3a"
             ],
             [
              0.8888888888888888,
              "#fdca26"
             ],
             [
              1,
              "#f0f921"
             ]
            ],
            "type": "surface"
           }
          ],
          "table": [
           {
            "cells": {
             "fill": {
              "color": "#EBF0F8"
             },
             "line": {
              "color": "white"
             }
            },
            "header": {
             "fill": {
              "color": "#C8D4E3"
             },
             "line": {
              "color": "white"
             }
            },
            "type": "table"
           }
          ]
         },
         "layout": {
          "annotationdefaults": {
           "arrowcolor": "#2a3f5f",
           "arrowhead": 0,
           "arrowwidth": 1
          },
          "autotypenumbers": "strict",
          "coloraxis": {
           "colorbar": {
            "outlinewidth": 0,
            "ticks": ""
           }
          },
          "colorscale": {
           "diverging": [
            [
             0,
             "#8e0152"
            ],
            [
             0.1,
             "#c51b7d"
            ],
            [
             0.2,
             "#de77ae"
            ],
            [
             0.3,
             "#f1b6da"
            ],
            [
             0.4,
             "#fde0ef"
            ],
            [
             0.5,
             "#f7f7f7"
            ],
            [
             0.6,
             "#e6f5d0"
            ],
            [
             0.7,
             "#b8e186"
            ],
            [
             0.8,
             "#7fbc41"
            ],
            [
             0.9,
             "#4d9221"
            ],
            [
             1,
             "#276419"
            ]
           ],
           "sequential": [
            [
             0,
             "#0d0887"
            ],
            [
             0.1111111111111111,
             "#46039f"
            ],
            [
             0.2222222222222222,
             "#7201a8"
            ],
            [
             0.3333333333333333,
             "#9c179e"
            ],
            [
             0.4444444444444444,
             "#bd3786"
            ],
            [
             0.5555555555555556,
             "#d8576b"
            ],
            [
             0.6666666666666666,
             "#ed7953"
            ],
            [
             0.7777777777777778,
             "#fb9f3a"
            ],
            [
             0.8888888888888888,
             "#fdca26"
            ],
            [
             1,
             "#f0f921"
            ]
           ],
           "sequentialminus": [
            [
             0,
             "#0d0887"
            ],
            [
             0.1111111111111111,
             "#46039f"
            ],
            [
             0.2222222222222222,
             "#7201a8"
            ],
            [
             0.3333333333333333,
             "#9c179e"
            ],
            [
             0.4444444444444444,
             "#bd3786"
            ],
            [
             0.5555555555555556,
             "#d8576b"
            ],
            [
             0.6666666666666666,
             "#ed7953"
            ],
            [
             0.7777777777777778,
             "#fb9f3a"
            ],
            [
             0.8888888888888888,
             "#fdca26"
            ],
            [
             1,
             "#f0f921"
            ]
           ]
          },
          "colorway": [
           "#636efa",
           "#EF553B",
           "#00cc96",
           "#ab63fa",
           "#FFA15A",
           "#19d3f3",
           "#FF6692",
           "#B6E880",
           "#FF97FF",
           "#FECB52"
          ],
          "font": {
           "color": "#2a3f5f"
          },
          "geo": {
           "bgcolor": "white",
           "lakecolor": "white",
           "landcolor": "#E5ECF6",
           "showlakes": true,
           "showland": true,
           "subunitcolor": "white"
          },
          "hoverlabel": {
           "align": "left"
          },
          "hovermode": "closest",
          "mapbox": {
           "style": "light"
          },
          "paper_bgcolor": "white",
          "plot_bgcolor": "#E5ECF6",
          "polar": {
           "angularaxis": {
            "gridcolor": "white",
            "linecolor": "white",
            "ticks": ""
           },
           "bgcolor": "#E5ECF6",
           "radialaxis": {
            "gridcolor": "white",
            "linecolor": "white",
            "ticks": ""
           }
          },
          "scene": {
           "xaxis": {
            "backgroundcolor": "#E5ECF6",
            "gridcolor": "white",
            "gridwidth": 2,
            "linecolor": "white",
            "showbackground": true,
            "ticks": "",
            "zerolinecolor": "white"
           },
           "yaxis": {
            "backgroundcolor": "#E5ECF6",
            "gridcolor": "white",
            "gridwidth": 2,
            "linecolor": "white",
            "showbackground": true,
            "ticks": "",
            "zerolinecolor": "white"
           },
           "zaxis": {
            "backgroundcolor": "#E5ECF6",
            "gridcolor": "white",
            "gridwidth": 2,
            "linecolor": "white",
            "showbackground": true,
            "ticks": "",
            "zerolinecolor": "white"
           }
          },
          "shapedefaults": {
           "line": {
            "color": "#2a3f5f"
           }
          },
          "ternary": {
           "aaxis": {
            "gridcolor": "white",
            "linecolor": "white",
            "ticks": ""
           },
           "baxis": {
            "gridcolor": "white",
            "linecolor": "white",
            "ticks": ""
           },
           "bgcolor": "#E5ECF6",
           "caxis": {
            "gridcolor": "white",
            "linecolor": "white",
            "ticks": ""
           }
          },
          "title": {
           "x": 0.05
          },
          "xaxis": {
           "automargin": true,
           "gridcolor": "white",
           "linecolor": "white",
           "ticks": "",
           "title": {
            "standoff": 15
           },
           "zerolinecolor": "white",
           "zerolinewidth": 2
          },
          "yaxis": {
           "automargin": true,
           "gridcolor": "white",
           "linecolor": "white",
           "ticks": "",
           "title": {
            "standoff": 15
           },
           "zerolinecolor": "white",
           "zerolinewidth": 2
          }
         }
        },
        "title": {
         "font": {
          "size": 24
         },
         "text": "<b>Correlation Matrix<b>",
         "x": 0.5
        },
        "width": 800,
        "xaxis": {
         "dtick": 1,
         "gridcolor": "rgb(0, 0, 0)",
         "showgrid": false,
         "side": "bottom",
         "ticks": ""
        },
        "yaxis": {
         "autorange": "reversed",
         "dtick": 1,
         "showgrid": false,
         "ticks": "",
         "ticksuffix": "  "
        }
       }
      }
     },
     "metadata": {},
     "output_type": "display_data"
    }
   ],
   "source": [
    "corr = df[['PRICE', 'VAT', 'EXCISE','NET', 'CHANGE']].corr()\n",
    "mask = np.triu(np.ones_like(corr, dtype=bool))\n",
    "corr = corr.mask(mask)\n",
    "fig = ff.create_annotated_heatmap(\n",
    "    z=corr.to_numpy().round(2),\n",
    "    x=list(corr.index.values),\n",
    "    y=list(corr.columns.values),       \n",
    "    xgap=3, ygap=3,\n",
    "    zmin=-1, zmax=1,\n",
    "    colorscale='earth',\n",
    "    colorbar_thickness=30,\n",
    "    colorbar_ticklen=3,\n",
    ")\n",
    "fig.update_layout(title_text='<b>Correlation Matrix<b>',\n",
    "                  title_x=0.5,\n",
    "                  titlefont={'size': 24},\n",
    "                  width=800, height=550,\n",
    "                  xaxis_showgrid=False,\n",
    "                  xaxis={'side': 'bottom'},\n",
    "                  yaxis_showgrid=False,\n",
    "                  yaxis_autorange='reversed',                   \n",
    "                  paper_bgcolor='#C3CBDA',\n",
    "                  )\n",
    "\n",
    "fig.show()"
   ]
  },
  {
   "cell_type": "markdown",
   "metadata": {},
   "source": [
    "<p><img style=\"float:right; margin:5px; padding:5px; max-height:200px\" src=\"https://raw.githubusercontent.com/nonameHiHiHi/SavePicture/main/4072626.png\"></p>\n",
    "<p style=\"text-align:justify;\">\n",
    "\n",
    "**Nhận xét:** từ mức độ màu sắc và hệ số tương quan (correlation coefficient) được thể hiện giữa các thuộc tính trên biểu đồ ta có nhận xét:\n",
    "\n",
    "- Các cặp thuộc tính (PRICE, NET), (PRICE, VAT), (PRICE, EXCISE) có hệ số tương quan lớn (gần bằng 1), và đều dương. Do đó có mối quan hệ tuyến tính giữa hai thuộc tính, trong đó khi một biến tăng thì biến còn lại cũng tăng theo cùng chiều.\n",
    "\n",
    "=> Điều này minh chứng cho nhận định ở câu 2: giá xăng dầu (PRICE) không chỉ phụ thuộc vào giá trị NET mà còn phải phụ thuộc vào rất nhiều yếu tố khác như: thuế giá trị gia tăng (VAT) và thuế tiêu thụ đặc biệt (excise tax). Và khi các giá trị NET, VAT và EXCISE tăng thì sẽ kéo theo giá xăng dầu (PRICE) tăng.\n",
    "\n",
    "- Giữa thuộc tính CHANGE (chỉ sự thay đổi giá của xăng dầu so với giá trị trước đó trong một khoảng thời gian nhất định) và các thuộc tính như PRICE, VAT, EXCISE, NET dường như không có mối quan hệ với nhau (hệ số tương quan xấp xỉ = 0). Bởi lẻ tỉ lệ thay đổi giá của xăng dầu trong một thời gian ngắn (tính theo tuần) sẽ phụ thuộc phần lớn vào thị trường tiêu thụ, tình hình cung cầu,...\n",
    "\n",
    "</p>\n"
   ]
  },
  {
   "cell_type": "markdown",
   "metadata": {},
   "source": [
    "#### **Câu hỏi 4:**\n",
    "\n",
    "**Loại biểu đồ sử dụng:** biểu đồ miền (kết hợp tính năng bộ lọc).\n",
    "\n",
    "**Tính phù hợp của biểu đồ với dữ liệu:** \n",
    "- Biểu đồ miền phù hợp (Area Chart) phù hợp để trực quan hóa, theo dõi sự thay đổi của các số liệu theo thời gian. Đây là một cách tốt để thể hiện xu hướng và biến động của dữ liệu.\n",
    "- Tuy nhiên, các dữ liệu có quá nhiều số liệu, không có sự chênh lệch rõ rệt theo thời gian hoặc không có sự khác biệt về trị số sẽ không phù hợp để sử dụng biểu đồ miền phù hợp.\n",
    "\n",
    "=> Biểu đồ miền là phù hợp để trực quan cho thị trường xăng dầu luôn biến động về giá cả, đặc biệt trong một khoảng thời gian dài (2005-2022).\n",
    "\n",
    "**Trực quan hóa:**"
   ]
  },
  {
   "cell_type": "code",
   "execution_count": 25,
   "metadata": {},
   "outputs": [
    {
     "data": {
      "application/javascript": "if (window.IpyVizzu) { window.IpyVizzu.clearInhibitScroll(element); }"
     },
     "metadata": {},
     "output_type": "display_data"
    },
    {
     "data": {
      "application/vnd.plotly.v1+json": {
       "config": {
        "plotlyServerURL": "https://plot.ly"
       },
       "data": [
        {
         "fillpattern": {
          "shape": ""
         },
         "hovertemplate": "x=%{x}<br>y=%{y}<extra></extra>",
         "legendgroup": "",
         "line": {
          "color": "#5F78A8"
         },
         "marker": {
          "symbol": "circle"
         },
         "mode": "lines",
         "name": "",
         "orientation": "v",
         "showlegend": false,
         "stackgroup": "1",
         "type": "scatter",
         "x": [
          "2005-01-03T00:00:00",
          "2005-01-10T00:00:00",
          "2005-01-17T00:00:00",
          "2005-01-24T00:00:00",
          "2005-01-31T00:00:00",
          "2005-02-07T00:00:00",
          "2005-02-14T00:00:00",
          "2005-02-21T00:00:00",
          "2005-02-28T00:00:00",
          "2005-03-07T00:00:00",
          "2005-03-14T00:00:00",
          "2005-03-21T00:00:00",
          "2005-04-04T00:00:00",
          "2005-04-11T00:00:00",
          "2005-04-18T00:00:00",
          "2005-04-25T00:00:00",
          "2005-05-02T00:00:00",
          "2005-05-09T00:00:00",
          "2005-05-16T00:00:00",
          "2005-05-23T00:00:00",
          "2005-05-30T00:00:00",
          "2005-06-06T00:00:00",
          "2005-06-13T00:00:00",
          "2005-06-20T00:00:00",
          "2005-06-27T00:00:00",
          "2005-07-04T00:00:00",
          "2005-07-11T00:00:00",
          "2005-07-18T00:00:00",
          "2005-07-25T00:00:00",
          "2005-08-01T00:00:00",
          "2005-08-08T00:00:00",
          "2005-08-22T00:00:00",
          "2005-08-29T00:00:00",
          "2005-09-05T00:00:00",
          "2005-09-12T00:00:00",
          "2005-09-19T00:00:00",
          "2005-09-26T00:00:00",
          "2005-10-03T00:00:00",
          "2005-10-10T00:00:00",
          "2005-10-17T00:00:00",
          "2005-10-24T00:00:00",
          "2005-10-31T00:00:00",
          "2005-11-07T00:00:00",
          "2005-11-14T00:00:00",
          "2005-11-21T00:00:00",
          "2005-11-28T00:00:00",
          "2005-12-05T00:00:00",
          "2005-12-12T00:00:00",
          "2005-12-19T00:00:00",
          "2006-01-02T00:00:00",
          "2006-01-09T00:00:00",
          "2006-01-16T00:00:00",
          "2006-01-23T00:00:00",
          "2006-01-30T00:00:00",
          "2006-02-06T00:00:00",
          "2006-02-13T00:00:00",
          "2006-02-20T00:00:00",
          "2006-02-27T00:00:00",
          "2006-03-06T00:00:00",
          "2006-03-13T00:00:00",
          "2006-03-20T00:00:00",
          "2006-03-27T00:00:00",
          "2006-04-03T00:00:00",
          "2006-04-10T00:00:00",
          "2006-04-24T00:00:00",
          "2006-05-01T00:00:00",
          "2006-05-02T00:00:00",
          "2006-05-08T00:00:00",
          "2006-05-15T00:00:00",
          "2006-05-22T00:00:00",
          "2006-05-29T00:00:00",
          "2006-06-05T00:00:00",
          "2006-06-12T00:00:00",
          "2006-06-19T00:00:00",
          "2006-06-26T00:00:00",
          "2006-07-03T00:00:00",
          "2006-07-10T00:00:00",
          "2006-07-17T00:00:00",
          "2006-07-24T00:00:00",
          "2006-07-31T00:00:00",
          "2006-08-07T00:00:00",
          "2006-08-14T00:00:00",
          "2006-08-21T00:00:00",
          "2006-08-28T00:00:00",
          "2006-09-04T00:00:00",
          "2006-09-11T00:00:00",
          "2006-09-18T00:00:00",
          "2006-09-25T00:00:00",
          "2006-10-02T00:00:00",
          "2006-10-09T00:00:00",
          "2006-10-16T00:00:00",
          "2006-10-23T00:00:00",
          "2006-10-30T00:00:00",
          "2006-11-06T00:00:00",
          "2006-11-13T00:00:00",
          "2006-11-20T00:00:00",
          "2006-11-27T00:00:00",
          "2006-12-04T00:00:00",
          "2006-12-11T00:00:00",
          "2006-12-18T00:00:00",
          "2007-01-08T00:00:00",
          "2007-01-15T00:00:00",
          "2007-01-22T00:00:00",
          "2007-01-29T00:00:00",
          "2007-02-05T00:00:00",
          "2007-02-12T00:00:00",
          "2007-02-19T00:00:00",
          "2007-02-26T00:00:00",
          "2007-03-05T00:00:00",
          "2007-03-12T00:00:00",
          "2007-03-19T00:00:00",
          "2007-03-26T00:00:00",
          "2007-04-02T00:00:00",
          "2007-04-16T00:00:00",
          "2007-04-23T00:00:00",
          "2007-04-30T00:00:00",
          "2007-05-07T00:00:00",
          "2007-05-14T00:00:00",
          "2007-05-21T00:00:00",
          "2007-05-28T00:00:00",
          "2007-06-04T00:00:00",
          "2007-06-11T00:00:00",
          "2007-06-18T00:00:00",
          "2007-06-25T00:00:00",
          "2007-07-02T00:00:00",
          "2007-07-09T00:00:00",
          "2007-07-16T00:00:00",
          "2007-07-23T00:00:00",
          "2007-07-30T00:00:00",
          "2007-08-06T00:00:00",
          "2007-08-13T00:00:00",
          "2007-08-20T00:00:00",
          "2007-08-27T00:00:00",
          "2007-09-03T00:00:00",
          "2007-09-10T00:00:00",
          "2007-09-17T00:00:00",
          "2007-09-24T00:00:00",
          "2007-10-01T00:00:00",
          "2007-10-08T00:00:00",
          "2007-10-15T00:00:00",
          "2007-10-22T00:00:00",
          "2007-10-29T00:00:00",
          "2007-11-05T00:00:00",
          "2007-11-12T00:00:00",
          "2007-11-19T00:00:00",
          "2007-11-26T00:00:00",
          "2007-12-03T00:00:00",
          "2007-12-10T00:00:00",
          "2007-12-17T00:00:00",
          "2007-12-31T00:00:00",
          "2008-01-07T00:00:00",
          "2008-01-14T00:00:00",
          "2008-01-21T00:00:00",
          "2008-01-28T00:00:00",
          "2008-02-04T00:00:00",
          "2008-02-11T00:00:00",
          "2008-02-18T00:00:00",
          "2008-02-25T00:00:00",
          "2008-03-03T00:00:00",
          "2008-03-10T00:00:00",
          "2008-03-17T00:00:00",
          "2008-03-31T00:00:00",
          "2008-04-07T00:00:00",
          "2008-04-14T00:00:00",
          "2008-04-21T00:00:00",
          "2008-04-28T00:00:00",
          "2008-05-05T00:00:00",
          "2008-05-12T00:00:00",
          "2008-05-19T00:00:00",
          "2008-05-26T00:00:00",
          "2008-06-02T00:00:00",
          "2008-06-09T00:00:00",
          "2008-06-16T00:00:00",
          "2008-06-23T00:00:00",
          "2008-06-30T00:00:00",
          "2008-07-07T00:00:00",
          "2008-07-14T00:00:00",
          "2008-07-21T00:00:00",
          "2008-07-28T00:00:00",
          "2008-08-04T00:00:00",
          "2008-08-11T00:00:00",
          "2008-08-18T00:00:00",
          "2008-08-25T00:00:00",
          "2008-09-01T00:00:00",
          "2008-09-08T00:00:00",
          "2008-09-15T00:00:00",
          "2008-09-22T00:00:00",
          "2008-09-29T00:00:00",
          "2008-10-06T00:00:00",
          "2008-10-13T00:00:00",
          "2008-10-20T00:00:00",
          "2008-10-27T00:00:00",
          "2008-11-03T00:00:00",
          "2008-11-10T00:00:00",
          "2008-11-17T00:00:00",
          "2008-11-24T00:00:00",
          "2008-12-01T00:00:00",
          "2008-12-08T00:00:00",
          "2008-12-15T00:00:00",
          "2008-12-22T00:00:00",
          "2009-01-05T00:00:00",
          "2009-01-12T00:00:00",
          "2009-01-19T00:00:00",
          "2009-01-26T00:00:00",
          "2009-02-02T00:00:00",
          "2009-02-09T00:00:00",
          "2009-02-16T00:00:00",
          "2009-02-23T00:00:00",
          "2009-03-02T00:00:00",
          "2009-03-09T00:00:00",
          "2009-03-16T00:00:00",
          "2009-03-23T00:00:00",
          "2009-03-30T00:00:00",
          "2009-04-06T00:00:00",
          "2009-04-20T00:00:00",
          "2009-04-27T00:00:00",
          "2009-05-04T00:00:00",
          "2009-05-11T00:00:00",
          "2009-05-18T00:00:00",
          "2009-05-25T00:00:00",
          "2009-06-01T00:00:00",
          "2009-06-08T00:00:00",
          "2009-06-15T00:00:00",
          "2009-06-22T00:00:00",
          "2009-06-29T00:00:00",
          "2009-07-06T00:00:00",
          "2009-07-13T00:00:00",
          "2009-07-20T00:00:00",
          "2009-07-27T00:00:00",
          "2009-08-03T00:00:00",
          "2009-08-10T00:00:00",
          "2009-08-17T00:00:00",
          "2009-08-24T00:00:00",
          "2009-08-31T00:00:00",
          "2009-09-07T00:00:00",
          "2009-09-14T00:00:00",
          "2009-09-21T00:00:00",
          "2009-09-28T00:00:00",
          "2009-10-05T00:00:00",
          "2009-10-12T00:00:00",
          "2009-10-19T00:00:00",
          "2009-10-26T00:00:00",
          "2009-11-02T00:00:00",
          "2009-11-09T00:00:00",
          "2009-11-16T00:00:00",
          "2009-11-23T00:00:00",
          "2009-11-30T00:00:00",
          "2009-12-07T00:00:00",
          "2009-12-14T00:00:00",
          "2009-12-21T00:00:00",
          "2009-12-28T00:00:00",
          "2010-01-04T00:00:00",
          "2010-01-11T00:00:00",
          "2010-01-18T00:00:00",
          "2010-01-25T00:00:00",
          "2010-02-01T00:00:00",
          "2010-02-08T00:00:00",
          "2010-02-15T00:00:00",
          "2010-02-22T00:00:00",
          "2010-03-01T00:00:00",
          "2010-03-08T00:00:00",
          "2010-03-15T00:00:00",
          "2010-03-22T00:00:00",
          "2010-03-29T00:00:00",
          "2010-04-12T00:00:00",
          "2010-04-19T00:00:00",
          "2010-04-26T00:00:00",
          "2010-05-03T00:00:00",
          "2010-05-10T00:00:00",
          "2010-05-17T00:00:00",
          "2010-05-24T00:00:00",
          "2010-05-31T00:00:00",
          "2010-06-07T00:00:00",
          "2010-06-14T00:00:00",
          "2010-06-21T00:00:00",
          "2010-06-28T00:00:00",
          "2010-07-05T00:00:00",
          "2010-07-12T00:00:00",
          "2010-07-19T00:00:00",
          "2010-07-26T00:00:00",
          "2010-08-02T00:00:00",
          "2010-08-09T00:00:00",
          "2010-08-16T00:00:00",
          "2010-08-23T00:00:00",
          "2010-08-30T00:00:00",
          "2010-09-06T00:00:00",
          "2010-09-13T00:00:00",
          "2010-09-20T00:00:00",
          "2010-09-27T00:00:00",
          "2010-10-04T00:00:00",
          "2010-10-11T00:00:00",
          "2010-10-18T00:00:00",
          "2010-10-25T00:00:00",
          "2010-11-01T00:00:00",
          "2010-11-08T00:00:00",
          "2010-11-15T00:00:00",
          "2010-11-22T00:00:00",
          "2010-11-29T00:00:00",
          "2010-12-06T00:00:00",
          "2010-12-13T00:00:00",
          "2010-12-20T00:00:00",
          "2011-01-03T00:00:00",
          "2011-01-10T00:00:00",
          "2011-01-17T00:00:00",
          "2011-01-24T00:00:00",
          "2011-01-31T00:00:00",
          "2011-02-07T00:00:00",
          "2011-02-14T00:00:00",
          "2011-02-21T00:00:00",
          "2011-02-28T00:00:00",
          "2011-03-07T00:00:00",
          "2011-03-14T00:00:00",
          "2011-03-21T00:00:00",
          "2011-03-28T00:00:00",
          "2011-04-04T00:00:00",
          "2011-04-11T00:00:00",
          "2011-04-18T00:00:00",
          "2011-04-25T00:00:00",
          "2011-05-02T00:00:00",
          "2011-05-16T00:00:00",
          "2011-05-23T00:00:00",
          "2011-05-30T00:00:00",
          "2011-06-06T00:00:00",
          "2011-06-13T00:00:00",
          "2011-06-20T00:00:00",
          "2011-06-27T00:00:00",
          "2011-07-04T00:00:00",
          "2011-07-18T00:00:00",
          "2011-07-25T00:00:00",
          "2011-08-01T00:00:00",
          "2011-08-08T00:00:00",
          "2011-08-22T00:00:00",
          "2011-08-29T00:00:00",
          "2011-09-05T00:00:00",
          "2011-09-12T00:00:00",
          "2011-09-19T00:00:00",
          "2011-09-26T00:00:00",
          "2011-10-03T00:00:00",
          "2011-10-10T00:00:00",
          "2011-10-17T00:00:00",
          "2011-10-24T00:00:00",
          "2011-10-31T00:00:00",
          "2011-11-07T00:00:00",
          "2011-11-14T00:00:00",
          "2011-11-21T00:00:00",
          "2011-11-28T00:00:00",
          "2011-12-05T00:00:00",
          "2011-12-12T00:00:00",
          "2011-12-19T00:00:00",
          "2011-12-26T00:00:00",
          "2012-01-02T00:00:00",
          "2012-01-09T00:00:00",
          "2012-01-16T00:00:00",
          "2012-01-23T00:00:00",
          "2012-01-30T00:00:00",
          "2012-02-06T00:00:00",
          "2012-02-13T00:00:00",
          "2012-02-20T00:00:00",
          "2012-02-27T00:00:00",
          "2012-03-05T00:00:00",
          "2012-03-19T00:00:00",
          "2012-03-26T00:00:00",
          "2012-04-02T00:00:00",
          "2012-04-09T00:00:00",
          "2012-04-16T00:00:00",
          "2012-04-23T00:00:00",
          "2012-04-30T00:00:00",
          "2012-05-07T00:00:00",
          "2012-05-14T00:00:00",
          "2012-05-21T00:00:00",
          "2012-05-28T00:00:00",
          "2012-06-04T00:00:00",
          "2012-06-11T00:00:00",
          "2012-06-18T00:00:00",
          "2012-06-25T00:00:00",
          "2012-07-02T00:00:00",
          "2012-07-09T00:00:00",
          "2012-07-16T00:00:00",
          "2012-07-23T00:00:00",
          "2012-07-30T00:00:00",
          "2012-08-06T00:00:00",
          "2012-08-13T00:00:00",
          "2012-08-20T00:00:00",
          "2012-08-27T00:00:00",
          "2012-09-03T00:00:00",
          "2012-09-10T00:00:00",
          "2012-09-17T00:00:00",
          "2012-09-24T00:00:00",
          "2012-10-01T00:00:00",
          "2012-10-08T00:00:00",
          "2012-10-15T00:00:00",
          "2012-10-22T00:00:00",
          "2012-10-29T00:00:00",
          "2012-11-05T00:00:00",
          "2012-11-12T00:00:00",
          "2012-11-19T00:00:00",
          "2012-11-26T00:00:00",
          "2012-12-03T00:00:00",
          "2012-12-10T00:00:00",
          "2012-12-17T00:00:00",
          "2013-01-14T00:00:00",
          "2013-01-21T00:00:00",
          "2013-01-28T00:00:00",
          "2013-02-04T00:00:00",
          "2013-02-11T00:00:00",
          "2013-02-18T00:00:00",
          "2013-02-25T00:00:00",
          "2013-03-04T00:00:00",
          "2013-03-11T00:00:00",
          "2013-03-18T00:00:00",
          "2013-03-25T00:00:00",
          "2013-04-08T00:00:00",
          "2013-04-15T00:00:00",
          "2013-04-22T00:00:00",
          "2013-04-29T00:00:00",
          "2013-05-06T00:00:00",
          "2013-05-13T00:00:00",
          "2013-05-20T00:00:00",
          "2013-05-27T00:00:00",
          "2013-06-03T00:00:00",
          "2013-06-10T00:00:00",
          "2013-06-17T00:00:00",
          "2013-06-24T00:00:00",
          "2013-07-01T00:00:00",
          "2013-07-08T00:00:00",
          "2013-07-15T00:00:00",
          "2013-07-22T00:00:00",
          "2013-07-29T00:00:00",
          "2013-08-05T00:00:00",
          "2013-08-12T00:00:00",
          "2013-08-19T00:00:00",
          "2013-08-26T00:00:00",
          "2013-09-02T00:00:00",
          "2013-09-09T00:00:00",
          "2013-09-16T00:00:00",
          "2013-09-23T00:00:00",
          "2013-09-30T00:00:00",
          "2013-10-07T00:00:00",
          "2013-10-14T00:00:00",
          "2013-10-21T00:00:00",
          "2013-10-28T00:00:00",
          "2013-11-04T00:00:00",
          "2013-11-11T00:00:00",
          "2013-11-18T00:00:00",
          "2013-11-25T00:00:00",
          "2013-12-02T00:00:00",
          "2013-12-09T00:00:00",
          "2013-12-16T00:00:00",
          "2014-01-06T00:00:00",
          "2014-01-13T00:00:00",
          "2014-01-20T00:00:00",
          "2014-01-27T00:00:00",
          "2014-02-03T00:00:00",
          "2014-02-10T00:00:00",
          "2014-02-17T00:00:00",
          "2014-02-24T00:00:00",
          "2014-03-03T00:00:00",
          "2014-03-10T00:00:00",
          "2014-03-17T00:00:00",
          "2014-03-24T00:00:00",
          "2014-03-31T00:00:00",
          "2014-04-07T00:00:00",
          "2014-04-14T00:00:00",
          "2014-04-28T00:00:00",
          "2014-05-05T00:00:00",
          "2014-05-12T00:00:00",
          "2014-05-19T00:00:00",
          "2014-05-26T00:00:00",
          "2014-06-02T00:00:00",
          "2014-06-09T00:00:00",
          "2014-06-16T00:00:00",
          "2014-06-23T00:00:00",
          "2014-06-30T00:00:00",
          "2014-07-07T00:00:00",
          "2014-07-14T00:00:00",
          "2014-07-21T00:00:00",
          "2014-07-28T00:00:00",
          "2014-08-04T00:00:00",
          "2014-08-11T00:00:00",
          "2014-08-18T00:00:00",
          "2014-08-25T00:00:00",
          "2014-09-01T00:00:00",
          "2014-09-08T00:00:00",
          "2014-09-15T00:00:00",
          "2014-09-22T00:00:00",
          "2014-09-29T00:00:00",
          "2014-10-06T00:00:00",
          "2014-10-13T00:00:00",
          "2014-10-20T00:00:00",
          "2014-10-27T00:00:00",
          "2014-11-03T00:00:00",
          "2014-11-10T00:00:00",
          "2014-11-17T00:00:00",
          "2014-11-24T00:00:00",
          "2014-12-01T00:00:00",
          "2014-12-08T00:00:00",
          "2014-12-15T00:00:00",
          "2015-01-05T00:00:00",
          "2015-01-12T00:00:00",
          "2015-01-19T00:00:00",
          "2015-01-26T00:00:00",
          "2015-02-02T00:00:00",
          "2015-02-09T00:00:00",
          "2015-02-16T00:00:00",
          "2015-02-23T00:00:00",
          "2015-03-02T00:00:00",
          "2015-03-09T00:00:00",
          "2015-03-16T00:00:00",
          "2015-03-23T00:00:00",
          "2015-03-30T00:00:00",
          "2015-04-13T00:00:00",
          "2015-04-20T00:00:00",
          "2015-04-27T00:00:00",
          "2015-05-04T00:00:00",
          "2015-05-11T00:00:00",
          "2015-05-18T00:00:00",
          "2015-05-25T00:00:00",
          "2015-06-01T00:00:00",
          "2015-06-08T00:00:00",
          "2015-06-15T00:00:00",
          "2015-06-22T00:00:00",
          "2015-06-29T00:00:00",
          "2015-07-06T00:00:00",
          "2015-07-13T00:00:00",
          "2015-07-20T00:00:00",
          "2015-07-27T00:00:00",
          "2015-08-03T00:00:00",
          "2015-08-10T00:00:00",
          "2015-08-17T00:00:00",
          "2015-08-24T00:00:00",
          "2015-08-31T00:00:00",
          "2015-09-07T00:00:00",
          "2015-09-14T00:00:00",
          "2015-09-21T00:00:00",
          "2015-09-28T00:00:00",
          "2015-10-05T00:00:00",
          "2015-10-12T00:00:00",
          "2015-10-19T00:00:00",
          "2015-10-26T00:00:00",
          "2015-11-02T00:00:00",
          "2015-11-09T00:00:00",
          "2015-11-16T00:00:00",
          "2015-11-23T00:00:00",
          "2015-11-30T00:00:00",
          "2015-12-07T00:00:00",
          "2015-12-14T00:00:00",
          "2015-12-21T00:00:00",
          "2016-01-04T00:00:00",
          "2016-01-11T00:00:00",
          "2016-01-18T00:00:00",
          "2016-01-25T00:00:00",
          "2016-02-01T00:00:00",
          "2016-02-08T00:00:00",
          "2016-02-15T00:00:00",
          "2016-02-22T00:00:00",
          "2016-02-29T00:00:00",
          "2016-03-07T00:00:00",
          "2016-03-14T00:00:00",
          "2016-03-21T00:00:00",
          "2016-04-04T00:00:00",
          "2016-04-11T00:00:00",
          "2016-04-18T00:00:00",
          "2016-04-25T00:00:00",
          "2016-05-02T00:00:00",
          "2016-05-16T00:00:00",
          "2016-05-23T00:00:00",
          "2016-05-30T00:00:00",
          "2016-06-06T00:00:00",
          "2016-06-13T00:00:00",
          "2016-06-20T00:00:00",
          "2016-06-27T00:00:00",
          "2016-07-04T00:00:00",
          "2016-07-18T00:00:00",
          "2016-07-25T00:00:00",
          "2016-08-01T00:00:00",
          "2016-08-08T00:00:00",
          "2016-08-15T00:00:00",
          "2016-08-22T00:00:00",
          "2016-08-29T00:00:00",
          "2016-09-05T00:00:00",
          "2016-09-12T00:00:00",
          "2016-09-19T00:00:00",
          "2016-09-26T00:00:00",
          "2016-10-03T00:00:00",
          "2016-10-10T00:00:00",
          "2016-10-17T00:00:00",
          "2016-10-24T00:00:00",
          "2016-10-31T00:00:00",
          "2016-11-07T00:00:00",
          "2016-11-14T00:00:00",
          "2016-11-21T00:00:00",
          "2016-11-28T00:00:00",
          "2016-12-05T00:00:00",
          "2016-12-12T00:00:00",
          "2016-12-19T00:00:00",
          "2017-01-02T00:00:00",
          "2017-01-09T00:00:00",
          "2017-01-16T00:00:00",
          "2017-01-23T00:00:00",
          "2017-01-30T00:00:00",
          "2017-02-06T00:00:00",
          "2017-02-13T00:00:00",
          "2017-02-20T00:00:00",
          "2017-02-27T00:00:00",
          "2017-03-06T00:00:00",
          "2017-03-13T00:00:00",
          "2017-03-20T00:00:00",
          "2017-03-27T00:00:00",
          "2017-04-03T00:00:00",
          "2017-04-10T00:00:00",
          "2017-04-24T00:00:00",
          "2017-05-01T00:00:00",
          "2017-05-08T00:00:00",
          "2017-05-15T00:00:00",
          "2017-05-22T00:00:00",
          "2017-05-29T00:00:00",
          "2017-06-05T00:00:00",
          "2017-06-12T00:00:00",
          "2017-06-19T00:00:00",
          "2017-06-26T00:00:00",
          "2017-07-03T00:00:00",
          "2017-07-10T00:00:00",
          "2017-07-17T00:00:00",
          "2017-07-24T00:00:00",
          "2017-07-31T00:00:00",
          "2017-08-07T00:00:00",
          "2017-08-14T00:00:00",
          "2017-08-21T00:00:00",
          "2017-08-28T00:00:00",
          "2017-09-04T00:00:00",
          "2017-09-11T00:00:00",
          "2017-09-18T00:00:00",
          "2017-09-25T00:00:00",
          "2017-10-02T00:00:00",
          "2017-10-09T00:00:00",
          "2017-10-16T00:00:00",
          "2017-10-23T00:00:00",
          "2017-10-30T00:00:00",
          "2017-11-06T00:00:00",
          "2017-11-13T00:00:00",
          "2017-11-20T00:00:00",
          "2017-11-27T00:00:00",
          "2017-12-04T00:00:00",
          "2017-12-11T00:00:00",
          "2017-12-18T00:00:00",
          "2018-01-01T00:00:00",
          "2018-01-08T00:00:00",
          "2018-01-15T00:00:00",
          "2018-01-22T00:00:00",
          "2018-01-29T00:00:00",
          "2018-02-05T00:00:00",
          "2018-02-12T00:00:00",
          "2018-02-19T00:00:00",
          "2018-02-26T00:00:00",
          "2018-03-05T00:00:00",
          "2018-03-19T00:00:00",
          "2018-03-26T00:00:00",
          "2018-04-02T00:00:00",
          "2018-04-09T00:00:00",
          "2018-04-16T00:00:00",
          "2018-04-23T00:00:00",
          "2018-04-30T00:00:00",
          "2018-05-07T00:00:00",
          "2018-05-14T00:00:00",
          "2018-05-21T00:00:00",
          "2018-05-28T00:00:00",
          "2018-06-04T00:00:00",
          "2018-06-11T00:00:00",
          "2018-06-18T00:00:00",
          "2018-06-25T00:00:00",
          "2018-07-02T00:00:00",
          "2018-07-09T00:00:00",
          "2018-07-16T00:00:00",
          "2018-07-23T00:00:00",
          "2018-07-30T00:00:00",
          "2018-08-06T00:00:00",
          "2018-08-13T00:00:00",
          "2018-08-20T00:00:00",
          "2018-08-27T00:00:00",
          "2018-09-03T00:00:00",
          "2018-09-10T00:00:00",
          "2018-09-17T00:00:00",
          "2018-09-24T00:00:00",
          "2018-10-01T00:00:00",
          "2018-10-08T00:00:00",
          "2018-10-15T00:00:00",
          "2018-10-22T00:00:00",
          "2018-10-29T00:00:00",
          "2018-11-05T00:00:00",
          "2018-11-12T00:00:00",
          "2018-11-19T00:00:00",
          "2018-11-26T00:00:00",
          "2018-12-03T00:00:00",
          "2018-12-10T00:00:00",
          "2018-12-17T00:00:00",
          "2019-01-07T00:00:00",
          "2019-01-14T00:00:00",
          "2019-01-21T00:00:00",
          "2019-01-28T00:00:00",
          "2019-02-04T00:00:00",
          "2019-02-11T00:00:00",
          "2019-02-18T00:00:00",
          "2019-02-25T00:00:00",
          "2019-03-04T00:00:00",
          "2019-03-11T00:00:00",
          "2019-03-18T00:00:00",
          "2019-03-25T00:00:00",
          "2019-04-01T00:00:00",
          "2019-04-08T00:00:00",
          "2019-04-15T00:00:00",
          "2019-04-22T00:00:00",
          "2019-04-29T00:00:00",
          "2019-05-06T00:00:00",
          "2019-05-13T00:00:00",
          "2019-05-20T00:00:00",
          "2019-05-27T00:00:00",
          "2019-06-03T00:00:00",
          "2019-06-10T00:00:00",
          "2019-06-17T00:00:00",
          "2019-06-24T00:00:00",
          "2019-07-01T00:00:00",
          "2019-07-08T00:00:00",
          "2019-07-15T00:00:00",
          "2019-07-22T00:00:00",
          "2019-07-29T00:00:00",
          "2019-08-05T00:00:00",
          "2019-08-12T00:00:00",
          "2019-08-19T00:00:00",
          "2019-08-26T00:00:00",
          "2019-09-02T00:00:00",
          "2019-09-09T00:00:00",
          "2019-09-16T00:00:00",
          "2019-09-23T00:00:00",
          "2019-09-30T00:00:00",
          "2019-10-07T00:00:00",
          "2019-10-14T00:00:00",
          "2019-10-21T00:00:00",
          "2019-10-28T00:00:00",
          "2019-11-04T00:00:00",
          "2019-11-11T00:00:00",
          "2019-11-18T00:00:00",
          "2019-11-25T00:00:00",
          "2019-12-02T00:00:00",
          "2019-12-09T00:00:00",
          "2019-12-16T00:00:00",
          "2020-01-06T00:00:00",
          "2020-01-13T00:00:00",
          "2020-01-20T00:00:00",
          "2020-01-27T00:00:00",
          "2020-02-03T00:00:00",
          "2020-02-10T00:00:00",
          "2020-02-17T00:00:00",
          "2020-02-24T00:00:00",
          "2020-03-02T00:00:00",
          "2020-03-09T00:00:00",
          "2020-03-16T00:00:00",
          "2020-03-23T00:00:00",
          "2020-03-30T00:00:00",
          "2020-04-06T00:00:00",
          "2020-04-13T00:00:00",
          "2020-04-20T00:00:00",
          "2020-04-27T00:00:00",
          "2020-05-04T00:00:00",
          "2020-05-11T00:00:00",
          "2020-05-18T00:00:00",
          "2020-05-25T00:00:00",
          "2020-06-01T00:00:00",
          "2020-06-08T00:00:00",
          "2020-06-15T00:00:00",
          "2020-06-22T00:00:00",
          "2020-06-29T00:00:00",
          "2020-07-06T00:00:00",
          "2020-07-13T00:00:00",
          "2020-07-20T00:00:00",
          "2020-07-27T00:00:00",
          "2020-08-03T00:00:00",
          "2020-08-10T00:00:00",
          "2020-08-17T00:00:00",
          "2020-08-24T00:00:00",
          "2020-08-31T00:00:00",
          "2020-09-07T00:00:00",
          "2020-09-14T00:00:00",
          "2020-09-21T00:00:00",
          "2020-09-28T00:00:00",
          "2020-10-05T00:00:00",
          "2020-10-12T00:00:00",
          "2020-10-19T00:00:00",
          "2020-10-26T00:00:00",
          "2020-11-02T00:00:00",
          "2020-11-09T00:00:00",
          "2020-11-16T00:00:00",
          "2020-11-23T00:00:00",
          "2020-11-30T00:00:00",
          "2020-12-07T00:00:00",
          "2020-12-14T00:00:00",
          "2020-12-21T00:00:00",
          "2020-12-28T00:00:00",
          "2021-01-04T00:00:00",
          "2021-01-11T00:00:00",
          "2021-01-18T00:00:00",
          "2021-01-25T00:00:00",
          "2021-02-01T00:00:00",
          "2021-02-08T00:00:00",
          "2021-02-15T00:00:00",
          "2021-02-22T00:00:00",
          "2021-03-01T00:00:00",
          "2021-03-08T00:00:00",
          "2021-03-15T00:00:00",
          "2021-03-22T00:00:00",
          "2021-03-29T00:00:00",
          "2021-04-05T00:00:00",
          "2021-04-12T00:00:00",
          "2021-04-19T00:00:00",
          "2021-04-26T00:00:00",
          "2021-05-03T00:00:00",
          "2021-05-10T00:00:00",
          "2021-05-17T00:00:00",
          "2021-05-24T00:00:00",
          "2021-05-31T00:00:00",
          "2021-06-07T00:00:00",
          "2021-06-14T00:00:00",
          "2021-06-21T00:00:00",
          "2021-06-28T00:00:00",
          "2021-07-05T00:00:00",
          "2021-07-12T00:00:00",
          "2021-07-19T00:00:00",
          "2021-07-26T00:00:00",
          "2021-08-02T00:00:00",
          "2021-08-09T00:00:00",
          "2021-08-16T00:00:00",
          "2021-08-23T00:00:00",
          "2021-08-30T00:00:00",
          "2021-09-06T00:00:00",
          "2021-09-13T00:00:00",
          "2021-09-20T00:00:00",
          "2021-09-27T00:00:00",
          "2021-10-04T00:00:00",
          "2021-10-11T00:00:00",
          "2021-10-18T00:00:00",
          "2021-10-25T00:00:00",
          "2021-11-01T00:00:00",
          "2021-11-08T00:00:00",
          "2021-11-15T00:00:00",
          "2021-11-22T00:00:00",
          "2021-11-29T00:00:00",
          "2021-12-06T00:00:00",
          "2021-12-13T00:00:00",
          "2021-12-20T00:00:00",
          "2021-12-27T00:00:00",
          "2022-01-03T00:00:00",
          "2022-01-10T00:00:00",
          "2022-01-17T00:00:00",
          "2022-01-24T00:00:00",
          "2022-01-31T00:00:00",
          "2022-02-07T00:00:00",
          "2022-02-14T00:00:00",
          "2022-02-21T00:00:00",
          "2022-02-28T00:00:00",
          "2022-03-07T00:00:00",
          "2022-03-14T00:00:00",
          "2022-03-21T00:00:00",
          "2022-03-28T00:00:00",
          "2022-04-04T00:00:00",
          "2022-04-11T00:00:00",
          "2022-04-18T00:00:00",
          "2022-04-25T00:00:00",
          "2022-05-02T00:00:00",
          "2022-05-09T00:00:00",
          "2022-05-16T00:00:00",
          "2022-05-23T00:00:00",
          "2022-05-30T00:00:00",
          "2022-06-06T00:00:00",
          "2022-06-13T00:00:00",
          "2022-06-20T00:00:00",
          "2022-06-27T00:00:00",
          "2022-07-04T00:00:00",
          "2022-07-11T00:00:00",
          "2022-07-18T00:00:00",
          "2022-07-25T00:00:00",
          "2022-08-01T00:00:00",
          "2022-08-08T00:00:00",
          "2022-08-15T00:00:00",
          "2022-08-22T00:00:00",
          "2022-08-29T00:00:00",
          "2022-09-05T00:00:00",
          "2022-09-12T00:00:00",
          "2022-09-19T00:00:00",
          "2022-09-26T00:00:00",
          "2022-10-03T00:00:00",
          "2022-10-10T00:00:00",
          "2022-10-17T00:00:00",
          "2022-10-24T00:00:00",
          "2022-10-31T00:00:00"
         ],
         "xaxis": "x",
         "y": [
          736.3000000000001,
          730.915,
          734.2366666666667,
          737.9066666666666,
          750.2166666666667,
          746.9333333333333,
          747.9616666666667,
          748.1416666666665,
          755.055,
          770.7766666666666,
          779.9116666666667,
          782.2399999999999,
          789.035,
          810.9249999999998,
          803.9033333333333,
          804.38,
          796.5116666666668,
          785.745,
          777.6016666666666,
          776.7816666666666,
          779.0733333333334,
          790.1633333333333,
          802.32,
          808.8066666666667,
          821.57,
          826.0533333333333,
          831.7566666666667,
          829.605,
          825.715,
          825.9383333333334,
          828.1116666666667,
          841.4666666666667,
          849.3333333333334,
          872.9316666666667,
          877.3533333333334,
          870.2133333333333,
          876.3000000000001,
          893.7800000000001,
          889.2466666666666,
          894.5183333333333,
          881.775,
          868.3783333333332,
          860.0799999999999,
          852.4433333333333,
          849.5466666666666,
          845.6016666666668,
          840.9983333333333,
          848.855,
          855.105,
          846.8683333333333,
          872.8166666666666,
          873.6783333333333,
          880.2033333333334,
          879.4616666666667,
          881.8833333333333,
          881.0266666666666,
          871.4266666666666,
          873.8133333333334,
          886.8866666666667,
          881.4250000000001,
          885.3316666666666,
          883.0816666666666,
          888.1850000000001,
          884.6483333333332,
          905.6433333333333,
          904.5283333333333,
          904.5283333333333,
          905.5183333333333,
          903.8116666666666,
          898.6066666666667,
          898.7616666666667,
          897.96,
          896.7583333333333,
          897.0333333333333,
          897.0733333333333,
          900.0716666666667,
          903.2199999999999,
          913.11,
          910.1,
          911.3883333333333,
          914.3383333333333,
          914.58,
          906.3449999999999,
          899.7366666666667,
          889.6516666666666,
          878.0266666666666,
          861.5983333333334,
          845.6833333333334,
          843.9699999999999,
          831.745,
          834.1149999999999,
          832.6750000000001,
          833.1783333333333,
          828.9016666666666,
          830.4516666666667,
          829.0383333333333,
          825.9983333333333,
          830.0916666666667,
          826.3833333333333,
          826.6616666666667,
          819.3016666666667,
          812.9733333333334,
          801.7633333333333,
          808.3916666666668,
          811.0533333333333,
          815.1783333333333,
          811.4483333333333,
          821.985,
          826.0300000000001,
          830.4583333333334,
          828.1633333333334,
          829.71,
          839.8916666666668,
          854.2133333333333,
          856.4483333333333,
          855.9316666666667,
          860.0816666666666,
          859.1999999999999,
          864.1433333333334,
          870.6316666666667,
          869.5716666666667,
          873.8466666666667,
          875.8683333333333,
          879.7283333333334,
          881.2183333333332,
          886.295,
          889.41,
          890.8416666666667,
          891.9166666666666,
          890.8333333333334,
          878.8366666666667,
          878.8800000000001,
          870.79,
          874.9516666666667,
          883.3066666666667,
          888.5683333333333,
          893.13,
          890.8466666666667,
          891.0966666666667,
          896.3649999999999,
          905.0633333333334,
          912.67,
          931.0600000000001,
          947.8666666666667,
          947.9733333333334,
          961.63,
          956.4866666666667,
          951.1550000000001,
          953.4033333333333,
          957.3516666666668,
          970.225,
          959.6816666666667,
          946.9966666666666,
          944.43,
          946.07,
          948.6583333333333,
          966.1283333333332,
          979.0916666666667,
          981.0766666666667,
          989.2066666666666,
          995.8299999999999,
          981.555,
          986.005,
          1000.6383333333333,
          1008.3133333333334,
          1015.775,
          1032.77,
          1063.5016666666668,
          1078.09,
          1094.4916666666666,
          1089.0049999999999,
          1092.7883333333332,
          1114.9183333333333,
          1111.7783333333334,
          1119.0566666666666,
          1134.8716666666667,
          1136.7866666666666,
          1124.5283333333334,
          1099.6816666666666,
          1085.8566666666668,
          1064.3533333333332,
          1062.2966666666666,
          1065.9283333333333,
          1065.9350000000002,
          1048.48,
          1038.3233333333335,
          1015.3650000000001,
          1030.2766666666666,
          1022.1683333333334,
          980.4333333333334,
          938.8333333333334,
          933.92,
          917.6766666666666,
          904.205,
          883.8233333333333,
          859.3716666666668,
          853.5283333333333,
          831.6416666666665,
          811.6066666666667,
          794.2666666666668,
          778.7433333333333,
          800.625,
          802.1383333333333,
          798.52,
          802.0066666666667,
          801.9416666666666,
          800.4833333333335,
          796.995,
          799.3449999999999,
          784.5583333333334,
          783.3716666666666,
          789.5733333333333,
          809.805,
          799,
          807.71,
          804.2216666666667,
          799.9916666666667,
          819.7416666666667,
          814.4666666666667,
          817.8116666666666,
          827.7766666666666,
          846.3333333333334,
          859.4733333333334,
          867.835,
          854.3883333333333,
          848.2916666666666,
          833.5466666666666,
          836.465,
          854.7616666666667,
          857.1,
          870.715,
          869.7416666666667,
          869.79,
          866.4933333333333,
          851.5583333333334,
          850.29,
          851.6433333333334,
          836.81,
          837.8816666666667,
          844.0283333333333,
          856.7183333333334,
          873.275,
          879.3783333333334,
          880.435,
          875.6033333333334,
          880.2266666666666,
          876.125,
          876.665,
          869.4699999999999,
          875.7316666666667,
          881.2216666666667,
          892.8083333333334,
          911.6116666666667,
          907.6466666666666,
          904.1616666666667,
          900.105,
          905.0683333333333,
          903.6683333333334,
          915.94,
          921.8000000000001,
          929.98,
          935.1733333333333,
          942.605,
          947.9133333333334,
          961.9033333333333,
          964.5133333333333,
          966.4833333333335,
          975.465,
          972.0233333333334,
          972.1816666666667,
          950.6333333333332,
          951.5483333333333,
          958.0933333333334,
          966.9483333333333,
          971.2199999999999,
          967.1750000000001,
          952.1166666666667,
          951.7366666666667,
          949.1683333333334,
          948.9399999999999,
          949.445,
          953.1866666666666,
          956.3033333333333,
          947.1816666666667,
          944.2766666666666,
          940.7933333333334,
          951.7200000000001,
          950.8983333333334,
          939.2183333333334,
          940.9216666666666,
          946.0483333333333,
          951.0316666666668,
          944.2316666666667,
          947.9516666666667,
          955.0816666666666,
          971.46,
          962.9416666666666,
          973.5433333333334,
          997.3466666666667,
          1002.16,
          1004.8966666666666,
          1016.505,
          1024.69,
          1041.1716666666666,
          1041.365,
          1039.5883333333334,
          1047.9416666666666,
          1052.5916666666667,
          1062.0166666666667,
          1090.05,
          1102.6533333333334,
          1109.04,
          1108.4516666666666,
          1109.34,
          1110.4716666666666,
          1128.11,
          1126.6216666666667,
          1120.1416666666667,
          1117.05,
          1091.26,
          1087.835,
          1093.0716666666667,
          1089.105,
          1093.34,
          1093.2066666666667,
          1073.53,
          1095.0533333333333,
          1118.4916666666666,
          1120.4533333333334,
          1121.575,
          1110.6733333333334,
          1093.4866666666667,
          1097.7533333333333,
          1107.4333333333334,
          1118.1633333333332,
          1127.695,
          1121.3166666666666,
          1116.8316666666667,
          1116.3799999999999,
          1121.425,
          1124.735,
          1124.0566666666666,
          1128.69,
          1142.3016666666667,
          1141.5633333333333,
          1136.5449999999998,
          1131.285,
          1175.5116666666665,
          1173.25,
          1180.3966666666668,
          1185.3733333333332,
          1205.5583333333334,
          1217.1766666666665,
          1210.2533333333333,
          1208.84,
          1214.5833333333333,
          1232.7683333333332,
          1244.7583333333334,
          1249.7466666666667,
          1257.4533333333334,
          1283.5483333333334,
          1282.4083333333333,
          1284.7450000000001,
          1286.3066666666666,
          1285.7833333333333,
          1277.9966666666667,
          1276.2883333333332,
          1265.0733333333333,
          1240.6966666666667,
          1230.405,
          1226.915,
          1219.6183333333333,
          1205.4416666666666,
          1193.26,
          1170.76,
          1169.7066666666667,
          1191.855,
          1196.8016666666665,
          1219.5533333333333,
          1216.6783333333333,
          1218.9783333333332,
          1240.4083333333333,
          1259.2933333333333,
          1270.1266666666668,
          1271.8283333333334,
          1285.1033333333332,
          1282.3483333333334,
          1257.4950000000001,
          1259.45,
          1254.2,
          1261.7783333333334,
          1250.415,
          1241.5366666666666,
          1230.175,
          1224.5966666666666,
          1228.5016666666668,
          1228.5866666666668,
          1224.375,
          1214.365,
          1216.9616666666668,
          1232.3183333333334,
          1218.1316666666667,
          1224.3683333333333,
          1224.6383333333333,
          1237.1383333333333,
          1245.5483333333334,
          1241.115,
          1231.7,
          1227.8816666666667,
          1218.1933333333334,
          1212.9433333333334,
          1202.8883333333333,
          1188.565,
          1172.5866666666668,
          1170.1416666666667,
          1150.9583333333333,
          1165.7783333333334,
          1171.7483333333332,
          1169.8966666666668,
          1167.4633333333334,
          1166.465,
          1163.0766666666666,
          1159.9666666666667,
          1169.33,
          1176.4566666666667,
          1186.2316666666668,
          1190.7250000000001,
          1186.4933333333333,
          1189.6916666666666,
          1187.2316666666668,
          1191.0183333333332,
          1192.7883333333334,
          1205.7683333333334,
          1209.5383333333332,
          1206.2233333333334,
          1193.2083333333333,
          1183.0066666666667,
          1182.8283333333334,
          1188.9716666666666,
          1182.2933333333333,
          1167.76,
          1170.3266666666666,
          1162.59,
          1174.7133333333334,
          1182.235,
          1191.1333333333334,
          1202.8583333333333,
          1198.1833333333334,
          1196.2866666666666,
          1192.875,
          1189.555,
          1189.695,
          1193.7383333333335,
          1189.54,
          1189.9616666666668,
          1191.7549999999999,
          1189.2483333333332,
          1184.4199999999998,
          1175.6383333333333,
          1174.3500000000001,
          1175.2283333333332,
          1175.7616666666665,
          1174.5766666666666,
          1176.23,
          1175.6383333333333,
          1171.1016666666667,
          1176.555,
          1185.1000000000001,
          1179.215,
          1180.1299999999999,
          1186.43,
          1190.6200000000001,
          1191.6816666666666,
          1187.8799999999999,
          1183.6166666666666,
          1177.415,
          1177.06,
          1177.5616666666667,
          1174.085,
          1170.98,
          1170.365,
          1172.545,
          1173.515,
          1167.6366666666665,
          1164.1533333333334,
          1163.1666666666667,
          1154.9283333333333,
          1144.0283333333334,
          1123.7816666666668,
          1122.6633333333334,
          1118.7483333333332,
          1108.2283333333332,
          1098.3666666666666,
          1089.5716666666667,
          1075.0316666666665,
          1058.8316666666667,
          1031.8799999999999,
          992.5616666666666,
          961.0133333333333,
          945.265,
          946.2133333333333,
          953.3983333333334,
          981.145,
          990.9200000000001,
          1006,
          1014.685,
          1026.4633333333334,
          1020.4283333333333,
          1020.5016666666667,
          1023.6016666666666,
          1012.9266666666667,
          1030.125,
          1042.8783333333333,
          1043.9366666666667,
          1044.9683333333332,
          1045.7066666666667,
          1045.395,
          1041.5583333333334,
          1032.3,
          1033.1499999999999,
          1036.1466666666668,
          1032.4566666666667,
          1030.46,
          1021.965,
          1019.8733333333333,
          1009.4466666666667,
          994.1366666666667,
          982.1833333333334,
          989.2199999999999,
          960.18,
          938.6116666666667,
          953.7066666666666,
          948.4033333333333,
          941.94,
          935.4483333333334,
          937.3516666666666,
          944.2183333333332,
          934.2916666666666,
          928.4066666666666,
          932.6583333333333,
          934.2783333333333,
          928.5216666666666,
          921.4949999999999,
          925.3000000000001,
          916.6416666666668,
          906.8466666666667,
          890.1899999999999,
          884.2483333333333,
          879.3183333333333,
          858.4516666666667,
          847.2016666666667,
          853.945,
          852.6516666666666,
          837.4533333333334,
          841.3733333333333,
          840.0066666666667,
          847.4833333333332,
          863.1683333333334,
          867.0416666666666,
          866.2833333333333,
          853.9533333333334,
          869.6783333333333,
          884.5266666666666,
          892.1766666666667,
          896.36,
          909.83,
          920.5983333333334,
          924.0816666666666,
          932.0233333333334,
          925.9033333333333,
          925.895,
          924.7916666666666,
          910.3650000000001,
          910.2716666666666,
          901.5433333333334,
          896.2516666666667,
          902.145,
          918.005,
          921.4549999999999,
          917.2233333333334,
          923.0949999999999,
          919.2066666666666,
          920.5433333333334,
          926.6366666666668,
          942.305,
          947.0516666666666,
          950.2183333333334,
          951.5916666666667,
          938.7566666666667,
          934.4816666666667,
          925.5483333333333,
          936.6016666666666,
          952.395,
          955.4366666666666,
          972.515,
          986.7466666666668,
          1000.295,
          998.1533333333333,
          988.4,
          992.5766666666667,
          997.1016666666666,
          999.5733333333333,
          999.82,
          1003.7566666666667,
          1000.185,
          991.7283333333334,
          983.57,
          977.2083333333334,
          979.9549999999999,
          987.4516666666667,
          989.4283333333333,
          978.3666666666667,
          971.8833333333333,
          972.285,
          972.305,
          972.2533333333332,
          962.7733333333334,
          944.5716666666667,
          948.13,
          941.3316666666666,
          944.4316666666667,
          940.7333333333335,
          940.3633333333333,
          946.0616666666666,
          949.1166666666667,
          950.18,
          950.8783333333334,
          949.6366666666667,
          951.2033333333334,
          958.3116666666666,
          966.8249999999999,
          972.6516666666666,
          974.4166666666666,
          974.1316666666667,
          979.145,
          977.21,
          973.9316666666667,
          978.4416666666666,
          987.75,
          1001.6733333333333,
          998.6683333333334,
          998.6666666666666,
          998.3466666666667,
          995.5016666666667,
          999.6566666666666,
          1017.04,
          1024.7166666666667,
          1030.3266666666666,
          1028.4983333333332,
          1029.1533333333334,
          1023.7416666666667,
          1012.5816666666666,
          1000.79,
          1003.7016666666667,
          1003.285,
          1002.1583333333333,
          1007.0716666666667,
          1009.745,
          1014.14,
          1021.835,
          1029.6333333333334,
          1036.9750000000001,
          1041.51,
          1057.8183333333334,
          1075.0533333333333,
          1080.7933333333333,
          1082.7016666666666,
          1081.3233333333333,
          1079.3683333333333,
          1074.79,
          1076.9516666666666,
          1077.3383333333334,
          1074.0616666666667,
          1072.2766666666666,
          1074.9666666666667,
          1072.6783333333333,
          1072.3716666666667,
          1072.5883333333334,
          1077.2266666666667,
          1081.8866666666665,
          1085.4766666666667,
          1087.065,
          1086.7783333333334,
          1096.1483333333333,
          1118.32,
          1117.0266666666666,
          1116.1266666666668,
          1112.82,
          1105.6299999999999,
          1098.2483333333332,
          1085.9066666666665,
          1066.14,
          1049.5800000000002,
          1034.19,
          1026.8116666666667,
          1025.4233333333334,
          1027.0066666666667,
          1035.64,
          1039.1933333333334,
          1031.6316666666667,
          1038.9033333333334,
          1048.1516666666666,
          1056.39,
          1058.215,
          1062.0633333333333,
          1062.19,
          1062.1833333333334,
          1064.43,
          1069.465,
          1074.6283333333333,
          1077.8916666666667,
          1087.4766666666667,
          1083.5449999999998,
          1081.3700000000001,
          1085.5933333333335,
          1081.0083333333334,
          1075.615,
          1055.2583333333334,
          1049.655,
          1051.6883333333333,
          1056.7866666666666,
          1055.7466666666667,
          1064.9383333333333,
          1056.6033333333332,
          1055.22,
          1054.6033333333332,
          1040.0483333333334,
          1037.1783333333333,
          1038.195,
          1032.3966666666668,
          1037.5816666666667,
          1042.4283333333333,
          1055.5816666666667,
          1055.9016666666666,
          1053.0666666666666,
          1051.5766666666666,
          1048.6483333333333,
          1051.0016666666668,
          1049.605,
          1052.485,
          1052.35,
          1054.0116666666665,
          1057.5016666666668,
          1061.5166666666667,
          1063.6033333333332,
          1080.315,
          1091.28,
          1081.9183333333333,
          1073.6899999999998,
          1062.09,
          1045.1716666666669,
          1042.4483333333333,
          1042.7416666666666,
          1017.5566666666667,
          1010.0100000000001,
          966.9133333333333,
          938.8449999999999,
          932.6116666666667,
          910.9516666666667,
          910.6566666666666,
          897.5533333333333,
          872.395,
          868.27,
          870.7666666666668,
          875.3333333333334,
          892.7066666666666,
          893.8233333333333,
          900.6183333333333,
          900.6283333333334,
          909.0666666666666,
          913.0433333333334,
          918.1216666666666,
          919.2800000000001,
          914.4949999999999,
          913.775,
          909.7399999999999,
          909.2183333333334,
          909.5616666666666,
          908.9783333333334,
          907.7216666666667,
          901.2550000000001,
          894.165,
          896.2683333333334,
          893.685,
          893.985,
          898.0483333333333,
          898.6266666666667,
          896.9549999999999,
          888.6766666666666,
          889.0366666666667,
          898.9566666666666,
          903.8566666666667,
          917.6483333333334,
          922.8616666666667,
          928.3783333333332,
          938.505,
          941.1933333333333,
          944.2183333333334,
          953.245,
          966.6133333333333,
          972.5799999999999,
          973.34,
          986.4916666666667,
          997.8000000000001,
          1011.4216666666666,
          1024.0516666666665,
          1032.0266666666666,
          1041.2033333333334,
          1037.8133333333333,
          1033.3333333333333,
          1034.7116666666668,
          1032.6683333333333,
          1039.0416666666667,
          1036.6483333333333,
          1039.3333333333333,
          1044.625,
          1044.1299999999999,
          1039.385,
          1039.9583333333333,
          1048.2083333333333,
          1053.3833333333334,
          1062.5616666666667,
          1069.3083333333334,
          1077.425,
          1082.86,
          1086.85,
          1084.55,
          1087.3733333333332,
          1083.5466666666669,
          1083.76,
          1075.48,
          1082.4683333333335,
          1090.02,
          1092.785,
          1101.54,
          1112.8616666666667,
          1129.2450000000001,
          1156.0600000000002,
          1179.2966666666666,
          1187.3300000000002,
          1188.5033333333333,
          1184.9266666666665,
          1189.1183333333333,
          1186.3700000000001,
          1189.2266666666667,
          1167.19,
          1169.4683333333332,
          1167.8116666666667,
          1168.5133333333333,
          1172.73,
          1185.3700000000001,
          1196.8966666666668,
          1216.6166666666668,
          1229.4433333333334,
          1246.76,
          1254.6533333333334,
          1262.5866666666668,
          1289.515,
          1381.5133333333333,
          1509.4066666666668,
          1478.256666666667,
          1403.6133333333335,
          1354.1066666666668,
          1333.6333333333334,
          1345.9833333333333,
          1352.8799999999999,
          1372.9583333333333,
          1379.1016666666667,
          1376.3999999999999,
          1383.795,
          1394.71,
          1432.875,
          1476.1049999999998,
          1499,
          1504.2466666666667,
          1489.375,
          1476.1916666666666,
          1445.6966666666667,
          1422.18,
          1406.01,
          1364.5466666666666,
          1347.0966666666666,
          1345.82,
          1380.8400000000001,
          1370.7299999999998,
          1352.0583333333332,
          1331.1899999999998,
          1322.7133333333334,
          1313.8833333333334,
          1354.875,
          1378.2866666666666,
          1366.9666666666665,
          1358.7983333333334
         ],
         "yaxis": "y"
        }
       ],
       "layout": {
        "font": {
         "family": "Courier New",
         "size": 13
        },
        "height": 500,
        "images": [
         {
          "sizex": 0.25,
          "sizey": 0.25,
          "sizing": "contain",
          "source": "https://raw.githubusercontent.com/nonameHiHiHi/SavePicture/main/Flag_of_Italy.png",
          "x": 1,
          "xanchor": "right",
          "xref": "paper",
          "y": 1,
          "yanchor": "bottom",
          "yref": "paper"
         }
        ],
        "legend": {
         "tracegroupgap": 0
        },
        "margin": {
         "t": 130
        },
        "paper_bgcolor": "#F4F2F0",
        "plot_bgcolor": "#F4F2F0",
        "template": {
         "data": {
          "bar": [
           {
            "error_x": {
             "color": "rgb(36,36,36)"
            },
            "error_y": {
             "color": "rgb(36,36,36)"
            },
            "marker": {
             "line": {
              "color": "white",
              "width": 0.5
             },
             "pattern": {
              "fillmode": "overlay",
              "size": 10,
              "solidity": 0.2
             }
            },
            "type": "bar"
           }
          ],
          "barpolar": [
           {
            "marker": {
             "line": {
              "color": "white",
              "width": 0.5
             },
             "pattern": {
              "fillmode": "overlay",
              "size": 10,
              "solidity": 0.2
             }
            },
            "type": "barpolar"
           }
          ],
          "carpet": [
           {
            "aaxis": {
             "endlinecolor": "rgb(36,36,36)",
             "gridcolor": "white",
             "linecolor": "white",
             "minorgridcolor": "white",
             "startlinecolor": "rgb(36,36,36)"
            },
            "baxis": {
             "endlinecolor": "rgb(36,36,36)",
             "gridcolor": "white",
             "linecolor": "white",
             "minorgridcolor": "white",
             "startlinecolor": "rgb(36,36,36)"
            },
            "type": "carpet"
           }
          ],
          "choropleth": [
           {
            "colorbar": {
             "outlinewidth": 1,
             "tickcolor": "rgb(36,36,36)",
             "ticks": "outside"
            },
            "type": "choropleth"
           }
          ],
          "contour": [
           {
            "colorbar": {
             "outlinewidth": 1,
             "tickcolor": "rgb(36,36,36)",
             "ticks": "outside"
            },
            "colorscale": [
             [
              0,
              "#440154"
             ],
             [
              0.1111111111111111,
              "#482878"
             ],
             [
              0.2222222222222222,
              "#3e4989"
             ],
             [
              0.3333333333333333,
              "#31688e"
             ],
             [
              0.4444444444444444,
              "#26828e"
             ],
             [
              0.5555555555555556,
              "#1f9e89"
             ],
             [
              0.6666666666666666,
              "#35b779"
             ],
             [
              0.7777777777777778,
              "#6ece58"
             ],
             [
              0.8888888888888888,
              "#b5de2b"
             ],
             [
              1,
              "#fde725"
             ]
            ],
            "type": "contour"
           }
          ],
          "contourcarpet": [
           {
            "colorbar": {
             "outlinewidth": 1,
             "tickcolor": "rgb(36,36,36)",
             "ticks": "outside"
            },
            "type": "contourcarpet"
           }
          ],
          "heatmap": [
           {
            "colorbar": {
             "outlinewidth": 1,
             "tickcolor": "rgb(36,36,36)",
             "ticks": "outside"
            },
            "colorscale": [
             [
              0,
              "#440154"
             ],
             [
              0.1111111111111111,
              "#482878"
             ],
             [
              0.2222222222222222,
              "#3e4989"
             ],
             [
              0.3333333333333333,
              "#31688e"
             ],
             [
              0.4444444444444444,
              "#26828e"
             ],
             [
              0.5555555555555556,
              "#1f9e89"
             ],
             [
              0.6666666666666666,
              "#35b779"
             ],
             [
              0.7777777777777778,
              "#6ece58"
             ],
             [
              0.8888888888888888,
              "#b5de2b"
             ],
             [
              1,
              "#fde725"
             ]
            ],
            "type": "heatmap"
           }
          ],
          "heatmapgl": [
           {
            "colorbar": {
             "outlinewidth": 1,
             "tickcolor": "rgb(36,36,36)",
             "ticks": "outside"
            },
            "colorscale": [
             [
              0,
              "#440154"
             ],
             [
              0.1111111111111111,
              "#482878"
             ],
             [
              0.2222222222222222,
              "#3e4989"
             ],
             [
              0.3333333333333333,
              "#31688e"
             ],
             [
              0.4444444444444444,
              "#26828e"
             ],
             [
              0.5555555555555556,
              "#1f9e89"
             ],
             [
              0.6666666666666666,
              "#35b779"
             ],
             [
              0.7777777777777778,
              "#6ece58"
             ],
             [
              0.8888888888888888,
              "#b5de2b"
             ],
             [
              1,
              "#fde725"
             ]
            ],
            "type": "heatmapgl"
           }
          ],
          "histogram": [
           {
            "marker": {
             "line": {
              "color": "white",
              "width": 0.6
             }
            },
            "type": "histogram"
           }
          ],
          "histogram2d": [
           {
            "colorbar": {
             "outlinewidth": 1,
             "tickcolor": "rgb(36,36,36)",
             "ticks": "outside"
            },
            "colorscale": [
             [
              0,
              "#440154"
             ],
             [
              0.1111111111111111,
              "#482878"
             ],
             [
              0.2222222222222222,
              "#3e4989"
             ],
             [
              0.3333333333333333,
              "#31688e"
             ],
             [
              0.4444444444444444,
              "#26828e"
             ],
             [
              0.5555555555555556,
              "#1f9e89"
             ],
             [
              0.6666666666666666,
              "#35b779"
             ],
             [
              0.7777777777777778,
              "#6ece58"
             ],
             [
              0.8888888888888888,
              "#b5de2b"
             ],
             [
              1,
              "#fde725"
             ]
            ],
            "type": "histogram2d"
           }
          ],
          "histogram2dcontour": [
           {
            "colorbar": {
             "outlinewidth": 1,
             "tickcolor": "rgb(36,36,36)",
             "ticks": "outside"
            },
            "colorscale": [
             [
              0,
              "#440154"
             ],
             [
              0.1111111111111111,
              "#482878"
             ],
             [
              0.2222222222222222,
              "#3e4989"
             ],
             [
              0.3333333333333333,
              "#31688e"
             ],
             [
              0.4444444444444444,
              "#26828e"
             ],
             [
              0.5555555555555556,
              "#1f9e89"
             ],
             [
              0.6666666666666666,
              "#35b779"
             ],
             [
              0.7777777777777778,
              "#6ece58"
             ],
             [
              0.8888888888888888,
              "#b5de2b"
             ],
             [
              1,
              "#fde725"
             ]
            ],
            "type": "histogram2dcontour"
           }
          ],
          "mesh3d": [
           {
            "colorbar": {
             "outlinewidth": 1,
             "tickcolor": "rgb(36,36,36)",
             "ticks": "outside"
            },
            "type": "mesh3d"
           }
          ],
          "parcoords": [
           {
            "line": {
             "colorbar": {
              "outlinewidth": 1,
              "tickcolor": "rgb(36,36,36)",
              "ticks": "outside"
             }
            },
            "type": "parcoords"
           }
          ],
          "pie": [
           {
            "automargin": true,
            "type": "pie"
           }
          ],
          "scatter": [
           {
            "fillpattern": {
             "fillmode": "overlay",
             "size": 10,
             "solidity": 0.2
            },
            "type": "scatter"
           }
          ],
          "scatter3d": [
           {
            "line": {
             "colorbar": {
              "outlinewidth": 1,
              "tickcolor": "rgb(36,36,36)",
              "ticks": "outside"
             }
            },
            "marker": {
             "colorbar": {
              "outlinewidth": 1,
              "tickcolor": "rgb(36,36,36)",
              "ticks": "outside"
             }
            },
            "type": "scatter3d"
           }
          ],
          "scattercarpet": [
           {
            "marker": {
             "colorbar": {
              "outlinewidth": 1,
              "tickcolor": "rgb(36,36,36)",
              "ticks": "outside"
             }
            },
            "type": "scattercarpet"
           }
          ],
          "scattergeo": [
           {
            "marker": {
             "colorbar": {
              "outlinewidth": 1,
              "tickcolor": "rgb(36,36,36)",
              "ticks": "outside"
             }
            },
            "type": "scattergeo"
           }
          ],
          "scattergl": [
           {
            "marker": {
             "colorbar": {
              "outlinewidth": 1,
              "tickcolor": "rgb(36,36,36)",
              "ticks": "outside"
             }
            },
            "type": "scattergl"
           }
          ],
          "scattermapbox": [
           {
            "marker": {
             "colorbar": {
              "outlinewidth": 1,
              "tickcolor": "rgb(36,36,36)",
              "ticks": "outside"
             }
            },
            "type": "scattermapbox"
           }
          ],
          "scatterpolar": [
           {
            "marker": {
             "colorbar": {
              "outlinewidth": 1,
              "tickcolor": "rgb(36,36,36)",
              "ticks": "outside"
             }
            },
            "type": "scatterpolar"
           }
          ],
          "scatterpolargl": [
           {
            "marker": {
             "colorbar": {
              "outlinewidth": 1,
              "tickcolor": "rgb(36,36,36)",
              "ticks": "outside"
             }
            },
            "type": "scatterpolargl"
           }
          ],
          "scatterternary": [
           {
            "marker": {
             "colorbar": {
              "outlinewidth": 1,
              "tickcolor": "rgb(36,36,36)",
              "ticks": "outside"
             }
            },
            "type": "scatterternary"
           }
          ],
          "surface": [
           {
            "colorbar": {
             "outlinewidth": 1,
             "tickcolor": "rgb(36,36,36)",
             "ticks": "outside"
            },
            "colorscale": [
             [
              0,
              "#440154"
             ],
             [
              0.1111111111111111,
              "#482878"
             ],
             [
              0.2222222222222222,
              "#3e4989"
             ],
             [
              0.3333333333333333,
              "#31688e"
             ],
             [
              0.4444444444444444,
              "#26828e"
             ],
             [
              0.5555555555555556,
              "#1f9e89"
             ],
             [
              0.6666666666666666,
              "#35b779"
             ],
             [
              0.7777777777777778,
              "#6ece58"
             ],
             [
              0.8888888888888888,
              "#b5de2b"
             ],
             [
              1,
              "#fde725"
             ]
            ],
            "type": "surface"
           }
          ],
          "table": [
           {
            "cells": {
             "fill": {
              "color": "rgb(237,237,237)"
             },
             "line": {
              "color": "white"
             }
            },
            "header": {
             "fill": {
              "color": "rgb(217,217,217)"
             },
             "line": {
              "color": "white"
             }
            },
            "type": "table"
           }
          ]
         },
         "layout": {
          "annotationdefaults": {
           "arrowhead": 0,
           "arrowwidth": 1
          },
          "autotypenumbers": "strict",
          "coloraxis": {
           "colorbar": {
            "outlinewidth": 1,
            "tickcolor": "rgb(36,36,36)",
            "ticks": "outside"
           }
          },
          "colorscale": {
           "diverging": [
            [
             0,
             "rgb(103,0,31)"
            ],
            [
             0.1,
             "rgb(178,24,43)"
            ],
            [
             0.2,
             "rgb(214,96,77)"
            ],
            [
             0.3,
             "rgb(244,165,130)"
            ],
            [
             0.4,
             "rgb(253,219,199)"
            ],
            [
             0.5,
             "rgb(247,247,247)"
            ],
            [
             0.6,
             "rgb(209,229,240)"
            ],
            [
             0.7,
             "rgb(146,197,222)"
            ],
            [
             0.8,
             "rgb(67,147,195)"
            ],
            [
             0.9,
             "rgb(33,102,172)"
            ],
            [
             1,
             "rgb(5,48,97)"
            ]
           ],
           "sequential": [
            [
             0,
             "#440154"
            ],
            [
             0.1111111111111111,
             "#482878"
            ],
            [
             0.2222222222222222,
             "#3e4989"
            ],
            [
             0.3333333333333333,
             "#31688e"
            ],
            [
             0.4444444444444444,
             "#26828e"
            ],
            [
             0.5555555555555556,
             "#1f9e89"
            ],
            [
             0.6666666666666666,
             "#35b779"
            ],
            [
             0.7777777777777778,
             "#6ece58"
            ],
            [
             0.8888888888888888,
             "#b5de2b"
            ],
            [
             1,
             "#fde725"
            ]
           ],
           "sequentialminus": [
            [
             0,
             "#440154"
            ],
            [
             0.1111111111111111,
             "#482878"
            ],
            [
             0.2222222222222222,
             "#3e4989"
            ],
            [
             0.3333333333333333,
             "#31688e"
            ],
            [
             0.4444444444444444,
             "#26828e"
            ],
            [
             0.5555555555555556,
             "#1f9e89"
            ],
            [
             0.6666666666666666,
             "#35b779"
            ],
            [
             0.7777777777777778,
             "#6ece58"
            ],
            [
             0.8888888888888888,
             "#b5de2b"
            ],
            [
             1,
             "#fde725"
            ]
           ]
          },
          "colorway": [
           "#1F77B4",
           "#FF7F0E",
           "#2CA02C",
           "#D62728",
           "#9467BD",
           "#8C564B",
           "#E377C2",
           "#7F7F7F",
           "#BCBD22",
           "#17BECF"
          ],
          "font": {
           "color": "rgb(36,36,36)"
          },
          "geo": {
           "bgcolor": "white",
           "lakecolor": "white",
           "landcolor": "white",
           "showlakes": true,
           "showland": true,
           "subunitcolor": "white"
          },
          "hoverlabel": {
           "align": "left"
          },
          "hovermode": "closest",
          "mapbox": {
           "style": "light"
          },
          "paper_bgcolor": "white",
          "plot_bgcolor": "white",
          "polar": {
           "angularaxis": {
            "gridcolor": "rgb(232,232,232)",
            "linecolor": "rgb(36,36,36)",
            "showgrid": false,
            "showline": true,
            "ticks": "outside"
           },
           "bgcolor": "white",
           "radialaxis": {
            "gridcolor": "rgb(232,232,232)",
            "linecolor": "rgb(36,36,36)",
            "showgrid": false,
            "showline": true,
            "ticks": "outside"
           }
          },
          "scene": {
           "xaxis": {
            "backgroundcolor": "white",
            "gridcolor": "rgb(232,232,232)",
            "gridwidth": 2,
            "linecolor": "rgb(36,36,36)",
            "showbackground": true,
            "showgrid": false,
            "showline": true,
            "ticks": "outside",
            "zeroline": false,
            "zerolinecolor": "rgb(36,36,36)"
           },
           "yaxis": {
            "backgroundcolor": "white",
            "gridcolor": "rgb(232,232,232)",
            "gridwidth": 2,
            "linecolor": "rgb(36,36,36)",
            "showbackground": true,
            "showgrid": false,
            "showline": true,
            "ticks": "outside",
            "zeroline": false,
            "zerolinecolor": "rgb(36,36,36)"
           },
           "zaxis": {
            "backgroundcolor": "white",
            "gridcolor": "rgb(232,232,232)",
            "gridwidth": 2,
            "linecolor": "rgb(36,36,36)",
            "showbackground": true,
            "showgrid": false,
            "showline": true,
            "ticks": "outside",
            "zeroline": false,
            "zerolinecolor": "rgb(36,36,36)"
           }
          },
          "shapedefaults": {
           "fillcolor": "black",
           "line": {
            "width": 0
           },
           "opacity": 0.3
          },
          "ternary": {
           "aaxis": {
            "gridcolor": "rgb(232,232,232)",
            "linecolor": "rgb(36,36,36)",
            "showgrid": false,
            "showline": true,
            "ticks": "outside"
           },
           "baxis": {
            "gridcolor": "rgb(232,232,232)",
            "linecolor": "rgb(36,36,36)",
            "showgrid": false,
            "showline": true,
            "ticks": "outside"
           },
           "bgcolor": "white",
           "caxis": {
            "gridcolor": "rgb(232,232,232)",
            "linecolor": "rgb(36,36,36)",
            "showgrid": false,
            "showline": true,
            "ticks": "outside"
           }
          },
          "title": {
           "x": 0.05
          },
          "xaxis": {
           "automargin": true,
           "gridcolor": "rgb(232,232,232)",
           "linecolor": "rgb(36,36,36)",
           "showgrid": false,
           "showline": true,
           "ticks": "outside",
           "title": {
            "standoff": 15
           },
           "zeroline": false,
           "zerolinecolor": "rgb(36,36,36)"
          },
          "yaxis": {
           "automargin": true,
           "gridcolor": "rgb(232,232,232)",
           "linecolor": "rgb(36,36,36)",
           "showgrid": false,
           "showline": true,
           "ticks": "outside",
           "title": {
            "standoff": 15
           },
           "zeroline": false,
           "zerolinecolor": "rgb(36,36,36)"
          }
         }
        },
        "title": {
         "font": {
          "family": "Courier New",
          "size": 22
         },
         "text": "<b>Average price value of all types of fuel (2005-2022) in Italy</b><br>(Range Slider and Selectors)",
         "x": 0.9,
         "y": 0.95
        },
        "width": 1000,
        "xaxis": {
         "anchor": "y",
         "domain": [
          0,
          1
         ],
         "rangeselector": {
          "buttons": [
           {
            "label": "2005-2022",
            "step": "all"
           },
           {
            "count": 1,
            "label": "last year",
            "step": "year",
            "stepmode": "backward"
           },
           {
            "count": 6,
            "label": "last 6 month",
            "step": "month",
            "stepmode": "backward"
           },
           {
            "count": 1,
            "label": "last 30 days",
            "step": "month",
            "stepmode": "backward"
           }
          ]
         },
         "rangeslider": {
          "visible": true
         },
         "title": {
          "text": "<b>Time</b>"
         }
        },
        "yaxis": {
         "anchor": "x",
         "domain": [
          0,
          1
         ],
         "title": {
          "text": "<b>Average Price</b>"
         }
        }
       }
      }
     },
     "metadata": {},
     "output_type": "display_data"
    }
   ],
   "source": [
    "# Xử lý dữ liệu, tạo dữ liệu cần thiết\n",
    "df4=df.copy()\n",
    "df4 = df4[['SURVEY_DATE', 'PRICE']].groupby('SURVEY_DATE', as_index = False).mean()\n",
    "df4 = df4.sort_values(by = 'SURVEY_DATE')\n",
    "\n",
    "# Tiến hành trực quan hóa dữ liệu\n",
    "colors = ['#5F78A8']\n",
    "\n",
    "fig = px.area(x = df4['SURVEY_DATE'],\n",
    "              y = df4['PRICE'],\n",
    "              template = 'simple_white',\n",
    "              color_discrete_sequence = colors,\n",
    "             )\n",
    "\n",
    "# layout\n",
    "fig.update_layout(\n",
    "    yaxis_title = \"<b>Average Price</b>\",\n",
    "    xaxis_title=\"<b>Time</b>\",\n",
    "    font = dict(\n",
    "            size = 13,\n",
    "            family=\"Courier New\"\n",
    "            ),    \n",
    "    title={\n",
    "        'text': \"<b>Average price value of all types of fuel (2005-2022) in Italy</b><br>(Range Slider and Selectors)\",\n",
    "        'y':0.95,\n",
    "        'x':0.9\n",
    "        },\n",
    "    titlefont = dict(size = 22, family=\"Courier New\"),\n",
    "                  height = 500,\n",
    "                  width = 1000,\n",
    "                  paper_bgcolor='#F4F2F0', plot_bgcolor='#F4F2F0',\n",
    "                  margin=dict(t=130 ,)\n",
    ")\n",
    "\n",
    "fig.update_xaxes(\n",
    "    rangeslider_visible=True,\n",
    "    rangeselector=dict(\n",
    "        buttons=list([\n",
    "            dict(step=\"all\", label=\"2005-2022\"),\n",
    "            dict(count=1, label=\"last year\", step=\"year\", stepmode=\"backward\"),\n",
    "            dict(count=6, label=\"last 6 month\", step=\"month\", stepmode=\"backward\"),\n",
    "            dict(count=1, label=\"last 30 days\", step=\"month\", stepmode=\"backward\")\n",
    "        ])\n",
    "    )\n",
    ")\n",
    "\n",
    "fig.add_layout_image(\n",
    "    dict(\n",
    "        source=\"https://raw.githubusercontent.com/nonameHiHiHi/SavePicture/main/Flag_of_Italy.png\",\n",
    "        xref=\"paper\",\n",
    "        yref=\"paper\",\n",
    "        x=1, y=1,\n",
    "        sizex=0.25, sizey=0.25,\n",
    "        xanchor=\"right\", yanchor=\"bottom\", sizing= \"contain\",\n",
    "    )\n",
    ")\n",
    "\n",
    "\n",
    "fig.show()"
   ]
  },
  {
   "cell_type": "markdown",
   "metadata": {},
   "source": [
    "**Kỹ thuật trực quan sử dụng:**\n",
    "\n",
    "- Manipulate View: sử dụng tính năng bộ lọc để cho kép người dùng thực hiện các thao tác trực tiếp trên biểu đồ để thay đổi thông tin hiển thị. Ở đây bộ lọc có chức năng thể hiện giá cả trung bình của xăng dầu theo:\n",
    "    - Toàn bộ khoảng thời gian từ 2005-2022\n",
    "    - Trong vòng 30 ngày trước\n",
    "    - Trong vòng 6 tháng trước\n",
    "    - Trong vòng 1 năm trước\n",
    "    \n",
    "- Manipulate View: tương tác trực tiếp với đồ thị bằng cách trỏ chuột vào điểm dữ liệu trên đường, nó sẽ hiện lên giá cả trung bình của các loại xăng dầu tương ứng với mốc thời gian trỏ chuột. \n",
    "\n",
    "=> Những kỹ thuật này giúp đồ thị giữ được sự rõ ràng và tinh gọn, cho phép người thấy được thông tin chi tiết khi có nhu cầu muốn xem."
   ]
  },
  {
   "cell_type": "markdown",
   "metadata": {},
   "source": [
    "**Nhận xét:**\n",
    "\n",
    "- Từ năm 2005-2022: giá cả trung bình trong thị trường xăng dầu tại Ý biến thiên liên tục.\n",
    "\n",
    "- Khi thu hẹp phạm vi quan sát lại thành 6 tháng hay 30 ngày thì mức độ giao động giá cả thấp (chênh lệch nhau ít). Cho thấy giá cả xăng dầu ở thời điểm quan sát gần đây (trong năm 2022) ở Ý khá bình ổn. \n",
    "\n",
    "=> Thị trường xăng dầu biến động mạnh khi chịu ảnh hưởng của nhiều yếu tố khác trong một khoảng thời gian dài."
   ]
  },
  {
   "attachments": {},
   "cell_type": "markdown",
   "metadata": {},
   "source": [
    "#### Câu hỏi 5: Sự thay đổi giá nhiên liệu theo thời gian?\n",
    "\n",
    "***Loại biểu đồ sử dụng:*** Line chart\n"
   ]
  },
  {
   "cell_type": "code",
   "execution_count": 26,
   "metadata": {},
   "outputs": [
    {
     "data": {
      "application/javascript": "if (window.IpyVizzu) { window.IpyVizzu.clearInhibitScroll(element); }"
     },
     "metadata": {},
     "output_type": "display_data"
    },
    {
     "data": {
      "image/png": "[encoded data removed]",
      "text/plain": [
       "<Figure size 720x432 with 1 Axes>"
      ]
     },
     "metadata": {},
     "output_type": "display_data"
    }
   ],
   "source": [
    "df['SURVEY_DATE'] = pd.to_datetime(df['SURVEY_DATE'])\n",
    "\n",
    "# Group data by date and find the average price for each week\n",
    "weekly_prices = df.groupby(pd.Grouper(key='SURVEY_DATE', freq='W-MON'))[['PRICE']].mean()\n",
    "\n",
    "# Plot the line chart\n",
    "fig, ax = plt.subplots(figsize=(10, 6))\n",
    "ax.plot(weekly_prices.index, weekly_prices['PRICE'], color='blue')\n",
    "ax.set_title('Weekly Fuel Prices in Italy')\n",
    "ax.set_xlabel('Date')\n",
    "ax.set_ylabel('Price (Euro/Liter)')\n",
    "plt.show()"
   ]
  },
  {
   "attachments": {},
   "cell_type": "markdown",
   "metadata": {},
   "source": [
    "****Để trả lời câu hỏi này, chúng ta có thể sử dụng biểu đồ đường (line chart) để minh họa sự thay đổi giá nhiên liệu theo thời gian. Chúng ta sẽ xếp thời gian trên trục x và giá nhiên liệu trên trục y. Với biểu đồ này, ta có thể quan sát được xu hướng tăng hoặc giảm của giá nhiên liệu qua các thời điểm khác nhau. Đây là một biểu đồ rất hữu ích để đánh giá sự thay đổi của giá nhiên liệu theo thời gian.****"
   ]
  },
  {
   "attachments": {},
   "cell_type": "markdown",
   "metadata": {},
   "source": [
    "### Câu hỏi 6:  Phân phối giá nhiên liệu theo loại sản phẩm?\n"
   ]
  },
  {
   "attachments": {},
   "cell_type": "markdown",
   "metadata": {},
   "source": [
    "***Loại biểu đồ sử dụng:***  Biểu đồ violin là một dạng biểu đồ tương tự như box plot, cho phép chúng ta trực quan hóa phân phối dữ liệu và cũng cung cấp thông tin về mật độ xác suất của các giá trị dữ liệu."
   ]
  },
  {
   "attachments": {},
   "cell_type": "markdown",
   "metadata": {},
   "source": [
    "\n",
    "****Để trả lời câu hỏi này, chúng ta có thể sử dụng biểu đồ violin (violin plot) để so sánh phân phối giá nhiên liệu giữa các loại sản phẩm khác nhau. Biểu đồ violin sẽ cho chúng ta thấy phân phối của dữ liệu ở mỗi loại sản phẩm dưới dạng một cái đàn violin.****"
   ]
  },
  {
   "cell_type": "code",
   "execution_count": 27,
   "metadata": {},
   "outputs": [
    {
     "data": {
      "application/javascript": "if (window.IpyVizzu) { window.IpyVizzu.clearInhibitScroll(element); }"
     },
     "metadata": {},
     "output_type": "display_data"
    },
    {
     "data": {
      "image/png": "[encoded data removed]",
      "text/plain": [
       "<Figure size 720x432 with 1 Axes>"
      ]
     },
     "metadata": {},
     "output_type": "display_data"
    }
   ],
   "source": [
    "fig, ax = plt.subplots(figsize=(10, 6))\n",
    "sns.violinplot(x='PRODUCT_NAME', y='PRICE', data=df, ax=ax)\n",
    "ax.set_title('Fuel Price Distribution by Product Name')\n",
    "ax.set_xlabel('Product Name')\n",
    "ax.set_ylabel('Price (Euro/Liter)')\n",
    "plt.show()"
   ]
  },
  {
   "attachments": {},
   "cell_type": "markdown",
   "metadata": {},
   "source": [
    "***Nhận xét:***  \n",
    " - Lý do chúng ta sử dụng biểu đồ violin trong trường hợp này là để hiển thị sự phân bố của giá nhiên liệu cho từng loại sản phẩm và so sánh sự khác biệt giữa các sản phẩm. Biểu đồ violin cho phép chúng ta hiển thị phân phối dữ liệu bằng cách vẽ các hình dạng violin đối xứng cho mỗi loại sản phẩm. Hình dạng của các violin được xây dựng dựa trên kernel density estimation (KDE) - một phương pháp ước tính hàm mật độ xác suất (PDF) dựa trên dữ liệu mẫu."
   ]
  },
  {
   "attachments": {},
   "cell_type": "markdown",
   "metadata": {},
   "source": [
    "#### Câu hỏi 7: Sự tương quan giữa giá nhiên liệu và tỷ lệ VAT/Excise.\n"
   ]
  },
  {
   "attachments": {},
   "cell_type": "markdown",
   "metadata": {},
   "source": [
    "***Biểu đồ được chọn và lý do:*** \n",
    " - Để trực quan hóa mối quan hệ giữa giá nhiên liệu và tỷ lệ VAT/Excise, chúng ta có thể sử dụng biểu đồ scatter plot với các điểm được mã màu theo một biến thứ ba - ở đây là loại sản phẩm. Biểu đồ này được gọi là bubble chart, cho phép chúng ta biểu diễn ba biến trên cùng một biểu đồ và thể hiện sự khác biệt giữa các loại sản phẩm."
   ]
  },
  {
   "cell_type": "code",
   "execution_count": 28,
   "metadata": {},
   "outputs": [
    {
     "data": {
      "application/javascript": "if (window.IpyVizzu) { window.IpyVizzu.clearInhibitScroll(element); }"
     },
     "metadata": {},
     "output_type": "display_data"
    },
    {
     "data": {
      "image/png": "[encoded data removed]",
      "text/plain": [
       "<Figure size 432x288 with 1 Axes>"
      ]
     },
     "metadata": {},
     "output_type": "display_data"
    }
   ],
   "source": [
    "sns.scatterplot(x=\"VAT\", y=\"EXCISE\", size=\"NET\", hue=\"PRODUCT_NAME\", data=df)\n",
    "\n",
    "# set axis labels and title\n",
    "plt.xlabel(\"VAT\")\n",
    "plt.ylabel(\"Excise\")\n",
    "plt.title(\"Correlation between Fuel Price, VAT and Excise by Product in Italy\")\n",
    "\n",
    "# show plot\n",
    "plt.show()"
   ]
  },
  {
   "attachments": {},
   "cell_type": "markdown",
   "metadata": {},
   "source": [
    "***Nhận xét:***\n",
    " - Lý do chúng ta sử dụng biểu đồ bubble chart trong trường hợp này là để hiển thị sự tương quan giữa giá nhiên liệu và tỷ lệ VAT/Excise cho từng loại sản phẩm và so sánh sự khác biệt giữa các sản phẩm. Biểu đồ bubble chart cho phép chúng ta biểu diễn hai biến số lên trục hoành và tung, còn biến thứ ba được mã màu và kích thước của hình tròn. Sự khác biệt giữa các loại sản phẩm sẽ được thể hiện bằng kích thước của hình tròn và màu sắc khác nhau."
   ]
  },
  {
   "attachments": {},
   "cell_type": "markdown",
   "metadata": {},
   "source": [
    "#### Câu hỏi 8: Hãy áp dụng mô hình hồi quy tuyến tính cho giá xăng dầu trung bình ở Ý.\n",
    "\n",
    "**Loại biểu đồ sử dụng:** Biểu đồ dot plot\n",
    "\n",
    "**Tính phù hợp của biểu đồ với dữ liệu:** \n",
    "\n",
    "- Biểu đồ Dot Plot rất phù hợp để trực quan hóa các mô hình thuật toán máy học. Điều này bởi vì dot plot cho phép trực quan hóa các quan hệ tuyến tính giữa các biến, cho phép chúng ta dễ dàng nhận ra sự phụ thuộc tuyến tính giữa biến đầu vào và biến đầu ra. Khi biểu đồ được vẽ, ta có thể dễ dàng nhận thấy các giá trị outlier, các điểm dữ liệu bất thường, giúp ta xác định được những điểm cần xử lý hoặc loại bỏ khỏi dữ liệu để cải thiện kết quả mô hình.\n",
    "\n",
    "- Ngoài ra, dot plot cũng giúp ta kiểm tra tính tuyến tính của quan hệ giữa biến đầu vào và biến đầu ra, tức là xác định xem liệu mối quan hệ có phải là một hàm tuyến tính hay không. Khi mô hình hồi quy tuyến tính được áp dụng, ta sẽ sử dụng đường thẳng hồi quy để mô tả mối quan hệ tuyến tính giữa biến đầu vào và biến đầu ra. Dot plot cho phép ta đánh giá độ phù hợp của mô hình hồi quy tuyến tính bằng cách so sánh các giá trị thực tế và dự đoán của biến đầu ra trên cùng một đồ thị, từ đó đánh giá được chất lượng của mô hình và đưa ra các cải tiến cho mô hình để tối ưu hóa dự đoán.\n",
    "\n",
    "**Áp dụng mô hình và trực quan hóa:**"
   ]
  },
  {
   "attachments": {},
   "cell_type": "markdown",
   "metadata": {},
   "source": [
    "Trước hết, ta sẽ tiền xử lí dữ liệu bằng cách tính trung bình giá cả xăng dầu, loại bỏ các dữ liệu NaN, lưu vào dataframe mới tên là avg_price."
   ]
  },
  {
   "cell_type": "code",
   "execution_count": 101,
   "metadata": {},
   "outputs": [
    {
     "data": {
      "application/javascript": "if (window.IpyVizzu) { window.IpyVizzu.clearInhibitScroll(element); }"
     },
     "metadata": {},
     "output_type": "display_data"
    }
   ],
   "source": [
    "df['SURVEY_DATE'] = pd.to_datetime(df['SURVEY_DATE'])\n",
    "avg_price = df.groupby(pd.Grouper(key='SURVEY_DATE', freq='W-MON'))[['PRICE']].mean().reset_index(drop = False)\n",
    "avg_price.dropna(inplace=True)"
   ]
  },
  {
   "attachments": {},
   "cell_type": "markdown",
   "metadata": {},
   "source": [
    "Để áp dụng Linear Regression, ta sẽ import LinearRegression từ sklearn. Sau đó thực hiện chạy  mô hình.\n",
    "\n",
    "Lưu ý: Trong mô hình này, X có kiểu dữ liệu là datetime, mà kiểu dữ liệu này không đúng với tham số trong mô hình. Do đó ta cần chuyển kiểu dữ liệu về dạng ordinal như số nguyên để xử lý, sau khi xử lý xong thì ta sẽ vẽ biểu đồ, khi đó chuyển lại về dữ liệu datetime."
   ]
  },
  {
   "cell_type": "code",
   "execution_count": 110,
   "metadata": {},
   "outputs": [
    {
     "data": {
      "application/javascript": "if (window.IpyVizzu) { window.IpyVizzu.clearInhibitScroll(element); }"
     },
     "metadata": {},
     "output_type": "display_data"
    }
   ],
   "source": [
    "from sklearn.linear_model import LinearRegression\n",
    "\n",
    "# Chuyển đổi kiểu dữ liệu của X từ datetime64 sang ordinal\n",
    "X = avg_price['SURVEY_DATE'].apply(lambda x: x.toordinal())\n",
    "Y = avg_price['PRICE']\n",
    "\n",
    "# Tạo model Linear Regression\n",
    "regressor = LinearRegression()\n",
    "regressor.fit(X.values.reshape(-1, 1), Y)\n",
    "\n",
    "# Dự đoán giá tiền với mô hình Linear Regression\n",
    "Y_pred = regressor.predict(X.values.reshape(-1, 1))\n",
    "\n",
    "# Chuyển đổi kiểu dữ liệu của X từ ordinal sang datetime để vẽ biểu đồ\n",
    "X_plot = avg_price['SURVEY_DATE']"
   ]
  },
  {
   "attachments": {},
   "cell_type": "markdown",
   "metadata": {},
   "source": [
    "Cuối cùng, ta sẽ vẽ biểu đồ để trực quan hóa mô hình trên. Để đơn giản, ta sẽ dùng matplotlib."
   ]
  },
  {
   "cell_type": "code",
   "execution_count": 112,
   "metadata": {},
   "outputs": [
    {
     "data": {
      "application/javascript": "if (window.IpyVizzu) { window.IpyVizzu.clearInhibitScroll(element); }"
     },
     "metadata": {},
     "output_type": "display_data"
    },
    {
     "data": {
      "image/png": "[encoded data removed]",
      "text/plain": [
       "<Figure size 720x432 with 1 Axes>"
      ]
     },
     "metadata": {},
     "output_type": "display_data"
    }
   ],
   "source": [
    "# Vẽ biểu đồ\n",
    "plt.figure(figsize=(10, 6))\n",
    "plt.scatter(X_plot, Y, color='blue', s=10)\n",
    "plt.scatter(X_plot[Y.isna()], Y_pred[Y.isna()], color='red', s=10)\n",
    "plt.plot(X_plot, Y_pred, color='green')\n",
    "plt.xlabel('Survey Date')\n",
    "plt.ylabel('Price')\n",
    "plt.title('Applying Linear Regression for Price')\n",
    "plt.legend(['Regression Line', 'Actual Prices', 'Predicted Prices'])\n",
    "plt.show()"
   ]
  },
  {
   "cell_type": "code",
   "execution_count": 114,
   "metadata": {},
   "outputs": [
    {
     "data": {
      "application/javascript": "if (window.IpyVizzu) { window.IpyVizzu.clearInhibitScroll(element); }"
     },
     "metadata": {},
     "output_type": "display_data"
    },
    {
     "name": "stdout",
     "output_type": "stream",
     "text": [
      "Mean squared error: 16959.81\n",
      "Coefficient of determination: 0.24\n"
     ]
    }
   ],
   "source": [
    "# Tính các sai số trong mô hình\n",
    "from sklearn.metrics import mean_squared_error, r2_score\n",
    "print('Mean squared error: %.2f'\n",
    "      % mean_squared_error(Y, Y_pred))\n",
    "print('Coefficient of determination: %.2f'\n",
    "      % r2_score(Y, Y_pred))"
   ]
  },
  {
   "attachments": {},
   "cell_type": "markdown",
   "metadata": {},
   "source": [
    "**Giải thích:**\n",
    "\n",
    "- **Mean squared error (MSE)** là độ đo sai số trung bình của mô hình. Giá trị MSE càng thấp thì mô hình càng chính xác. MSE tính bằng cách lấy tổng bình phương của sai số giữa giá trị thực tế và giá trị dự đoán, sau đó chia cho số lượng mẫu. MSE trong mô hình là 16959.81, khá cao, do đó mô hình kém chính xác.\n",
    "\n",
    "- **Coefficient of determination (R-squared)** là một độ đo đánh giá mức độ giải thích của một mô hình hồi quy tuyến tính. Nó đo lường phần trăm của sự biến thiên của biến phụ thuộc mà mô hình có thể giải thích được bằng các biến độc lập. R2 có giá trị từ 0 đến 1, trong đó giá trị 1 thể hiện một mô hình hoàn hảo, mô hình giải thích được 100% sự biến thiên của biến phụ thuộc. R2 càng gần 1 thì mô hình càng tốt, còn nếu R2 gần 0 thì mô hình không tốt. R-square của mô hình là 0.24, điều này có nghĩa là mô hình chỉ giải thích được 24% sự biến thiên của giá tiền. Điều này cho thấy mô hình không phải là một mô hình tốt để dự đoán giá trị của biến phụ thuộc."
   ]
  },
  {
   "attachments": {},
   "cell_type": "markdown",
   "metadata": {},
   "source": [
    "**Nhận xét chung:** Như vậy, đối với dữ liệu trong bài tập này, nếu áp dụng mô hình hồi quy tuyến tính thì sẽ cho ra kết quả khá thấp. Ta nên tìm kiếm và áp dụng các mô hình khác."
   ]
  },
  {
   "cell_type": "markdown",
   "metadata": {},
   "source": [
    "## Tài liệu tham khảo: \n",
    "\n",
    "https://www.kaggle.com/code/atrisaxena/animated-way-of-visualization-ipyvizzu\n",
    "\n",
    "https://www.kaggle.com/code/bhuvanchennoju/data-science-salaries-plotly-tableau\n"
   ]
  }
 ],
 "metadata": {
  "kernelspec": {
   "display_name": "Python 3 (ipykernel)",
   "language": "python",
   "name": "python3"
  },
  "language_info": {
   "codemirror_mode": {
    "name": "ipython",
    "version": 3
   },
   "file_extension": ".py",
   "mimetype": "text/x-python",
   "name": "python",
   "nbconvert_exporter": "python",
   "pygments_lexer": "ipython3",
   "version": "3.9.16"
  }
 },
 "nbformat": 4,
 "nbformat_minor": 2
}
